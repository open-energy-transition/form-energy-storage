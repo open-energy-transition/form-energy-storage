{
 "cells": [
  {
   "cell_type": "code",
   "execution_count": 2,
   "metadata": {
    "collapsed": true,
    "is_executing": true
   },
   "outputs": [],
   "source": [
    "import pypsa\n",
    "import pandas as pd"
   ]
  },
  {
   "cell_type": "markdown",
   "metadata": {
    "collapsed": false
   },
   "source": [
    "# Process and analysis"
   ]
  },
  {
   "cell_type": "markdown",
   "metadata": {},
   "source": [
    "## Network without NEP"
   ]
  },
  {
   "cell_type": "code",
   "execution_count": 3,
   "metadata": {},
   "outputs": [
    {
     "name": "stderr",
     "output_type": "stream",
     "text": [
      "INFO:pypsa.io:Imported network base_s_52_lv1.17___2035.nc has buses, carriers, generators, global_constraints, lines, links, loads, storage_units, stores\n"
     ]
    }
   ],
   "source": [
    "n_no_nep = pypsa.Network(\"../results/test_scenario_wo_nep/prenetworks-brownfield/base_s_52_lv1.17___2035.nc\")"
   ]
  },
  {
   "cell_type": "code",
   "execution_count": 4,
   "metadata": {},
   "outputs": [],
   "source": [
    "ac_lines = n_no_nep.lines"
   ]
  },
  {
   "cell_type": "code",
   "execution_count": 5,
   "metadata": {},
   "outputs": [
    {
     "data": {
      "text/plain": [
       "135576.78876656335"
      ]
     },
     "execution_count": 5,
     "metadata": {},
     "output_type": "execute_result"
    }
   ],
   "source": [
    "line_cap = ac_lines.s_nom.mul(ac_lines.length).div(1e3).sum()\n",
    "line_cap"
   ]
  },
  {
   "cell_type": "code",
   "execution_count": 6,
   "metadata": {},
   "outputs": [
    {
     "data": {
      "text/html": [
       "<div>\n",
       "<style scoped>\n",
       "    .dataframe tbody tr th:only-of-type {\n",
       "        vertical-align: middle;\n",
       "    }\n",
       "\n",
       "    .dataframe tbody tr th {\n",
       "        vertical-align: top;\n",
       "    }\n",
       "\n",
       "    .dataframe thead th {\n",
       "        text-align: right;\n",
       "    }\n",
       "</style>\n",
       "<table border=\"1\" class=\"dataframe\">\n",
       "  <thead>\n",
       "    <tr style=\"text-align: right;\">\n",
       "      <th></th>\n",
       "      <th>bus0</th>\n",
       "      <th>bus1</th>\n",
       "      <th>type</th>\n",
       "      <th>carrier</th>\n",
       "      <th>efficiency</th>\n",
       "      <th>active</th>\n",
       "      <th>build_year</th>\n",
       "      <th>lifetime</th>\n",
       "      <th>p_nom</th>\n",
       "      <th>p_nom_mod</th>\n",
       "      <th>...</th>\n",
       "      <th>efficiency2</th>\n",
       "      <th>voltage</th>\n",
       "      <th>geometry</th>\n",
       "      <th>underwater_fraction</th>\n",
       "      <th>length_original</th>\n",
       "      <th>underground</th>\n",
       "      <th>reversed</th>\n",
       "      <th>under_construction</th>\n",
       "      <th>location</th>\n",
       "      <th>dc</th>\n",
       "    </tr>\n",
       "    <tr>\n",
       "      <th>Link</th>\n",
       "      <th></th>\n",
       "      <th></th>\n",
       "      <th></th>\n",
       "      <th></th>\n",
       "      <th></th>\n",
       "      <th></th>\n",
       "      <th></th>\n",
       "      <th></th>\n",
       "      <th></th>\n",
       "      <th></th>\n",
       "      <th></th>\n",
       "      <th></th>\n",
       "      <th></th>\n",
       "      <th></th>\n",
       "      <th></th>\n",
       "      <th></th>\n",
       "      <th></th>\n",
       "      <th></th>\n",
       "      <th></th>\n",
       "      <th></th>\n",
       "      <th></th>\n",
       "    </tr>\n",
       "  </thead>\n",
       "  <tbody>\n",
       "    <tr>\n",
       "      <th>relation/5487095</th>\n",
       "      <td>DK0 0</td>\n",
       "      <td>DK1 0</td>\n",
       "      <td></td>\n",
       "      <td>DC</td>\n",
       "      <td>0.975075</td>\n",
       "      <td>True</td>\n",
       "      <td>0</td>\n",
       "      <td>inf</td>\n",
       "      <td>600.0</td>\n",
       "      <td>0.0</td>\n",
       "      <td>...</td>\n",
       "      <td>1.0</td>\n",
       "      <td>400.0</td>\n",
       "      <td>LINESTRING (10.5069 55.3673, 10.5068756 55.367...</td>\n",
       "      <td>0.563251</td>\n",
       "      <td>216.510855</td>\n",
       "      <td>1.0</td>\n",
       "      <td>False</td>\n",
       "      <td>0.0</td>\n",
       "      <td></td>\n",
       "      <td>1.0</td>\n",
       "    </tr>\n",
       "    <tr>\n",
       "      <th>relation/8193755</th>\n",
       "      <td>BE0 0</td>\n",
       "      <td>DE0 30</td>\n",
       "      <td></td>\n",
       "      <td>DC</td>\n",
       "      <td>0.976101</td>\n",
       "      <td>True</td>\n",
       "      <td>0</td>\n",
       "      <td>inf</td>\n",
       "      <td>1000.0</td>\n",
       "      <td>0.0</td>\n",
       "      <td>...</td>\n",
       "      <td>1.0</td>\n",
       "      <td>320.0</td>\n",
       "      <td>LINESTRING (5.6675 50.753, 5.6675409 50.752914...</td>\n",
       "      <td>0.000000</td>\n",
       "      <td>171.308786</td>\n",
       "      <td>1.0</td>\n",
       "      <td>False</td>\n",
       "      <td>0.0</td>\n",
       "      <td></td>\n",
       "      <td>1.0</td>\n",
       "    </tr>\n",
       "    <tr>\n",
       "      <th>relation/2505320</th>\n",
       "      <td>DK1 0</td>\n",
       "      <td>DE0 13</td>\n",
       "      <td></td>\n",
       "      <td>DC</td>\n",
       "      <td>0.974026</td>\n",
       "      <td>True</td>\n",
       "      <td>0</td>\n",
       "      <td>inf</td>\n",
       "      <td>600.0</td>\n",
       "      <td>0.0</td>\n",
       "      <td>...</td>\n",
       "      <td>1.0</td>\n",
       "      <td>400.0</td>\n",
       "      <td>LINESTRING (12.0074 55.4499, 12.0073721 55.449...</td>\n",
       "      <td>0.281098</td>\n",
       "      <td>262.778550</td>\n",
       "      <td>1.0</td>\n",
       "      <td>False</td>\n",
       "      <td>0.0</td>\n",
       "      <td></td>\n",
       "      <td>1.0</td>\n",
       "    </tr>\n",
       "    <tr>\n",
       "      <th>relation/3918230</th>\n",
       "      <td>DE0 11</td>\n",
       "      <td>SE1 0</td>\n",
       "      <td></td>\n",
       "      <td>DC</td>\n",
       "      <td>0.955191</td>\n",
       "      <td>True</td>\n",
       "      <td>0</td>\n",
       "      <td>inf</td>\n",
       "      <td>600.0</td>\n",
       "      <td>0.0</td>\n",
       "      <td>...</td>\n",
       "      <td>1.0</td>\n",
       "      <td>450.0</td>\n",
       "      <td>LINESTRING (10.8022 53.8958, 10.802197 53.8958...</td>\n",
       "      <td>0.927588</td>\n",
       "      <td>1101.945135</td>\n",
       "      <td>1.0</td>\n",
       "      <td>False</td>\n",
       "      <td>0.0</td>\n",
       "      <td></td>\n",
       "      <td>1.0</td>\n",
       "    </tr>\n",
       "    <tr>\n",
       "      <th>relation/8185420</th>\n",
       "      <td>DK0 0</td>\n",
       "      <td>NL0 0</td>\n",
       "      <td></td>\n",
       "      <td>DC</td>\n",
       "      <td>0.966905</td>\n",
       "      <td>True</td>\n",
       "      <td>0</td>\n",
       "      <td>inf</td>\n",
       "      <td>700.0</td>\n",
       "      <td>0.0</td>\n",
       "      <td>...</td>\n",
       "      <td>1.0</td>\n",
       "      <td>320.0</td>\n",
       "      <td>LINESTRING (8.7045 55.5305, 8.7030898 55.53044...</td>\n",
       "      <td>0.926393</td>\n",
       "      <td>578.122730</td>\n",
       "      <td>1.0</td>\n",
       "      <td>False</td>\n",
       "      <td>0.0</td>\n",
       "      <td></td>\n",
       "      <td>1.0</td>\n",
       "    </tr>\n",
       "  </tbody>\n",
       "</table>\n",
       "<p>5 rows × 49 columns</p>\n",
       "</div>"
      ],
      "text/plain": [
       "                    bus0    bus1 type carrier  efficiency  active  build_year  \\\n",
       "Link                                                                            \n",
       "relation/5487095   DK0 0   DK1 0           DC    0.975075    True           0   \n",
       "relation/8193755   BE0 0  DE0 30           DC    0.976101    True           0   \n",
       "relation/2505320   DK1 0  DE0 13           DC    0.974026    True           0   \n",
       "relation/3918230  DE0 11   SE1 0           DC    0.955191    True           0   \n",
       "relation/8185420   DK0 0   NL0 0           DC    0.966905    True           0   \n",
       "\n",
       "                  lifetime   p_nom  p_nom_mod  ...  efficiency2  voltage  \\\n",
       "Link                                           ...                         \n",
       "relation/5487095       inf   600.0        0.0  ...          1.0    400.0   \n",
       "relation/8193755       inf  1000.0        0.0  ...          1.0    320.0   \n",
       "relation/2505320       inf   600.0        0.0  ...          1.0    400.0   \n",
       "relation/3918230       inf   600.0        0.0  ...          1.0    450.0   \n",
       "relation/8185420       inf   700.0        0.0  ...          1.0    320.0   \n",
       "\n",
       "                                                           geometry  \\\n",
       "Link                                                                  \n",
       "relation/5487095  LINESTRING (10.5069 55.3673, 10.5068756 55.367...   \n",
       "relation/8193755  LINESTRING (5.6675 50.753, 5.6675409 50.752914...   \n",
       "relation/2505320  LINESTRING (12.0074 55.4499, 12.0073721 55.449...   \n",
       "relation/3918230  LINESTRING (10.8022 53.8958, 10.802197 53.8958...   \n",
       "relation/8185420  LINESTRING (8.7045 55.5305, 8.7030898 55.53044...   \n",
       "\n",
       "                  underwater_fraction  length_original  underground  reversed  \\\n",
       "Link                                                                            \n",
       "relation/5487095             0.563251       216.510855          1.0     False   \n",
       "relation/8193755             0.000000       171.308786          1.0     False   \n",
       "relation/2505320             0.281098       262.778550          1.0     False   \n",
       "relation/3918230             0.927588      1101.945135          1.0     False   \n",
       "relation/8185420             0.926393       578.122730          1.0     False   \n",
       "\n",
       "                  under_construction  location   dc  \n",
       "Link                                                 \n",
       "relation/5487095                 0.0            1.0  \n",
       "relation/8193755                 0.0            1.0  \n",
       "relation/2505320                 0.0            1.0  \n",
       "relation/3918230                 0.0            1.0  \n",
       "relation/8185420                 0.0            1.0  \n",
       "\n",
       "[5 rows x 49 columns]"
      ]
     },
     "execution_count": 6,
     "metadata": {},
     "output_type": "execute_result"
    }
   ],
   "source": [
    "dc_links = n_no_nep.links.query(\"carrier=='DC'\")\n",
    "dc_links.head()"
   ]
  },
  {
   "cell_type": "code",
   "execution_count": 7,
   "metadata": {},
   "outputs": [
    {
     "data": {
      "text/plain": [
       "3790.162021813663"
      ]
     },
     "execution_count": 7,
     "metadata": {},
     "output_type": "execute_result"
    }
   ],
   "source": [
    "dc_links_cap = dc_links.p_nom.mul(dc_links.length).div(1e3).sum() # TWkm\n",
    "dc_links_cap"
   ]
  },
  {
   "cell_type": "code",
   "execution_count": 8,
   "metadata": {},
   "outputs": [
    {
     "data": {
      "text/plain": [
       "139366.950788377"
      ]
     },
     "execution_count": 8,
     "metadata": {},
     "output_type": "execute_result"
    }
   ],
   "source": [
    "grid_cap_wo_nep = line_cap + dc_links_cap\n",
    "grid_cap_wo_nep"
   ]
  },
  {
   "cell_type": "markdown",
   "metadata": {},
   "source": [
    "## Network with NEP lines"
   ]
  },
  {
   "cell_type": "code",
   "execution_count": 9,
   "metadata": {},
   "outputs": [
    {
     "name": "stderr",
     "output_type": "stream",
     "text": [
      "INFO:pypsa.io:Imported network base_s_52_lv1.17___2035.nc has buses, carriers, generators, global_constraints, lines, links, loads, storage_units, stores\n"
     ]
    }
   ],
   "source": [
    "n_nep = pypsa.Network(\"../results/test_scenario_w_nep_lines/prenetworks-brownfield/base_s_52_lv1.17___2035.nc\")"
   ]
  },
  {
   "cell_type": "code",
   "execution_count": 10,
   "metadata": {},
   "outputs": [
    {
     "data": {
      "text/plain": [
       "component    carrier                                     \n",
       "Link         BEV charger                                      621033.78150\n",
       "             Combined-Cycle Gas                               164204.56410\n",
       "             DC                                                12760.00000\n",
       "             Open-Cycle Gas                                       89.90361\n",
       "             V2G                                              621033.78150\n",
       "             coal                                              27700.77775\n",
       "             lignite                                           67353.58717\n",
       "             nuclear                                           72996.93252\n",
       "             oil                                                2658.70986\n",
       "             oil refining                                    1000000.00000\n",
       "             residential rural gas boiler                      91918.76897\n",
       "             residential rural ground heat pump                 3392.85928\n",
       "             residential urban decentral air heat pump         25231.77096\n",
       "             residential urban decentral gas boiler           380202.09590\n",
       "             residential urban decentral resistive heater      99338.48234\n",
       "             rural oil boiler                                  68085.07266\n",
       "             services rural resistive heater                   24886.20183\n",
       "             urban central solid biomass CHP                   13922.05188\n",
       "             urban decentral oil boiler                       222465.11156\n",
       "StorageUnit  Pumped Hydro Storage                              37945.27000\n",
       "             Reservoir & Dam                                   39056.80720\n",
       "Line         AC                                               632070.91600\n",
       "Store        EV battery                                       564576.16500\n",
       "Generator    Offshore Wind (AC)                                17071.40000\n",
       "             Onshore Wind                                     114291.76700\n",
       "             Run of River                                      27642.44188\n",
       "             Solar                                            202771.10000\n",
       "             nuclear                                           79282.00000\n",
       "dtype: float64"
      ]
     },
     "execution_count": 10,
     "metadata": {},
     "output_type": "execute_result"
    }
   ],
   "source": [
    "n_nep.statistics.installed_capacity()"
   ]
  },
  {
   "cell_type": "code",
   "execution_count": 11,
   "metadata": {},
   "outputs": [],
   "source": [
    "ac_lines = n_nep.lines"
   ]
  },
  {
   "cell_type": "code",
   "execution_count": 12,
   "metadata": {},
   "outputs": [
    {
     "data": {
      "text/plain": [
       "142307.6931630391"
      ]
     },
     "execution_count": 12,
     "metadata": {},
     "output_type": "execute_result"
    }
   ],
   "source": [
    "line_cap = ac_lines.s_nom.mul(ac_lines.length).div(1e3).sum()\n",
    "line_cap"
   ]
  },
  {
   "cell_type": "code",
   "execution_count": 13,
   "metadata": {},
   "outputs": [
    {
     "data": {
      "text/html": [
       "<div>\n",
       "<style scoped>\n",
       "    .dataframe tbody tr th:only-of-type {\n",
       "        vertical-align: middle;\n",
       "    }\n",
       "\n",
       "    .dataframe tbody tr th {\n",
       "        vertical-align: top;\n",
       "    }\n",
       "\n",
       "    .dataframe thead th {\n",
       "        text-align: right;\n",
       "    }\n",
       "</style>\n",
       "<table border=\"1\" class=\"dataframe\">\n",
       "  <thead>\n",
       "    <tr style=\"text-align: right;\">\n",
       "      <th></th>\n",
       "      <th>bus0</th>\n",
       "      <th>bus1</th>\n",
       "      <th>type</th>\n",
       "      <th>carrier</th>\n",
       "      <th>efficiency</th>\n",
       "      <th>active</th>\n",
       "      <th>build_year</th>\n",
       "      <th>lifetime</th>\n",
       "      <th>p_nom</th>\n",
       "      <th>p_nom_mod</th>\n",
       "      <th>...</th>\n",
       "      <th>underwater_fraction</th>\n",
       "      <th>geometry</th>\n",
       "      <th>length_original</th>\n",
       "      <th>underground</th>\n",
       "      <th>reversed</th>\n",
       "      <th>under_construction</th>\n",
       "      <th>location</th>\n",
       "      <th>project_status</th>\n",
       "      <th>tags</th>\n",
       "      <th>dc</th>\n",
       "    </tr>\n",
       "    <tr>\n",
       "      <th>Link</th>\n",
       "      <th></th>\n",
       "      <th></th>\n",
       "      <th></th>\n",
       "      <th></th>\n",
       "      <th></th>\n",
       "      <th></th>\n",
       "      <th></th>\n",
       "      <th></th>\n",
       "      <th></th>\n",
       "      <th></th>\n",
       "      <th></th>\n",
       "      <th></th>\n",
       "      <th></th>\n",
       "      <th></th>\n",
       "      <th></th>\n",
       "      <th></th>\n",
       "      <th></th>\n",
       "      <th></th>\n",
       "      <th></th>\n",
       "      <th></th>\n",
       "      <th></th>\n",
       "    </tr>\n",
       "  </thead>\n",
       "  <tbody>\n",
       "    <tr>\n",
       "      <th>relation/5487095</th>\n",
       "      <td>DK0 0</td>\n",
       "      <td>DK1 0</td>\n",
       "      <td></td>\n",
       "      <td>DC</td>\n",
       "      <td>0.975075</td>\n",
       "      <td>True</td>\n",
       "      <td>0</td>\n",
       "      <td>inf</td>\n",
       "      <td>600.0</td>\n",
       "      <td>0.0</td>\n",
       "      <td>...</td>\n",
       "      <td>0.563251</td>\n",
       "      <td>LINESTRING (10.5069 55.3673, 10.5068756 55.367...</td>\n",
       "      <td>216.510855</td>\n",
       "      <td>1.0</td>\n",
       "      <td>False</td>\n",
       "      <td>0.0</td>\n",
       "      <td></td>\n",
       "      <td></td>\n",
       "      <td></td>\n",
       "      <td>1.0</td>\n",
       "    </tr>\n",
       "    <tr>\n",
       "      <th>relation/8193755</th>\n",
       "      <td>BE0 0</td>\n",
       "      <td>DE0 24</td>\n",
       "      <td></td>\n",
       "      <td>DC</td>\n",
       "      <td>0.976280</td>\n",
       "      <td>True</td>\n",
       "      <td>0</td>\n",
       "      <td>inf</td>\n",
       "      <td>1000.0</td>\n",
       "      <td>0.0</td>\n",
       "      <td>...</td>\n",
       "      <td>0.000000</td>\n",
       "      <td>LINESTRING (5.6675 50.753, 5.6675409 50.752914...</td>\n",
       "      <td>163.444681</td>\n",
       "      <td>1.0</td>\n",
       "      <td>False</td>\n",
       "      <td>0.0</td>\n",
       "      <td></td>\n",
       "      <td></td>\n",
       "      <td></td>\n",
       "      <td>1.0</td>\n",
       "    </tr>\n",
       "    <tr>\n",
       "      <th>relation/2505320</th>\n",
       "      <td>DK1 0</td>\n",
       "      <td>DE0 11</td>\n",
       "      <td></td>\n",
       "      <td>DC</td>\n",
       "      <td>0.974026</td>\n",
       "      <td>True</td>\n",
       "      <td>0</td>\n",
       "      <td>inf</td>\n",
       "      <td>600.0</td>\n",
       "      <td>0.0</td>\n",
       "      <td>...</td>\n",
       "      <td>0.281098</td>\n",
       "      <td>LINESTRING (12.0074 55.4499, 12.0073721 55.449...</td>\n",
       "      <td>262.778550</td>\n",
       "      <td>1.0</td>\n",
       "      <td>False</td>\n",
       "      <td>0.0</td>\n",
       "      <td></td>\n",
       "      <td></td>\n",
       "      <td></td>\n",
       "      <td>1.0</td>\n",
       "    </tr>\n",
       "    <tr>\n",
       "      <th>relation/3918230</th>\n",
       "      <td>DE0 25</td>\n",
       "      <td>SE1 0</td>\n",
       "      <td></td>\n",
       "      <td>DC</td>\n",
       "      <td>0.955169</td>\n",
       "      <td>True</td>\n",
       "      <td>0</td>\n",
       "      <td>inf</td>\n",
       "      <td>600.0</td>\n",
       "      <td>0.0</td>\n",
       "      <td>...</td>\n",
       "      <td>0.927588</td>\n",
       "      <td>LINESTRING (10.8022 53.8958, 10.802197 53.8958...</td>\n",
       "      <td>1102.948245</td>\n",
       "      <td>1.0</td>\n",
       "      <td>False</td>\n",
       "      <td>0.0</td>\n",
       "      <td></td>\n",
       "      <td></td>\n",
       "      <td></td>\n",
       "      <td>1.0</td>\n",
       "    </tr>\n",
       "    <tr>\n",
       "      <th>relation/8185420</th>\n",
       "      <td>DK0 0</td>\n",
       "      <td>NL0 0</td>\n",
       "      <td></td>\n",
       "      <td>DC</td>\n",
       "      <td>0.966905</td>\n",
       "      <td>True</td>\n",
       "      <td>0</td>\n",
       "      <td>inf</td>\n",
       "      <td>700.0</td>\n",
       "      <td>0.0</td>\n",
       "      <td>...</td>\n",
       "      <td>0.926393</td>\n",
       "      <td>LINESTRING (8.7045 55.5305, 8.7030898 55.53044...</td>\n",
       "      <td>578.122730</td>\n",
       "      <td>1.0</td>\n",
       "      <td>False</td>\n",
       "      <td>0.0</td>\n",
       "      <td></td>\n",
       "      <td></td>\n",
       "      <td></td>\n",
       "      <td>1.0</td>\n",
       "    </tr>\n",
       "  </tbody>\n",
       "</table>\n",
       "<p>5 rows × 51 columns</p>\n",
       "</div>"
      ],
      "text/plain": [
       "                    bus0    bus1 type carrier  efficiency  active  build_year  \\\n",
       "Link                                                                            \n",
       "relation/5487095   DK0 0   DK1 0           DC    0.975075    True           0   \n",
       "relation/8193755   BE0 0  DE0 24           DC    0.976280    True           0   \n",
       "relation/2505320   DK1 0  DE0 11           DC    0.974026    True           0   \n",
       "relation/3918230  DE0 25   SE1 0           DC    0.955169    True           0   \n",
       "relation/8185420   DK0 0   NL0 0           DC    0.966905    True           0   \n",
       "\n",
       "                  lifetime   p_nom  p_nom_mod  ...  underwater_fraction  \\\n",
       "Link                                           ...                        \n",
       "relation/5487095       inf   600.0        0.0  ...             0.563251   \n",
       "relation/8193755       inf  1000.0        0.0  ...             0.000000   \n",
       "relation/2505320       inf   600.0        0.0  ...             0.281098   \n",
       "relation/3918230       inf   600.0        0.0  ...             0.927588   \n",
       "relation/8185420       inf   700.0        0.0  ...             0.926393   \n",
       "\n",
       "                                                           geometry  \\\n",
       "Link                                                                  \n",
       "relation/5487095  LINESTRING (10.5069 55.3673, 10.5068756 55.367...   \n",
       "relation/8193755  LINESTRING (5.6675 50.753, 5.6675409 50.752914...   \n",
       "relation/2505320  LINESTRING (12.0074 55.4499, 12.0073721 55.449...   \n",
       "relation/3918230  LINESTRING (10.8022 53.8958, 10.802197 53.8958...   \n",
       "relation/8185420  LINESTRING (8.7045 55.5305, 8.7030898 55.53044...   \n",
       "\n",
       "                  length_original  underground  reversed  under_construction  \\\n",
       "Link                                                                           \n",
       "relation/5487095       216.510855          1.0     False                 0.0   \n",
       "relation/8193755       163.444681          1.0     False                 0.0   \n",
       "relation/2505320       262.778550          1.0     False                 0.0   \n",
       "relation/3918230      1102.948245          1.0     False                 0.0   \n",
       "relation/8185420       578.122730          1.0     False                 0.0   \n",
       "\n",
       "                  location  project_status  tags   dc  \n",
       "Link                                                   \n",
       "relation/5487095                                  1.0  \n",
       "relation/8193755                                  1.0  \n",
       "relation/2505320                                  1.0  \n",
       "relation/3918230                                  1.0  \n",
       "relation/8185420                                  1.0  \n",
       "\n",
       "[5 rows x 51 columns]"
      ]
     },
     "execution_count": 13,
     "metadata": {},
     "output_type": "execute_result"
    }
   ],
   "source": [
    "dc_links = n_nep.links.query(\"carrier=='DC'\")\n",
    "dc_links.head()"
   ]
  },
  {
   "cell_type": "code",
   "execution_count": 14,
   "metadata": {},
   "outputs": [
    {
     "data": {
      "text/plain": [
       "3782.8997825830643"
      ]
     },
     "execution_count": 14,
     "metadata": {},
     "output_type": "execute_result"
    }
   ],
   "source": [
    "dc_links_cap = dc_links.p_nom.mul(dc_links.length).div(1e3).sum() # TWkm\n",
    "dc_links_cap"
   ]
  },
  {
   "cell_type": "code",
   "execution_count": 15,
   "metadata": {},
   "outputs": [
    {
     "data": {
      "text/plain": [
       "146090.59294562216"
      ]
     },
     "execution_count": 15,
     "metadata": {},
     "output_type": "execute_result"
    }
   ],
   "source": [
    "grid_cap_w_nep_lines = line_cap + dc_links_cap\n",
    "grid_cap_w_nep_lines"
   ]
  },
  {
   "cell_type": "markdown",
   "metadata": {},
   "source": [
    "## Network with NEP lines + links"
   ]
  },
  {
   "cell_type": "code",
   "execution_count": 16,
   "metadata": {},
   "outputs": [
    {
     "name": "stderr",
     "output_type": "stream",
     "text": [
      "INFO:pypsa.io:Imported network base_s_52_lv1.17___2035.nc has buses, carriers, generators, global_constraints, lines, links, loads, storage_units, stores\n"
     ]
    }
   ],
   "source": [
    "n_nep_lines_links = pypsa.Network(\"../results/test_scenario_w_nep_lines_links/prenetworks-brownfield/base_s_52_lv1.17___2035.nc\")"
   ]
  },
  {
   "cell_type": "code",
   "execution_count": 17,
   "metadata": {},
   "outputs": [
    {
     "data": {
      "text/plain": [
       "component    carrier                                     \n",
       "Link         BEV charger                                      621033.78150\n",
       "             Combined-Cycle Gas                               164204.56410\n",
       "             DC                                                80760.00000\n",
       "             Open-Cycle Gas                                       89.90361\n",
       "             V2G                                              621033.78150\n",
       "             coal                                              27700.77775\n",
       "             lignite                                           67353.58717\n",
       "             nuclear                                           72996.93252\n",
       "             oil                                                2658.70986\n",
       "             oil refining                                    1000000.00000\n",
       "             residential rural gas boiler                      91918.76897\n",
       "             residential rural resistive heater                24886.20183\n",
       "             residential urban decentral air heat pump         25231.77096\n",
       "             residential urban decentral resistive heater      99338.48234\n",
       "             rural oil boiler                                  68085.07266\n",
       "             services rural ground heat pump                    3392.85928\n",
       "             services urban decentral gas boiler              380202.09590\n",
       "             urban central solid biomass CHP                   13922.05188\n",
       "             urban decentral oil boiler                       222465.11156\n",
       "StorageUnit  Pumped Hydro Storage                              37945.27000\n",
       "             Reservoir & Dam                                   39056.80720\n",
       "Line         AC                                               632070.91600\n",
       "Store        EV battery                                       564576.16500\n",
       "Generator    Offshore Wind (AC)                                17071.40000\n",
       "             Onshore Wind                                     114291.76700\n",
       "             Run of River                                      27642.44188\n",
       "             Solar                                            202771.10000\n",
       "             nuclear                                           79282.00000\n",
       "dtype: float64"
      ]
     },
     "execution_count": 17,
     "metadata": {},
     "output_type": "execute_result"
    }
   ],
   "source": [
    "n_nep_lines_links.statistics.installed_capacity()"
   ]
  },
  {
   "cell_type": "code",
   "execution_count": 18,
   "metadata": {},
   "outputs": [],
   "source": [
    "ac_lines = n_nep_lines_links.lines"
   ]
  },
  {
   "cell_type": "code",
   "execution_count": 19,
   "metadata": {},
   "outputs": [
    {
     "data": {
      "text/plain": [
       "142307.6931630391"
      ]
     },
     "execution_count": 19,
     "metadata": {},
     "output_type": "execute_result"
    }
   ],
   "source": [
    "line_cap = ac_lines.s_nom.mul(ac_lines.length).div(1e3).sum()\n",
    "line_cap"
   ]
  },
  {
   "cell_type": "code",
   "execution_count": 20,
   "metadata": {},
   "outputs": [
    {
     "data": {
      "text/html": [
       "<div>\n",
       "<style scoped>\n",
       "    .dataframe tbody tr th:only-of-type {\n",
       "        vertical-align: middle;\n",
       "    }\n",
       "\n",
       "    .dataframe tbody tr th {\n",
       "        vertical-align: top;\n",
       "    }\n",
       "\n",
       "    .dataframe thead th {\n",
       "        text-align: right;\n",
       "    }\n",
       "</style>\n",
       "<table border=\"1\" class=\"dataframe\">\n",
       "  <thead>\n",
       "    <tr style=\"text-align: right;\">\n",
       "      <th></th>\n",
       "      <th>bus0</th>\n",
       "      <th>bus1</th>\n",
       "      <th>type</th>\n",
       "      <th>carrier</th>\n",
       "      <th>efficiency</th>\n",
       "      <th>active</th>\n",
       "      <th>build_year</th>\n",
       "      <th>lifetime</th>\n",
       "      <th>p_nom</th>\n",
       "      <th>p_nom_mod</th>\n",
       "      <th>...</th>\n",
       "      <th>underwater_fraction</th>\n",
       "      <th>geometry</th>\n",
       "      <th>reversed</th>\n",
       "      <th>underground</th>\n",
       "      <th>length_original</th>\n",
       "      <th>under_construction</th>\n",
       "      <th>location</th>\n",
       "      <th>project_status</th>\n",
       "      <th>tags</th>\n",
       "      <th>dc</th>\n",
       "    </tr>\n",
       "    <tr>\n",
       "      <th>Link</th>\n",
       "      <th></th>\n",
       "      <th></th>\n",
       "      <th></th>\n",
       "      <th></th>\n",
       "      <th></th>\n",
       "      <th></th>\n",
       "      <th></th>\n",
       "      <th></th>\n",
       "      <th></th>\n",
       "      <th></th>\n",
       "      <th></th>\n",
       "      <th></th>\n",
       "      <th></th>\n",
       "      <th></th>\n",
       "      <th></th>\n",
       "      <th></th>\n",
       "      <th></th>\n",
       "      <th></th>\n",
       "      <th></th>\n",
       "      <th></th>\n",
       "      <th></th>\n",
       "    </tr>\n",
       "  </thead>\n",
       "  <tbody>\n",
       "    <tr>\n",
       "      <th>relation/5487095</th>\n",
       "      <td>DK0 0</td>\n",
       "      <td>DK1 0</td>\n",
       "      <td></td>\n",
       "      <td>DC</td>\n",
       "      <td>0.975075</td>\n",
       "      <td>True</td>\n",
       "      <td>0</td>\n",
       "      <td>inf</td>\n",
       "      <td>600.0</td>\n",
       "      <td>0.0</td>\n",
       "      <td>...</td>\n",
       "      <td>0.563251</td>\n",
       "      <td>LINESTRING (10.5069 55.3673, 10.5068756 55.367...</td>\n",
       "      <td>False</td>\n",
       "      <td>1.0</td>\n",
       "      <td>216.510855</td>\n",
       "      <td>0.0</td>\n",
       "      <td></td>\n",
       "      <td></td>\n",
       "      <td></td>\n",
       "      <td>1.0</td>\n",
       "    </tr>\n",
       "    <tr>\n",
       "      <th>relation/8193755</th>\n",
       "      <td>BE0 0</td>\n",
       "      <td>DE0 24</td>\n",
       "      <td></td>\n",
       "      <td>DC</td>\n",
       "      <td>0.976280</td>\n",
       "      <td>True</td>\n",
       "      <td>0</td>\n",
       "      <td>inf</td>\n",
       "      <td>1000.0</td>\n",
       "      <td>0.0</td>\n",
       "      <td>...</td>\n",
       "      <td>0.000000</td>\n",
       "      <td>LINESTRING (5.6675 50.753, 5.6675409 50.752914...</td>\n",
       "      <td>False</td>\n",
       "      <td>1.0</td>\n",
       "      <td>163.444681</td>\n",
       "      <td>0.0</td>\n",
       "      <td></td>\n",
       "      <td></td>\n",
       "      <td></td>\n",
       "      <td>1.0</td>\n",
       "    </tr>\n",
       "    <tr>\n",
       "      <th>relation/2505320</th>\n",
       "      <td>DK1 0</td>\n",
       "      <td>DE0 11</td>\n",
       "      <td></td>\n",
       "      <td>DC</td>\n",
       "      <td>0.974026</td>\n",
       "      <td>True</td>\n",
       "      <td>0</td>\n",
       "      <td>inf</td>\n",
       "      <td>600.0</td>\n",
       "      <td>0.0</td>\n",
       "      <td>...</td>\n",
       "      <td>0.281098</td>\n",
       "      <td>LINESTRING (12.0074 55.4499, 12.0073721 55.449...</td>\n",
       "      <td>False</td>\n",
       "      <td>1.0</td>\n",
       "      <td>262.778550</td>\n",
       "      <td>0.0</td>\n",
       "      <td></td>\n",
       "      <td></td>\n",
       "      <td></td>\n",
       "      <td>1.0</td>\n",
       "    </tr>\n",
       "    <tr>\n",
       "      <th>relation/3918230</th>\n",
       "      <td>DE0 25</td>\n",
       "      <td>SE1 0</td>\n",
       "      <td></td>\n",
       "      <td>DC</td>\n",
       "      <td>0.955169</td>\n",
       "      <td>True</td>\n",
       "      <td>0</td>\n",
       "      <td>inf</td>\n",
       "      <td>600.0</td>\n",
       "      <td>0.0</td>\n",
       "      <td>...</td>\n",
       "      <td>0.927588</td>\n",
       "      <td>LINESTRING (10.8022 53.8958, 10.802197 53.8958...</td>\n",
       "      <td>False</td>\n",
       "      <td>1.0</td>\n",
       "      <td>1102.948245</td>\n",
       "      <td>0.0</td>\n",
       "      <td></td>\n",
       "      <td></td>\n",
       "      <td></td>\n",
       "      <td>1.0</td>\n",
       "    </tr>\n",
       "    <tr>\n",
       "      <th>relation/8185420</th>\n",
       "      <td>DK0 0</td>\n",
       "      <td>NL0 0</td>\n",
       "      <td></td>\n",
       "      <td>DC</td>\n",
       "      <td>0.966905</td>\n",
       "      <td>True</td>\n",
       "      <td>0</td>\n",
       "      <td>inf</td>\n",
       "      <td>700.0</td>\n",
       "      <td>0.0</td>\n",
       "      <td>...</td>\n",
       "      <td>0.926393</td>\n",
       "      <td>LINESTRING (8.7045 55.5305, 8.7030898 55.53044...</td>\n",
       "      <td>False</td>\n",
       "      <td>1.0</td>\n",
       "      <td>578.122730</td>\n",
       "      <td>0.0</td>\n",
       "      <td></td>\n",
       "      <td></td>\n",
       "      <td></td>\n",
       "      <td>1.0</td>\n",
       "    </tr>\n",
       "  </tbody>\n",
       "</table>\n",
       "<p>5 rows × 51 columns</p>\n",
       "</div>"
      ],
      "text/plain": [
       "                    bus0    bus1 type carrier  efficiency  active  build_year  \\\n",
       "Link                                                                            \n",
       "relation/5487095   DK0 0   DK1 0           DC    0.975075    True           0   \n",
       "relation/8193755   BE0 0  DE0 24           DC    0.976280    True           0   \n",
       "relation/2505320   DK1 0  DE0 11           DC    0.974026    True           0   \n",
       "relation/3918230  DE0 25   SE1 0           DC    0.955169    True           0   \n",
       "relation/8185420   DK0 0   NL0 0           DC    0.966905    True           0   \n",
       "\n",
       "                  lifetime   p_nom  p_nom_mod  ...  underwater_fraction  \\\n",
       "Link                                           ...                        \n",
       "relation/5487095       inf   600.0        0.0  ...             0.563251   \n",
       "relation/8193755       inf  1000.0        0.0  ...             0.000000   \n",
       "relation/2505320       inf   600.0        0.0  ...             0.281098   \n",
       "relation/3918230       inf   600.0        0.0  ...             0.927588   \n",
       "relation/8185420       inf   700.0        0.0  ...             0.926393   \n",
       "\n",
       "                                                           geometry  reversed  \\\n",
       "Link                                                                            \n",
       "relation/5487095  LINESTRING (10.5069 55.3673, 10.5068756 55.367...     False   \n",
       "relation/8193755  LINESTRING (5.6675 50.753, 5.6675409 50.752914...     False   \n",
       "relation/2505320  LINESTRING (12.0074 55.4499, 12.0073721 55.449...     False   \n",
       "relation/3918230  LINESTRING (10.8022 53.8958, 10.802197 53.8958...     False   \n",
       "relation/8185420  LINESTRING (8.7045 55.5305, 8.7030898 55.53044...     False   \n",
       "\n",
       "                  underground  length_original  under_construction  location  \\\n",
       "Link                                                                           \n",
       "relation/5487095          1.0       216.510855                 0.0             \n",
       "relation/8193755          1.0       163.444681                 0.0             \n",
       "relation/2505320          1.0       262.778550                 0.0             \n",
       "relation/3918230          1.0      1102.948245                 0.0             \n",
       "relation/8185420          1.0       578.122730                 0.0             \n",
       "\n",
       "                  project_status  tags   dc  \n",
       "Link                                         \n",
       "relation/5487095                        1.0  \n",
       "relation/8193755                        1.0  \n",
       "relation/2505320                        1.0  \n",
       "relation/3918230                        1.0  \n",
       "relation/8185420                        1.0  \n",
       "\n",
       "[5 rows x 51 columns]"
      ]
     },
     "execution_count": 20,
     "metadata": {},
     "output_type": "execute_result"
    }
   ],
   "source": [
    "dc_links = n_nep_lines_links.links.query(\"carrier=='DC'\")\n",
    "dc_links.head()"
   ]
  },
  {
   "cell_type": "code",
   "execution_count": 21,
   "metadata": {},
   "outputs": [
    {
     "data": {
      "text/plain": [
       "20220.436007161625"
      ]
     },
     "execution_count": 21,
     "metadata": {},
     "output_type": "execute_result"
    }
   ],
   "source": [
    "dc_links_cap = dc_links.p_nom.mul(dc_links.length).div(1e3).sum() # TWkm\n",
    "dc_links_cap"
   ]
  },
  {
   "cell_type": "code",
   "execution_count": 22,
   "metadata": {},
   "outputs": [
    {
     "data": {
      "text/plain": [
       "162528.12917020073"
      ]
     },
     "execution_count": 22,
     "metadata": {},
     "output_type": "execute_result"
    }
   ],
   "source": [
    "grid_cap_w_nep_lines_links = line_cap + dc_links_cap\n",
    "grid_cap_w_nep_lines_links"
   ]
  },
  {
   "cell_type": "markdown",
   "metadata": {},
   "source": [
    "## Calculate ratios"
   ]
  },
  {
   "cell_type": "code",
   "execution_count": 23,
   "metadata": {},
   "outputs": [
    {
     "data": {
      "text/plain": [
       "1.1661884560923848"
      ]
     },
     "execution_count": 23,
     "metadata": {},
     "output_type": "execute_result"
    }
   ],
   "source": [
    "# Ratio with NEP lines + links and without NEP\n",
    "grid_cap_w_nep_lines_links/grid_cap_wo_nep"
   ]
  },
  {
   "cell_type": "code",
   "execution_count": 24,
   "metadata": {},
   "outputs": [
    {
     "data": {
      "text/plain": [
       "1.1125160483857912"
      ]
     },
     "execution_count": 24,
     "metadata": {},
     "output_type": "execute_result"
    }
   ],
   "source": [
    "# Ratio with NEP lines + links and NEP lines\n",
    "grid_cap_w_nep_lines_links/grid_cap_w_nep_lines"
   ]
  },
  {
   "cell_type": "markdown",
   "metadata": {},
   "source": [
    "## Carbon emission targets"
   ]
  },
  {
   "cell_type": "code",
   "execution_count": 369,
   "metadata": {},
   "outputs": [],
   "source": [
    "ctrys = ['AT', 'BE', 'CH', 'CZ', 'DE', 'DK', 'FR', 'IT', 'LU', 'NL', 'PL', 'SE']"
   ]
  },
  {
   "cell_type": "code",
   "execution_count": 370,
   "metadata": {},
   "outputs": [],
   "source": [
    "# 1990 emissions in MtCO2\n",
    "co2_totals = pd.read_csv(\"../resources/co2_totals_1990.csv\", index_col=0).loc[ctrys]"
   ]
  },
  {
   "cell_type": "code",
   "execution_count": 373,
   "metadata": {},
   "outputs": [],
   "source": [
    "# 2005 emissions in MtCO2\n",
    "co2_totals_2005 = pd.read_csv(\"../resources/co2_totals_2005.csv\", index_col=0).loc[ctrys]"
   ]
  },
  {
   "cell_type": "code",
   "execution_count": 374,
   "metadata": {},
   "outputs": [
    {
     "data": {
      "text/plain": [
       "Country_code\n",
       "AT      62.124701\n",
       "BE     120.309343\n",
       "CH      44.534441\n",
       "CZ     166.068823\n",
       "DE    1052.348544\n",
       "DK      54.685986\n",
       "FR     400.777042\n",
       "IT     438.008802\n",
       "LU      11.847635\n",
       "NL     163.302301\n",
       "PL     376.546518\n",
       "SE      57.348825\n",
       "dtype: float64"
      ]
     },
     "execution_count": 374,
     "metadata": {},
     "output_type": "execute_result"
    }
   ],
   "source": [
    "# Total emissions excl. LULUCF\n",
    "co2_totals_excl_lulucf = co2_totals.drop([\"LULUCF\"], axis=1).sum(axis=1)\n",
    "co2_totals_excl_lulucf"
   ]
  },
  {
   "cell_type": "code",
   "execution_count": 375,
   "metadata": {},
   "outputs": [
    {
     "data": {
      "text/plain": [
       "Country_code\n",
       "AT      49.968104\n",
       "BE     117.060288\n",
       "CH      42.515838\n",
       "CZ     160.298010\n",
       "DE    1021.884333\n",
       "DK      60.858777\n",
       "FR     374.572263\n",
       "IT     432.346810\n",
       "LU      11.927560\n",
       "NL     169.786966\n",
       "PL     343.554029\n",
       "SE      21.112932\n",
       "dtype: float64"
      ]
     },
     "execution_count": 375,
     "metadata": {},
     "output_type": "execute_result"
    }
   ],
   "source": [
    "# Total emissions incl. LULUCF\n",
    "co2_totals_incl_lulucf = co2_totals.sum(axis=1)\n",
    "co2_totals_incl_lulucf"
   ]
  },
  {
   "cell_type": "code",
   "execution_count": 376,
   "metadata": {},
   "outputs": [
    {
     "data": {
      "text/plain": [
       "Country_code\n",
       "AT     79.192432\n",
       "BE    125.661688\n",
       "CH     45.915746\n",
       "CZ    126.738399\n",
       "DE    866.388549\n",
       "DK     52.164863\n",
       "FR    426.412463\n",
       "IT    500.005676\n",
       "LU     12.105448\n",
       "NL    177.897237\n",
       "PL    323.161267\n",
       "SE     53.852857\n",
       "dtype: float64"
      ]
     },
     "execution_count": 376,
     "metadata": {},
     "output_type": "execute_result"
    }
   ],
   "source": [
    "# Total emissions excl. LULUCF\n",
    "co2_totals_excl_lulucf_2005 = co2_totals_2005.drop([\"LULUCF\"], axis=1).sum(axis=1)\n",
    "co2_totals_excl_lulucf_2005"
   ]
  },
  {
   "cell_type": "code",
   "execution_count": 377,
   "metadata": {},
   "outputs": [
    {
     "data": {
      "text/plain": [
       "Country_code\n",
       "AT     68.414161\n",
       "BE    124.024742\n",
       "CH     43.712103\n",
       "CZ    119.316791\n",
       "DE    851.168952\n",
       "DK     57.805099\n",
       "FR    377.355895\n",
       "IT    463.962937\n",
       "LU     11.462305\n",
       "NL    183.428661\n",
       "PL    271.748435\n",
       "SE     19.936933\n",
       "dtype: float64"
      ]
     },
     "execution_count": 377,
     "metadata": {},
     "output_type": "execute_result"
    }
   ],
   "source": [
    "# Total emissions incl. LULUCF 2005\n",
    "co2_totals_incl_lulucf_2005 = co2_totals_2005.sum(axis=1)\n",
    "co2_totals_incl_lulucf_2005"
   ]
  },
  {
   "cell_type": "markdown",
   "metadata": {},
   "source": [
    "### ESR targets 2030 (compared to 2005) [Source](https://climate.ec.europa.eu/eu-action/effort-sharing-member-states-emission-targets/effort-sharing-2021-2030-targets-and-flexibilities_en)"
   ]
  },
  {
   "cell_type": "code",
   "execution_count": 378,
   "metadata": {},
   "outputs": [],
   "source": [
    "esr_targets = {\n",
    "    \"AT\": 0.48,\n",
    "    \"BE\": 0.47,\n",
    "    \"CZ\": 0.26,\n",
    "    \"DE\": 0.5,\n",
    "    \"DK\": 0.5,\n",
    "    \"FR\": 0.475,\n",
    "    \"IT\": 0.437,\n",
    "    \"LU\": 0.5,\n",
    "    \"NL\": 0.48,\n",
    "    \"PL\": 0.177,\n",
    "    \"SE\": 0.5,\n",
    "}"
   ]
  },
  {
   "cell_type": "markdown",
   "metadata": {},
   "source": [
    "### Country specific emission reduction targets\n",
    "\n",
    "| Country | 2030 | 2035 | 2040 | 2045 | 2050 | Source |\n",
    "|---------|------|------|------|------|------|--------|\n",
    "| DE | 65% below 1990 excl. LULUCF | - | 85% below 1990 excl. LULUCF | 100% | - | [Source](https://www.bundesregierung.de/breg-de/themen/klimaschutz/klimaschutzgesetz-2021-1913672) |\n",
    "| AT | 48% below 2005 excl. LULUCF | - | 100% | - | - | [Source1](https://climate.ec.europa.eu/eu-action/effort-sharing-member-states-emission-targets/effort-sharing-2021-2030-targets-and-flexibilities_en) [Source2](https://www.sustainability.gov/pdfs/austria-nzgi-roadmap.pdf) |\n",
    "| BE | 55% below 1990 excl. LULUCF | - | - | - | 100% | [Source](https://www.sustainability.gov/pdfs/belgium-nzgi-roadmap.pdf) |\n",
    "| CH | 50% below 1990 excl. LULUCF | - | - |  - | 100% | [Source](https://www.bafu.admin.ch/bafu/en/home/topics/climate/info-specialists/emission-reduction/reduction-targets.html) |\n",
    "| CZ | 26% below 2005 excl. LULUCF | - | - |  - | 100% | [Source](https://tracker.carbongap.org/region/czech-republic/) |\n",
    "| DK | 70% below 1990 incl. LULUCF and 50% below 2005 excl. LULUCF | - | - |  100% | 110% | [Source](https://unfccc.int/sites/default/files/resource/SBI60_MA_DNK-7June2024-Presentation.pdf) |\n",
    "| FR | 47.5% below 2005 excl. LULUCF | - | - |  - | 100% | [Source](https://climate.ec.europa.eu/eu-action/effort-sharing-member-states-emission-targets/effort-sharing-2021-2030-targets-and-flexibilities_en) |\n",
    "| IT | 43.7% below 2005 excl. LULUCF | - | - |  - | 100% | [Source1](https://climate.ec.europa.eu/eu-action/effort-sharing-member-states-emission-targets/effort-sharing-2021-2030-targets-and-flexibilities_en) [Source2](https://www.iea.org/countries/italy#) |\n",
    "| LU | 55% below 2005 excl. LULUCF | - | - |  - | 100% | [Source](https://gouvernement.lu/en/dossiers/2023/2023-pnec.html) |\n",
    "| NL | 55% below 1990 | - | - |  - | 100% | [Source](https://commission.europa.eu/document/download/b6d21e56-4297-4b91-a692-300716209f72_en?filename=NL_FINAL%20UPDATED%20NECP%202021-2030%20%28English%29.pdf) |\n",
    "| PL | 17.7% below 2005 excl. LULUCF | - | - |  - |  | [Source](https://climate.ec.europa.eu/eu-action/effort-sharing-member-states-emission-targets/effort-sharing-2021-2030-targets-and-flexibilities_en) |\n",
    "| SE | 63% below 1990 | - | 75% below 1990 |  100% |  | [Source](https://www.bafu.admin.ch/bafu/en/home/topics/climate/info-specialists/emission-reduction/reduction-targets.html) |"
   ]
  },
  {
   "cell_type": "code",
   "execution_count": 379,
   "metadata": {},
   "outputs": [
    {
     "name": "stdout",
     "output_type": "stream",
     "text": [
      "{'DE': 0.75, 'BE': 0.6625000000000001, 'CH': 0.625, 'DK': 0.7999999999999999, 'NL': 0.6625000000000001, 'SE': 0.69, 'PL': 0.26549999999999996} {'AT': 0.74, 'CZ': 0.445, 'FR': 0.60625, 'IT': 0.57775, 'LU': 0.6625000000000001}\n"
     ]
    }
   ],
   "source": [
    "# calculate linearly interpolated 2035 targets\n",
    "# base 1990\n",
    "target2035_base1990 = dict(DE = 0.75,\n",
    "BE = 0.55 + (1-0.55)*(2035-2030)/(2050-2030),\n",
    "CH = 0.625,\n",
    "DK = 0.7 + (1-0.7)*(2035-2030)/(2045-2030),\n",
    "NL = 0.55 + (1-0.55)*(2035-2030)/(2050-2030),\n",
    "SE = 0.69,\n",
    "PL = (esr_targets[\"PL\"]/esr_targets[\"DE\"])*0.75\n",
    ")\n",
    "# base 2005\n",
    "# Polands 2035 target is deduced based on the ESR distrubution key in relation to the German interpolated target\n",
    "target2035_base2005 = dict(AT = 0.74,\n",
    "CZ = 0.26 + (1-0.26)*(2035-2030)/(2050-2030),\n",
    "FR = 0.475 + (1-0.475)*(2035-2030)/(2050-2030),\n",
    "IT = 0.437 + (1-0.437)*(2035-2030)/(2050-2030),\n",
    "LU = 0.55 + (1-0.55)*(2035-2030)/(2050-2030)\n",
    ")\n",
    "print(target2035_base1990, target2035_base2005)"
   ]
  },
  {
   "cell_type": "code",
   "execution_count": 380,
   "metadata": {},
   "outputs": [
    {
     "data": {
      "text/html": [
       "<div>\n",
       "<style scoped>\n",
       "    .dataframe tbody tr th:only-of-type {\n",
       "        vertical-align: middle;\n",
       "    }\n",
       "\n",
       "    .dataframe tbody tr th {\n",
       "        vertical-align: top;\n",
       "    }\n",
       "\n",
       "    .dataframe thead th {\n",
       "        text-align: right;\n",
       "    }\n",
       "</style>\n",
       "<table border=\"1\" class=\"dataframe\">\n",
       "  <thead>\n",
       "    <tr style=\"text-align: right;\">\n",
       "      <th></th>\n",
       "      <th>base1990</th>\n",
       "      <th>base2005</th>\n",
       "    </tr>\n",
       "    <tr>\n",
       "      <th>Country_code</th>\n",
       "      <th></th>\n",
       "      <th></th>\n",
       "    </tr>\n",
       "  </thead>\n",
       "  <tbody>\n",
       "    <tr>\n",
       "      <th>AT</th>\n",
       "      <td>NaN</td>\n",
       "      <td>0.74000</td>\n",
       "    </tr>\n",
       "    <tr>\n",
       "      <th>BE</th>\n",
       "      <td>0.6625</td>\n",
       "      <td>NaN</td>\n",
       "    </tr>\n",
       "    <tr>\n",
       "      <th>CH</th>\n",
       "      <td>0.6250</td>\n",
       "      <td>NaN</td>\n",
       "    </tr>\n",
       "    <tr>\n",
       "      <th>CZ</th>\n",
       "      <td>NaN</td>\n",
       "      <td>0.44500</td>\n",
       "    </tr>\n",
       "    <tr>\n",
       "      <th>DE</th>\n",
       "      <td>0.7500</td>\n",
       "      <td>NaN</td>\n",
       "    </tr>\n",
       "    <tr>\n",
       "      <th>DK</th>\n",
       "      <td>0.8000</td>\n",
       "      <td>NaN</td>\n",
       "    </tr>\n",
       "    <tr>\n",
       "      <th>FR</th>\n",
       "      <td>NaN</td>\n",
       "      <td>0.60625</td>\n",
       "    </tr>\n",
       "    <tr>\n",
       "      <th>IT</th>\n",
       "      <td>NaN</td>\n",
       "      <td>0.57775</td>\n",
       "    </tr>\n",
       "    <tr>\n",
       "      <th>LU</th>\n",
       "      <td>NaN</td>\n",
       "      <td>0.66250</td>\n",
       "    </tr>\n",
       "    <tr>\n",
       "      <th>NL</th>\n",
       "      <td>0.6625</td>\n",
       "      <td>NaN</td>\n",
       "    </tr>\n",
       "    <tr>\n",
       "      <th>PL</th>\n",
       "      <td>0.2655</td>\n",
       "      <td>NaN</td>\n",
       "    </tr>\n",
       "    <tr>\n",
       "      <th>SE</th>\n",
       "      <td>0.6900</td>\n",
       "      <td>NaN</td>\n",
       "    </tr>\n",
       "  </tbody>\n",
       "</table>\n",
       "</div>"
      ],
      "text/plain": [
       "              base1990  base2005\n",
       "Country_code                    \n",
       "AT                 NaN   0.74000\n",
       "BE              0.6625       NaN\n",
       "CH              0.6250       NaN\n",
       "CZ                 NaN   0.44500\n",
       "DE              0.7500       NaN\n",
       "DK              0.8000       NaN\n",
       "FR                 NaN   0.60625\n",
       "IT                 NaN   0.57775\n",
       "LU                 NaN   0.66250\n",
       "NL              0.6625       NaN\n",
       "PL              0.2655       NaN\n",
       "SE              0.6900       NaN"
      ]
     },
     "execution_count": 380,
     "metadata": {},
     "output_type": "execute_result"
    }
   ],
   "source": [
    "target_2035 = pd.DataFrame(index=co2_totals.index)\n",
    "target_2035[\"base1990\"] = target2035_base1990\n",
    "target_2035[\"base2005\"] = target2035_base2005\n",
    "target_2035"
   ]
  },
  {
   "cell_type": "code",
   "execution_count": 381,
   "metadata": {},
   "outputs": [
    {
     "data": {
      "text/plain": [
       "2947.9029606100003"
      ]
     },
     "execution_count": 381,
     "metadata": {},
     "output_type": "execute_result"
    }
   ],
   "source": [
    "# Calculate aggregated 1990 emissions in MtCO2\n",
    "co2_1990_aggregated = co2_totals_excl_lulucf.sum()\n",
    "co2_1990_aggregated"
   ]
  },
  {
   "cell_type": "code",
   "execution_count": 382,
   "metadata": {},
   "outputs": [
    {
     "data": {
      "text/plain": [
       "1154.8379684469976"
      ]
     },
     "execution_count": 382,
     "metadata": {},
     "output_type": "execute_result"
    }
   ],
   "source": [
    "# Calculate absolute target emissions in 2035 based on shares\n",
    "target_2035[\"absolute_emissions\"] = ((1-target_2035.base1990) * co2_totals_excl_lulucf).combine_first((1-target_2035.base2005) * co2_totals_excl_lulucf_2005)\n",
    "target_2035_aggregated = target_2035.absolute_emissions.sum()\n",
    "target_2035_aggregated"
   ]
  },
  {
   "cell_type": "code",
   "execution_count": 383,
   "metadata": {},
   "outputs": [
    {
     "data": {
      "text/plain": [
       "0.392"
      ]
     },
     "execution_count": 383,
     "metadata": {},
     "output_type": "execute_result"
    }
   ],
   "source": [
    "# Calculate share of 1990 emissions\n",
    "round(target_2035_aggregated/co2_1990_aggregated,3)"
   ]
  },
  {
   "cell_type": "markdown",
   "metadata": {},
   "source": [
    "Alternate approach: For missing values take interpolated emission reduction target for Germany 2035 (75%). For other countries take distribution key from [EU effort sharing regulation](https://climate.ec.europa.eu/eu-action/effort-sharing-member-states-emission-targets/effort-sharing-2021-2030-targets-and-flexibilities_en). Then calculate total emissions based on 1990 values and weighted emission reduction target."
   ]
  },
  {
   "cell_type": "code",
   "execution_count": null,
   "metadata": {},
   "outputs": [],
   "source": []
  }
 ],
 "metadata": {
  "kernelspec": {
   "display_name": "Python 3",
   "language": "python",
   "name": "python3"
  },
  "language_info": {
   "codemirror_mode": {
    "name": "ipython",
    "version": 3
   },
   "file_extension": ".py",
   "mimetype": "text/x-python",
   "name": "python",
   "nbconvert_exporter": "python",
   "pygments_lexer": "ipython3",
   "version": "3.12.6"
  }
 },
 "nbformat": 4,
 "nbformat_minor": 0
}
