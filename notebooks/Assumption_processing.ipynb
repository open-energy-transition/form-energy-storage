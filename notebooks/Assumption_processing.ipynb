{
 "cells": [
  {
   "metadata": {},
   "cell_type": "code",
   "outputs": [],
   "execution_count": null,
   "source": [
    "import pypsa\n",
    "import pandas as pd"
   ]
  },
  {
   "metadata": {},
   "cell_type": "markdown",
   "source": "# Process and analysis"
  },
  {
   "metadata": {},
   "cell_type": "markdown",
   "source": "## Network without NEP"
  },
  {
   "metadata": {},
   "cell_type": "code",
   "outputs": [],
   "execution_count": null,
   "source": "n_no_nep = pypsa.Network(\"../resources/transmission-derivation/baseline-nonep/networks/base_s_52_elec_lv1.11_.nc\")"
  },
  {
   "metadata": {},
   "cell_type": "code",
   "outputs": [],
   "execution_count": null,
   "source": "ac_lines = n_no_nep.lines"
  },
  {
   "metadata": {},
   "cell_type": "code",
   "outputs": [],
   "execution_count": null,
   "source": [
    "line_cap = ac_lines.s_nom.mul(ac_lines.length).div(1e3).sum()\n",
    "line_cap"
   ]
  },
  {
   "metadata": {},
   "cell_type": "code",
   "outputs": [],
   "execution_count": null,
   "source": [
    "dc_links = n_no_nep.links.query(\"carrier=='DC'\")\n",
    "dc_links.head()"
   ]
  },
  {
   "metadata": {},
   "cell_type": "code",
   "outputs": [],
   "execution_count": null,
   "source": [
    "dc_links_cap = dc_links.p_nom.mul(dc_links.length).div(1e3).sum() # TWkm\n",
    "dc_links_cap"
   ]
  },
  {
   "metadata": {},
   "cell_type": "code",
   "outputs": [],
   "execution_count": null,
   "source": [
    "grid_cap_wo_nep = line_cap + dc_links_cap\n",
    "grid_cap_wo_nep"
   ]
  },
  {
   "metadata": {},
   "cell_type": "markdown",
   "source": "## Network with NEP lines"
  },
  {
   "metadata": {},
   "cell_type": "code",
   "outputs": [],
   "execution_count": null,
   "source": "n_nep = pypsa.Network(\"../resources/transmission-derivation/2032-neplines/networks/base_s_52_elec_lv1.11_.nc\")"
  },
  {
   "metadata": {},
   "cell_type": "code",
   "outputs": [],
   "execution_count": null,
   "source": [
    "ac_lines = n_nep.lines\n",
    "ac_lines"
   ]
  },
  {
   "metadata": {},
   "cell_type": "code",
   "outputs": [],
   "execution_count": null,
   "source": [
    "line_cap = ac_lines.s_nom.mul(ac_lines.length).div(1e3).sum()\n",
    "line_cap"
   ]
  },
  {
   "metadata": {},
   "cell_type": "code",
   "outputs": [],
   "execution_count": null,
   "source": [
    "dc_links = n_nep.links.query(\"carrier=='DC'\")\n",
    "dc_links.head()"
   ]
  },
  {
   "metadata": {},
   "cell_type": "code",
   "outputs": [],
   "execution_count": null,
   "source": [
    "dc_links_cap = dc_links.p_nom.mul(dc_links.length).div(1e3).sum() # TWkm\n",
    "dc_links_cap"
   ]
  },
  {
   "metadata": {},
   "cell_type": "code",
   "outputs": [],
   "execution_count": null,
   "source": [
    "grid_cap_w_nep_lines = line_cap + dc_links_cap\n",
    "grid_cap_w_nep_lines"
   ]
  },
  {
   "metadata": {},
   "cell_type": "markdown",
   "source": "## Network with NEP lines + links"
  },
  {
   "metadata": {},
   "cell_type": "code",
   "outputs": [],
   "execution_count": null,
   "source": "n_nep_lines_links = pypsa.Network(\"../resources/transmission-derivation/2032-neplinesandlinks/networks/base_s_52_elec_lv1.11_.nc\")"
  },
  {
   "metadata": {},
   "cell_type": "code",
   "outputs": [],
   "execution_count": null,
   "source": "n_nep_lines_links.lines"
  },
  {
   "metadata": {},
   "cell_type": "code",
   "outputs": [],
   "execution_count": null,
   "source": "ac_lines = n_nep_lines_links.lines"
  },
  {
   "metadata": {},
   "cell_type": "code",
   "outputs": [],
   "execution_count": null,
   "source": [
    "line_cap = ac_lines.s_nom.mul(ac_lines.length).div(1e3).sum()\n",
    "line_cap"
   ]
  },
  {
   "metadata": {},
   "cell_type": "code",
   "outputs": [],
   "execution_count": null,
   "source": [
    "dc_links = n_nep_lines_links.links.query(\"carrier=='DC'\")\n",
    "dc_links.head()"
   ]
  },
  {
   "metadata": {},
   "cell_type": "code",
   "outputs": [],
   "execution_count": null,
   "source": [
    "dc_links_cap = dc_links.p_nom.mul(dc_links.length).div(1e3).sum() # TWkm\n",
    "dc_links_cap"
   ]
  },
  {
   "metadata": {},
   "cell_type": "code",
   "outputs": [],
   "execution_count": null,
   "source": [
    "grid_cap_w_nep_lines_links = line_cap + dc_links_cap\n",
    "grid_cap_w_nep_lines_links"
   ]
  },
  {
   "metadata": {},
   "cell_type": "markdown",
   "source": "## Calculate ratios"
  },
  {
   "metadata": {},
   "cell_type": "markdown",
   "source": "### Only confirmed"
  },
  {
   "metadata": {},
   "cell_type": "code",
   "outputs": [],
   "execution_count": null,
   "source": [
    "# Ratio with NEP lines + links and without NEP\n",
    "grid_cap_w_nep_lines_links/grid_cap_wo_nep"
   ]
  },
  {
   "metadata": {},
   "cell_type": "code",
   "outputs": [],
   "execution_count": null,
   "source": [
    "# Ratio with NEP lines and without NEP\n",
    "grid_cap_w_nep_lines/grid_cap_wo_nep"
   ]
  },
  {
   "metadata": {},
   "cell_type": "code",
   "outputs": [],
   "execution_count": null,
   "source": [
    "# Ratio with NEP lines + links and NEP lines\n",
    "grid_cap_w_nep_lines_links/grid_cap_w_nep_lines"
   ]
  },
  {
   "metadata": {},
   "cell_type": "markdown",
   "source": "### Only 2032 filter"
  },
  {
   "metadata": {},
   "cell_type": "code",
   "outputs": [],
   "execution_count": null,
   "source": [
    "# Ratio with NEP lines + links and without NEP\n",
    "grid_cap_w_nep_lines_links/grid_cap_wo_nep"
   ]
  },
  {
   "metadata": {},
   "cell_type": "code",
   "outputs": [],
   "execution_count": null,
   "source": [
    "# Ratio with NEP lines and without NEP\n",
    "grid_cap_w_nep_lines/grid_cap_wo_nep"
   ]
  },
  {
   "metadata": {},
   "cell_type": "code",
   "outputs": [],
   "execution_count": null,
   "source": [
    "# Ratio with NEP lines + links and NEP lines\n",
    "grid_cap_w_nep_lines_links/grid_cap_w_nep_lines"
   ]
  },
  {
   "metadata": {},
   "cell_type": "markdown",
   "source": "### Only confirmed + 2032"
  },
  {
   "metadata": {},
   "cell_type": "code",
   "outputs": [],
   "execution_count": null,
   "source": [
    "# Ratio with NEP lines + links and without NEP\n",
    "grid_cap_w_nep_lines_links/grid_cap_wo_nep"
   ]
  },
  {
   "metadata": {},
   "cell_type": "code",
   "outputs": [],
   "execution_count": null,
   "source": [
    "# Ratio with NEP lines and without NEP\n",
    "grid_cap_w_nep_lines/grid_cap_wo_nep"
   ]
  },
  {
   "metadata": {},
   "cell_type": "code",
   "outputs": [],
   "execution_count": null,
   "source": [
    "# Ratio with NEP lines + links and NEP lines\n",
    "grid_cap_w_nep_lines_links/grid_cap_w_nep_lines"
   ]
  },
  {
   "metadata": {},
   "cell_type": "markdown",
   "source": "### NEP baseline"
  },
  {
   "metadata": {},
   "cell_type": "code",
   "outputs": [],
   "execution_count": null,
   "source": [
    "# Ratio with NEP lines + links and without NEP\n",
    "grid_cap_w_nep_lines_links/grid_cap_wo_nep"
   ]
  },
  {
   "metadata": {},
   "cell_type": "code",
   "outputs": [],
   "execution_count": null,
   "source": [
    "# Ratio with NEP lines and without NEP\n",
    "grid_cap_w_nep_lines/grid_cap_wo_nep"
   ]
  },
  {
   "metadata": {},
   "cell_type": "code",
   "outputs": [],
   "execution_count": null,
   "source": [
    "# Ratio with NEP lines + links and NEP lines\n",
    "grid_cap_w_nep_lines_links/grid_cap_w_nep_lines"
   ]
  },
  {
   "metadata": {},
   "cell_type": "markdown",
   "source": "## Carbon emission targets"
  },
  {
   "metadata": {},
   "cell_type": "code",
   "outputs": [],
   "execution_count": null,
   "source": "ctrys = ['AT', 'BE', 'CH', 'CZ', 'DE', 'DK', 'FR', 'IT', 'LU', 'NL', 'PL', 'SE']"
  },
  {
   "metadata": {},
   "cell_type": "code",
   "outputs": [],
   "execution_count": null,
   "source": [
    "\n",
    "# 1990 emissions in MtCO2\n",
    "co2_totals = pd.read_csv(\"../data/co2_totals_1990.csv\", index_col=0).loc[ctrys]"
   ]
  },
  {
   "metadata": {},
   "cell_type": "code",
   "outputs": [],
   "execution_count": null,
   "source": [
    "# 2005 emissions in MtCO2\n",
    "co2_totals_2005 = pd.read_csv(\"../data/co2_totals_2005.csv\", index_col=0).loc[ctrys]"
   ]
  },
  {
   "metadata": {},
   "cell_type": "code",
   "outputs": [],
   "execution_count": null,
   "source": [
    "# Total emissions excl. LULUCF\n",
    "co2_totals_excl_lulucf = co2_totals.drop([\"LULUCF\"], axis=1).sum(axis=1)\n",
    "co2_totals_excl_lulucf"
   ]
  },
  {
   "metadata": {},
   "cell_type": "code",
   "outputs": [],
   "execution_count": null,
   "source": [
    "# Total emissions incl. LULUCF\n",
    "co2_totals_incl_lulucf = co2_totals.sum(axis=1)\n",
    "co2_totals_incl_lulucf"
   ]
  },
  {
   "metadata": {},
   "cell_type": "code",
   "outputs": [],
   "execution_count": null,
   "source": [
    "# Total emissions excl. LULUCF\n",
    "co2_totals_excl_lulucf_2005 = co2_totals_2005.drop([\"LULUCF\"], axis=1).sum(axis=1)\n",
    "co2_totals_excl_lulucf_2005"
   ]
  },
  {
   "metadata": {},
   "cell_type": "code",
   "outputs": [],
   "execution_count": null,
   "source": [
    "# Total emissions incl. LULUCF 2005\n",
    "co2_totals_incl_lulucf_2005 = co2_totals_2005.sum(axis=1)\n",
    "co2_totals_incl_lulucf_2005"
   ]
  },
  {
   "metadata": {},
   "cell_type": "code",
   "outputs": [],
   "execution_count": null,
   "source": [
    "co2_totals_2005_all = pd.read_csv(\"../data/co2_totals_2005.csv\", index_col=0)\n",
    "co2_totals_excl_lulucf_2005_all = co2_totals_2005_all.drop([\"LULUCF\"], axis=1).sum(axis=1)"
   ]
  },
  {
   "metadata": {},
   "cell_type": "code",
   "outputs": [],
   "execution_count": null,
   "source": [
    "co2_totals_2005_all = pd.read_csv(\"../data/co2_totals_2005.csv\", index_col=0)\n",
    "co2_totals_incl_lulucf_2005_all = co2_totals_2005_all.sum(axis=1)"
   ]
  },
  {
   "metadata": {},
   "cell_type": "code",
   "outputs": [],
   "execution_count": null,
   "source": [
    "emission_share_included_ctrys_excl_lulucf = co2_totals_excl_lulucf_2005.sum()/co2_totals_excl_lulucf_2005_all.sum()\n",
    "emission_share_included_ctrys_excl_lulucf"
   ]
  },
  {
   "metadata": {},
   "cell_type": "code",
   "outputs": [],
   "execution_count": null,
   "source": [
    "emission_share_included_ctrys_incl_lulucf = co2_totals_incl_lulucf_2005.sum()/co2_totals_incl_lulucf_2005_all.sum()\n",
    "emission_share_included_ctrys_incl_lulucf"
   ]
  },
  {
   "metadata": {},
   "cell_type": "markdown",
   "source": "### ESR targets 2030 (compared to 2005) [Source](https://climate.ec.europa.eu/eu-action/effort-sharing-member-states-emission-targets/effort-sharing-2021-2030-targets-and-flexibilities_en)"
  },
  {
   "metadata": {},
   "cell_type": "code",
   "outputs": [],
   "execution_count": null,
   "source": [
    "esr_targets = {\n",
    "    \"AT\": 0.48,\n",
    "    \"BE\": 0.47,\n",
    "    \"CZ\": 0.26,\n",
    "    \"DE\": 0.5,\n",
    "    \"DK\": 0.5,\n",
    "    \"FR\": 0.475,\n",
    "    \"IT\": 0.437,\n",
    "    \"LU\": 0.5,\n",
    "    \"NL\": 0.48,\n",
    "    \"PL\": 0.177,\n",
    "    \"SE\": 0.5,\n",
    "}"
   ]
  },
  {
   "metadata": {},
   "cell_type": "markdown",
   "source": [
    "### Country specific emission reduction targets\n",
    "\n",
    "| Country | 2030 | 2035 | 2040 | 2045 | 2050 | Source |\n",
    "|---------|------|------|------|------|------|--------|\n",
    "| DE | 65% below 1990 excl. LULUCF | - | 85% below 1990 excl. LULUCF | 100% | - | [Source](https://www.bundesregierung.de/breg-de/themen/klimaschutz/klimaschutzgesetz-2021-1913672) |\n",
    "| AT | 48% below 2005 excl. LULUCF | - | 100% | - | - | [Source1](https://climate.ec.europa.eu/eu-action/effort-sharing-member-states-emission-targets/effort-sharing-2021-2030-targets-and-flexibilities_en) [Source2](https://www.sustainability.gov/pdfs/austria-nzgi-roadmap.pdf) |\n",
    "| BE | 55% below 1990 excl. LULUCF | - | - | - | 100% | [Source](https://www.sustainability.gov/pdfs/belgium-nzgi-roadmap.pdf) |\n",
    "| CH | 50% below 1990 excl. LULUCF | - | - |  - | 100% | [Source](https://www.bafu.admin.ch/bafu/en/home/topics/climate/info-specialists/emission-reduction/reduction-targets.html) |\n",
    "| CZ | 26% below 2005 excl. LULUCF | - | - |  - | 100% | [Source](https://tracker.carbongap.org/region/czech-republic/) |\n",
    "| DK | 70% below 1990 incl. LULUCF and 50% below 2005 excl. LULUCF | - | - |  100% | 110% | [Source](https://unfccc.int/sites/default/files/resource/SBI60_MA_DNK-7June2024-Presentation.pdf) |\n",
    "| FR | 47.5% below 2005 excl. LULUCF | - | - |  - | 100% | [Source](https://climate.ec.europa.eu/eu-action/effort-sharing-member-states-emission-targets/effort-sharing-2021-2030-targets-and-flexibilities_en) |\n",
    "| IT | 43.7% below 2005 excl. LULUCF | - | - |  - | 100% | [Source1](https://climate.ec.europa.eu/eu-action/effort-sharing-member-states-emission-targets/effort-sharing-2021-2030-targets-and-flexibilities_en) [Source2](https://www.iea.org/countries/italy#) |\n",
    "| LU | 55% below 2005 excl. LULUCF | - | - |  - | 100% | [Source](https://gouvernement.lu/en/dossiers/2023/2023-pnec.html) |\n",
    "| NL | 55% below 1990 | - | - |  - | 100% | [Source](https://commission.europa.eu/document/download/b6d21e56-4297-4b91-a692-300716209f72_en?filename=NL_FINAL%20UPDATED%20NECP%202021-2030%20%28English%29.pdf) |\n",
    "| PL | 17.7% below 2005 excl. LULUCF | - | - |  - |  | [Source](https://climate.ec.europa.eu/eu-action/effort-sharing-member-states-emission-targets/effort-sharing-2021-2030-targets-and-flexibilities_en) |\n",
    "| SE | 63% below 1990 | - | 75% below 1990 |  100% |  | [Source](https://www.bafu.admin.ch/bafu/en/home/topics/climate/info-specialists/emission-reduction/reduction-targets.html) |"
   ]
  },
  {
   "metadata": {},
   "cell_type": "code",
   "outputs": [],
   "execution_count": null,
   "source": [
    "# calculate linearly interpolated 2035 targets\n",
    "# base 1990\n",
    "target2035_base1990 = dict(DE = 0.75,\n",
    "BE = 0.55 + (1-0.55)*(2035-2030)/(2050-2030),\n",
    "CH = 0.625,\n",
    "DK = 0.7 + (1-0.7)*(2035-2030)/(2045-2030),\n",
    "NL = 0.55 + (1-0.55)*(2035-2030)/(2050-2030),\n",
    "SE = 0.69,\n",
    "PL = (esr_targets[\"PL\"]/esr_targets[\"DE\"])*0.75\n",
    ")\n",
    "# base 2005\n",
    "# Polands 2035 target is deduced based on the ESR distrubution key in relation to the German interpolated target\n",
    "target2035_base2005 = dict(AT = 0.74,\n",
    "CZ = 0.26 + (1-0.26)*(2035-2030)/(2050-2030),\n",
    "FR = 0.475 + (1-0.475)*(2035-2030)/(2050-2030),\n",
    "IT = 0.437 + (1-0.437)*(2035-2030)/(2050-2030),\n",
    "LU = 0.55 + (1-0.55)*(2035-2030)/(2050-2030)\n",
    ")\n",
    "print(target2035_base1990, target2035_base2005)"
   ]
  },
  {
   "metadata": {},
   "cell_type": "code",
   "outputs": [],
   "execution_count": null,
   "source": [
    "target_2035 = pd.DataFrame(index=co2_totals.index)\n",
    "target_2035[\"base1990\"] = target2035_base1990\n",
    "target_2035[\"base2005\"] = target2035_base2005\n",
    "target_2035"
   ]
  },
  {
   "metadata": {},
   "cell_type": "code",
   "outputs": [],
   "execution_count": null,
   "source": [
    "# Calculate aggregated 1990 emissions in MtCO2\n",
    "co2_1990_aggregated = co2_totals_excl_lulucf.sum()\n",
    "co2_1990_aggregated"
   ]
  },
  {
   "metadata": {},
   "cell_type": "code",
   "outputs": [],
   "execution_count": null,
   "source": [
    "# Calculate absolute target emissions in 2035 based on shares\n",
    "target_2035[\"absolute_emissions\"] = ((1-target_2035.base1990) * co2_totals_excl_lulucf).combine_first((1-target_2035.base2005) * co2_totals_excl_lulucf_2005)\n",
    "target_2035_aggregated = target_2035.absolute_emissions.sum()\n",
    "target_2035_aggregated"
   ]
  },
  {
   "metadata": {},
   "cell_type": "code",
   "outputs": [],
   "execution_count": null,
   "source": [
    "# Calculate share of 1990 emissions\n",
    "round(target_2035_aggregated/co2_1990_aggregated,3)"
   ]
  },
  {
   "metadata": {},
   "cell_type": "markdown",
   "source": "Alternate approach: For missing values take interpolated emission reduction target for Germany 2035 (75%). For other countries take distribution key from [EU effort sharing regulation](https://climate.ec.europa.eu/eu-action/effort-sharing-member-states-emission-targets/effort-sharing-2021-2030-targets-and-flexibilities_en). Then calculate total emissions based on 1990 values and weighted emission reduction target."
  },
  {
   "metadata": {},
   "cell_type": "code",
   "outputs": [],
   "execution_count": null,
   "source": "target_2035"
  },
  {
   "metadata": {},
   "cell_type": "markdown",
   "source": [
    "## Europe's 2040 climate target\n",
    "Source: https://eur-lex.europa.eu/resource.html?uri=cellar:6c154426-c5a6-11ee-95d9-01aa75ed71a1.0001.02/DOC_3&format=PDF"
   ]
  },
  {
   "metadata": {},
   "cell_type": "code",
   "outputs": [],
   "execution_count": null,
   "source": [
    "# calculate linearly interpolated 2035 targets\n",
    "target_sector = pd.read_csv(\"../data/co2_total_sector.csv\", index_col=0)\n",
    "target_sector['2035 S2'] = (target_sector['2030'] + target_sector['2040 S2'])/2\n",
    "target_sector_share = target_sector/target_sector.loc['Total Gross GHG Emissions',:]"
   ]
  },
  {
   "metadata": {},
   "cell_type": "code",
   "outputs": [],
   "execution_count": null,
   "source": "target_sector"
  },
  {
   "metadata": {},
   "cell_type": "code",
   "outputs": [],
   "execution_count": null,
   "source": [
    "# Select the included sector in the model (other energy sectors include non-CO2 GHG emissions and are thus excluded)\n",
    "include_sector = ['Power and district heating','Residential and Services**','Other Energy sectors*']\n",
    "\n",
    "target_sector_share_2035 = target_sector_share.loc[include_sector,'2035 S2'].sum()\n",
    "target_sector_share_2035"
   ]
  },
  {
   "metadata": {},
   "cell_type": "code",
   "outputs": [],
   "execution_count": null,
   "source": [
    "target_2035['included_sector_emissions'] = target_2035['absolute_emissions'] * target_sector_share_2035\n",
    "target_2035"
   ]
  },
  {
   "metadata": {},
   "cell_type": "code",
   "outputs": [],
   "execution_count": null,
   "source": [
    "# Calculate share of 1990 emissions\n",
    "round(target_2035['included_sector_emissions'].sum()/co2_1990_aggregated,3)"
   ]
  },
  {
   "metadata": {},
   "cell_type": "markdown",
   "source": "# Convert cost assumptions to NPVs"
  },
  {
   "metadata": {},
   "cell_type": "code",
   "outputs": [],
   "execution_count": null,
   "source": "import numpy as np"
  },
  {
   "metadata": {},
   "cell_type": "code",
   "outputs": [],
   "execution_count": null,
   "source": [
    "def convert_to_NPV(value = 23_500, i = 0.02, year = 2030, reference_year = 2020):\n",
    "    NPV = value/((1+i)**(year-reference_year))\n",
    "    return NPV"
   ]
  },
  {
   "metadata": {},
   "cell_type": "code",
   "outputs": [],
   "execution_count": null,
   "source": "convert_to_NPV(value = 23_500, i = 0.02, year = 2024, reference_year = 2020)"
  },
  {
   "metadata": {},
   "cell_type": "code",
   "outputs": [],
   "execution_count": null,
   "source": "convert_to_NPV(value = 20_000, i = 0.02, year = 2024, reference_year = 2020)"
  },
  {
   "metadata": {},
   "cell_type": "code",
   "outputs": [],
   "execution_count": null,
   "source": "convert_to_NPV(value = 15_250, i = 0.02, year = 2024, reference_year = 2020)"
  },
  {
   "metadata": {},
   "cell_type": "code",
   "outputs": [],
   "execution_count": null,
   "source": "convert_to_NPV(value = 30_000, i = 0.02, year = 2022, reference_year = 2020)"
  },
  {
   "metadata": {},
   "cell_type": "code",
   "outputs": [],
   "execution_count": null,
   "source": "convert_to_NPV(value = 1_725_000, i = 0.02, year = 2022, reference_year = 2020)"
  },
  {
   "metadata": {},
   "cell_type": "code",
   "outputs": [],
   "execution_count": null,
   "source": ""
  }
 ],
 "metadata": {
  "kernelspec": {
   "display_name": "Python 3 (ipykernel)",
   "language": "python",
   "name": "python3"
  },
  "language_info": {
   "codemirror_mode": {
    "name": "ipython",
    "version": 3
   },
   "file_extension": ".py",
   "mimetype": "text/x-python",
   "name": "python",
   "nbconvert_exporter": "python",
   "pygments_lexer": "ipython3",
   "version": "3.12.6"
  }
 },
 "nbformat": 4,
 "nbformat_minor": 4
}
