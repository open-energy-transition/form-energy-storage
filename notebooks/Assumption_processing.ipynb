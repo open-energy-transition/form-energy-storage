{
 "cells": [
  {
   "cell_type": "code",
   "execution_count": 7,
   "metadata": {
    "is_executing": true
   },
   "outputs": [],
   "source": [
    "import pypsa\n",
    "import pandas as pd"
   ]
  },
  {
   "cell_type": "markdown",
   "metadata": {
    "collapsed": false,
    "jupyter": {
     "outputs_hidden": false
    }
   },
   "source": [
    "# Process and analysis"
   ]
  },
  {
   "cell_type": "markdown",
   "metadata": {
    "jp-MarkdownHeadingCollapsed": true
   },
   "source": [
    "## Network without NEP"
   ]
  },
  {
   "cell_type": "code",
   "execution_count": null,
   "metadata": {},
   "outputs": [
    {
     "name": "stderr",
     "output_type": "stream",
     "text": [
      "INFO:pypsa.io:Imported network base_s_52_lv1.11___2035.nc has buses, carriers, generators, global_constraints, lines, links, loads, storage_units, stores\n"
     ]
    }
   ],
   "source": [
    "n_no_nep = pypsa.Network(\"../results/transmission-derivation/baseline-nonep/prenetworks/base_s_52_lv1.11___2035.nc\")"
   ]
  },
  {
   "cell_type": "code",
   "execution_count": 448,
   "metadata": {},
   "outputs": [],
   "source": [
    "ac_lines = n_no_nep.lines"
   ]
  },
  {
   "cell_type": "code",
   "execution_count": 449,
   "metadata": {},
   "outputs": [
    {
     "data": {
      "text/plain": [
       "133984.1929275"
      ]
     },
     "execution_count": 449,
     "metadata": {},
     "output_type": "execute_result"
    }
   ],
   "source": [
    "line_cap = ac_lines.s_nom.mul(ac_lines.length).div(1e3).sum()\n",
    "line_cap"
   ]
  },
  {
   "cell_type": "code",
   "execution_count": 450,
   "metadata": {},
   "outputs": [
    {
     "data": {
      "text/plain": [
       "577332.5445363616"
      ]
     },
     "execution_count": 450,
     "metadata": {},
     "output_type": "execute_result"
    }
   ],
   "source": [
    "ac_lines.s_nom.sum()"
   ]
  },
  {
   "cell_type": "code",
   "execution_count": 451,
   "metadata": {},
   "outputs": [
    {
     "data": {
      "text/html": [
       "<div>\n",
       "<style scoped>\n",
       "    .dataframe tbody tr th:only-of-type {\n",
       "        vertical-align: middle;\n",
       "    }\n",
       "\n",
       "    .dataframe tbody tr th {\n",
       "        vertical-align: top;\n",
       "    }\n",
       "\n",
       "    .dataframe thead th {\n",
       "        text-align: right;\n",
       "    }\n",
       "</style>\n",
       "<table border=\"1\" class=\"dataframe\">\n",
       "  <thead>\n",
       "    <tr style=\"text-align: right;\">\n",
       "      <th></th>\n",
       "      <th>bus0</th>\n",
       "      <th>bus1</th>\n",
       "      <th>type</th>\n",
       "      <th>carrier</th>\n",
       "      <th>efficiency</th>\n",
       "      <th>active</th>\n",
       "      <th>build_year</th>\n",
       "      <th>lifetime</th>\n",
       "      <th>p_nom</th>\n",
       "      <th>p_nom_mod</th>\n",
       "      <th>...</th>\n",
       "      <th>length_original</th>\n",
       "      <th>under_construction</th>\n",
       "      <th>voltage</th>\n",
       "      <th>underground</th>\n",
       "      <th>geometry</th>\n",
       "      <th>dc</th>\n",
       "      <th>underwater_fraction</th>\n",
       "      <th>location</th>\n",
       "      <th>tags</th>\n",
       "      <th>reversed</th>\n",
       "    </tr>\n",
       "    <tr>\n",
       "      <th>Link</th>\n",
       "      <th></th>\n",
       "      <th></th>\n",
       "      <th></th>\n",
       "      <th></th>\n",
       "      <th></th>\n",
       "      <th></th>\n",
       "      <th></th>\n",
       "      <th></th>\n",
       "      <th></th>\n",
       "      <th></th>\n",
       "      <th></th>\n",
       "      <th></th>\n",
       "      <th></th>\n",
       "      <th></th>\n",
       "      <th></th>\n",
       "      <th></th>\n",
       "      <th></th>\n",
       "      <th></th>\n",
       "      <th></th>\n",
       "      <th></th>\n",
       "      <th></th>\n",
       "    </tr>\n",
       "  </thead>\n",
       "  <tbody>\n",
       "    <tr>\n",
       "      <th>relation/2505320-400-DC</th>\n",
       "      <td>DK1 0</td>\n",
       "      <td>DE0 10</td>\n",
       "      <td></td>\n",
       "      <td>DC</td>\n",
       "      <td>0.973880</td>\n",
       "      <td>True</td>\n",
       "      <td>0</td>\n",
       "      <td>inf</td>\n",
       "      <td>600.0</td>\n",
       "      <td>0.0</td>\n",
       "      <td>...</td>\n",
       "      <td>269.210494</td>\n",
       "      <td>0.0</td>\n",
       "      <td>400.0</td>\n",
       "      <td>1.0</td>\n",
       "      <td>LINESTRING (12.0074143643741 55.45030397887522...</td>\n",
       "      <td>1.0</td>\n",
       "      <td>0.281105</td>\n",
       "      <td></td>\n",
       "      <td>relation/2505320</td>\n",
       "      <td>False</td>\n",
       "    </tr>\n",
       "    <tr>\n",
       "      <th>relation/3391794-200-DC</th>\n",
       "      <td>IT2 0</td>\n",
       "      <td>FR3 0</td>\n",
       "      <td></td>\n",
       "      <td>DC</td>\n",
       "      <td>0.971945</td>\n",
       "      <td>True</td>\n",
       "      <td>0</td>\n",
       "      <td>inf</td>\n",
       "      <td>300.0</td>\n",
       "      <td>0.0</td>\n",
       "      <td>...</td>\n",
       "      <td>354.710531</td>\n",
       "      <td>0.0</td>\n",
       "      <td>200.0</td>\n",
       "      <td>1.0</td>\n",
       "      <td>LINESTRING (8.713917011839937 40.6520491271003...</td>\n",
       "      <td>1.0</td>\n",
       "      <td>0.052118</td>\n",
       "      <td></td>\n",
       "      <td>relation/3391794</td>\n",
       "      <td>False</td>\n",
       "    </tr>\n",
       "    <tr>\n",
       "      <th>relation/3392010-450-DC</th>\n",
       "      <td>PL0 0</td>\n",
       "      <td>SE1 0</td>\n",
       "      <td></td>\n",
       "      <td>DC</td>\n",
       "      <td>0.952022</td>\n",
       "      <td>True</td>\n",
       "      <td>0</td>\n",
       "      <td>inf</td>\n",
       "      <td>600.0</td>\n",
       "      <td>0.0</td>\n",
       "      <td>...</td>\n",
       "      <td>1244.778527</td>\n",
       "      <td>0.0</td>\n",
       "      <td>450.0</td>\n",
       "      <td>1.0</td>\n",
       "      <td>LINESTRING (14.84028235523815 56.1530147407003...</td>\n",
       "      <td>1.0</td>\n",
       "      <td>0.940780</td>\n",
       "      <td></td>\n",
       "      <td>relation/3392010</td>\n",
       "      <td>False</td>\n",
       "    </tr>\n",
       "    <tr>\n",
       "      <th>relation/3918230-450-DC</th>\n",
       "      <td>DE0 26</td>\n",
       "      <td>SE1 0</td>\n",
       "      <td></td>\n",
       "      <td>DC</td>\n",
       "      <td>0.956318</td>\n",
       "      <td>True</td>\n",
       "      <td>0</td>\n",
       "      <td>inf</td>\n",
       "      <td>600.0</td>\n",
       "      <td>0.0</td>\n",
       "      <td>...</td>\n",
       "      <td>1051.298387</td>\n",
       "      <td>0.0</td>\n",
       "      <td>450.0</td>\n",
       "      <td>1.0</td>\n",
       "      <td>LINESTRING (10.80243095002194 53.8961375941516...</td>\n",
       "      <td>1.0</td>\n",
       "      <td>0.927793</td>\n",
       "      <td></td>\n",
       "      <td>relation/3918230</td>\n",
       "      <td>False</td>\n",
       "    </tr>\n",
       "    <tr>\n",
       "      <th>relation/5487095-400-DC</th>\n",
       "      <td>DK0 0</td>\n",
       "      <td>DK1 0</td>\n",
       "      <td></td>\n",
       "      <td>DC</td>\n",
       "      <td>0.975062</td>\n",
       "      <td>True</td>\n",
       "      <td>0</td>\n",
       "      <td>inf</td>\n",
       "      <td>600.0</td>\n",
       "      <td>0.0</td>\n",
       "      <td>...</td>\n",
       "      <td>217.084525</td>\n",
       "      <td>0.0</td>\n",
       "      <td>400.0</td>\n",
       "      <td>1.0</td>\n",
       "      <td>LINESTRING (10.505724427906852 55.365970143543...</td>\n",
       "      <td>1.0</td>\n",
       "      <td>0.560249</td>\n",
       "      <td></td>\n",
       "      <td>relation/5487095</td>\n",
       "      <td>False</td>\n",
       "    </tr>\n",
       "  </tbody>\n",
       "</table>\n",
       "<p>5 rows × 50 columns</p>\n",
       "</div>"
      ],
      "text/plain": [
       "                           bus0    bus1 type carrier  efficiency  active  \\\n",
       "Link                                                                       \n",
       "relation/2505320-400-DC   DK1 0  DE0 10           DC    0.973880    True   \n",
       "relation/3391794-200-DC   IT2 0   FR3 0           DC    0.971945    True   \n",
       "relation/3392010-450-DC   PL0 0   SE1 0           DC    0.952022    True   \n",
       "relation/3918230-450-DC  DE0 26   SE1 0           DC    0.956318    True   \n",
       "relation/5487095-400-DC   DK0 0   DK1 0           DC    0.975062    True   \n",
       "\n",
       "                         build_year  lifetime  p_nom  p_nom_mod  ...  \\\n",
       "Link                                                             ...   \n",
       "relation/2505320-400-DC           0       inf  600.0        0.0  ...   \n",
       "relation/3391794-200-DC           0       inf  300.0        0.0  ...   \n",
       "relation/3392010-450-DC           0       inf  600.0        0.0  ...   \n",
       "relation/3918230-450-DC           0       inf  600.0        0.0  ...   \n",
       "relation/5487095-400-DC           0       inf  600.0        0.0  ...   \n",
       "\n",
       "                         length_original  under_construction  voltage  \\\n",
       "Link                                                                    \n",
       "relation/2505320-400-DC       269.210494                 0.0    400.0   \n",
       "relation/3391794-200-DC       354.710531                 0.0    200.0   \n",
       "relation/3392010-450-DC      1244.778527                 0.0    450.0   \n",
       "relation/3918230-450-DC      1051.298387                 0.0    450.0   \n",
       "relation/5487095-400-DC       217.084525                 0.0    400.0   \n",
       "\n",
       "                         underground  \\\n",
       "Link                                   \n",
       "relation/2505320-400-DC          1.0   \n",
       "relation/3391794-200-DC          1.0   \n",
       "relation/3392010-450-DC          1.0   \n",
       "relation/3918230-450-DC          1.0   \n",
       "relation/5487095-400-DC          1.0   \n",
       "\n",
       "                                                                  geometry  \\\n",
       "Link                                                                         \n",
       "relation/2505320-400-DC  LINESTRING (12.0074143643741 55.45030397887522...   \n",
       "relation/3391794-200-DC  LINESTRING (8.713917011839937 40.6520491271003...   \n",
       "relation/3392010-450-DC  LINESTRING (14.84028235523815 56.1530147407003...   \n",
       "relation/3918230-450-DC  LINESTRING (10.80243095002194 53.8961375941516...   \n",
       "relation/5487095-400-DC  LINESTRING (10.505724427906852 55.365970143543...   \n",
       "\n",
       "                          dc  underwater_fraction  location              tags  \\\n",
       "Link                                                                            \n",
       "relation/2505320-400-DC  1.0             0.281105            relation/2505320   \n",
       "relation/3391794-200-DC  1.0             0.052118            relation/3391794   \n",
       "relation/3392010-450-DC  1.0             0.940780            relation/3392010   \n",
       "relation/3918230-450-DC  1.0             0.927793            relation/3918230   \n",
       "relation/5487095-400-DC  1.0             0.560249            relation/5487095   \n",
       "\n",
       "                         reversed  \n",
       "Link                               \n",
       "relation/2505320-400-DC     False  \n",
       "relation/3391794-200-DC     False  \n",
       "relation/3392010-450-DC     False  \n",
       "relation/3918230-450-DC     False  \n",
       "relation/5487095-400-DC     False  \n",
       "\n",
       "[5 rows x 50 columns]"
      ]
     },
     "execution_count": 451,
     "metadata": {},
     "output_type": "execute_result"
    }
   ],
   "source": [
    "dc_links = n_no_nep.links.query(\"carrier=='DC'\")\n",
    "dc_links.head()"
   ]
  },
  {
   "cell_type": "code",
   "execution_count": 452,
   "metadata": {},
   "outputs": [
    {
     "data": {
      "text/plain": [
       "3711.437760191092"
      ]
     },
     "execution_count": 452,
     "metadata": {},
     "output_type": "execute_result"
    }
   ],
   "source": [
    "dc_links_cap = dc_links.p_nom.mul(dc_links.length).div(1e3).sum() # TWkm\n",
    "dc_links_cap"
   ]
  },
  {
   "cell_type": "code",
   "execution_count": 453,
   "metadata": {},
   "outputs": [
    {
     "data": {
      "text/plain": [
       "137695.6306876911"
      ]
     },
     "execution_count": 453,
     "metadata": {},
     "output_type": "execute_result"
    }
   ],
   "source": [
    "grid_cap_wo_nep = line_cap + dc_links_cap\n",
    "grid_cap_wo_nep"
   ]
  },
  {
   "cell_type": "markdown",
   "metadata": {
    "jp-MarkdownHeadingCollapsed": true
   },
   "source": [
    "## Network with NEP lines"
   ]
  },
  {
   "cell_type": "code",
   "execution_count": 454,
   "metadata": {},
   "outputs": [
    {
     "name": "stderr",
     "output_type": "stream",
     "text": [
      "INFO:pypsa.io:Imported network base_s_52_lv1.11___2035.nc has buses, carriers, generators, global_constraints, lines, links, loads, storage_units, stores\n"
     ]
    }
   ],
   "source": [
    "n_nep = pypsa.Network(\"../results/transmission-derivation/2032-confirmed-neplines/prenetworks/base_s_52_lv1.11___2035.nc\")"
   ]
  },
  {
   "cell_type": "code",
   "execution_count": 455,
   "metadata": {},
   "outputs": [
    {
     "data": {
      "text/html": [
       "<div>\n",
       "<style scoped>\n",
       "    .dataframe tbody tr th:only-of-type {\n",
       "        vertical-align: middle;\n",
       "    }\n",
       "\n",
       "    .dataframe tbody tr th {\n",
       "        vertical-align: top;\n",
       "    }\n",
       "\n",
       "    .dataframe thead th {\n",
       "        text-align: right;\n",
       "    }\n",
       "</style>\n",
       "<table border=\"1\" class=\"dataframe\">\n",
       "  <thead>\n",
       "    <tr style=\"text-align: right;\">\n",
       "      <th></th>\n",
       "      <th>bus0</th>\n",
       "      <th>bus1</th>\n",
       "      <th>type</th>\n",
       "      <th>x</th>\n",
       "      <th>r</th>\n",
       "      <th>g</th>\n",
       "      <th>b</th>\n",
       "      <th>s_nom</th>\n",
       "      <th>s_nom_mod</th>\n",
       "      <th>s_nom_extendable</th>\n",
       "      <th>...</th>\n",
       "      <th>x_pu</th>\n",
       "      <th>r_pu</th>\n",
       "      <th>g_pu</th>\n",
       "      <th>b_pu</th>\n",
       "      <th>x_pu_eff</th>\n",
       "      <th>r_pu_eff</th>\n",
       "      <th>s_nom_opt</th>\n",
       "      <th>dc</th>\n",
       "      <th>i_nom</th>\n",
       "      <th>v_nom</th>\n",
       "    </tr>\n",
       "    <tr>\n",
       "      <th>Line</th>\n",
       "      <th></th>\n",
       "      <th></th>\n",
       "      <th></th>\n",
       "      <th></th>\n",
       "      <th></th>\n",
       "      <th></th>\n",
       "      <th></th>\n",
       "      <th></th>\n",
       "      <th></th>\n",
       "      <th></th>\n",
       "      <th></th>\n",
       "      <th></th>\n",
       "      <th></th>\n",
       "      <th></th>\n",
       "      <th></th>\n",
       "      <th></th>\n",
       "      <th></th>\n",
       "      <th></th>\n",
       "      <th></th>\n",
       "      <th></th>\n",
       "      <th></th>\n",
       "    </tr>\n",
       "  </thead>\n",
       "  <tbody>\n",
       "    <tr>\n",
       "      <th>0</th>\n",
       "      <td>AT0 0</td>\n",
       "      <td>CH0 0</td>\n",
       "      <td>Al/St 240/40 4-bundle 380.0</td>\n",
       "      <td>38.365333</td>\n",
       "      <td>5.668323</td>\n",
       "      <td>0.0</td>\n",
       "      <td>0.009368</td>\n",
       "      <td>4379.317262</td>\n",
       "      <td>0.0</td>\n",
       "      <td>True</td>\n",
       "      <td>...</td>\n",
       "      <td>0.0</td>\n",
       "      <td>0.0</td>\n",
       "      <td>0.0</td>\n",
       "      <td>0.0</td>\n",
       "      <td>0.0</td>\n",
       "      <td>0.0</td>\n",
       "      <td>0.0</td>\n",
       "      <td>0.0</td>\n",
       "      <td>2.58</td>\n",
       "      <td>380</td>\n",
       "    </tr>\n",
       "    <tr>\n",
       "      <th>1</th>\n",
       "      <td>AT0 0</td>\n",
       "      <td>CZ0 0</td>\n",
       "      <td>Al/St 240/40 4-bundle 380.0</td>\n",
       "      <td>22.331495</td>\n",
       "      <td>3.299389</td>\n",
       "      <td>0.0</td>\n",
       "      <td>0.005452</td>\n",
       "      <td>4379.317262</td>\n",
       "      <td>0.0</td>\n",
       "      <td>True</td>\n",
       "      <td>...</td>\n",
       "      <td>0.0</td>\n",
       "      <td>0.0</td>\n",
       "      <td>0.0</td>\n",
       "      <td>0.0</td>\n",
       "      <td>0.0</td>\n",
       "      <td>0.0</td>\n",
       "      <td>0.0</td>\n",
       "      <td>0.0</td>\n",
       "      <td>2.58</td>\n",
       "      <td>380</td>\n",
       "    </tr>\n",
       "    <tr>\n",
       "      <th>10</th>\n",
       "      <td>BE0 0</td>\n",
       "      <td>NL0 0</td>\n",
       "      <td>Al/St 240/40 4-bundle 380.0</td>\n",
       "      <td>9.227679</td>\n",
       "      <td>1.125321</td>\n",
       "      <td>0.0</td>\n",
       "      <td>0.005855</td>\n",
       "      <td>10188.615670</td>\n",
       "      <td>0.0</td>\n",
       "      <td>True</td>\n",
       "      <td>...</td>\n",
       "      <td>0.0</td>\n",
       "      <td>0.0</td>\n",
       "      <td>0.0</td>\n",
       "      <td>0.0</td>\n",
       "      <td>0.0</td>\n",
       "      <td>0.0</td>\n",
       "      <td>0.0</td>\n",
       "      <td>0.0</td>\n",
       "      <td>2.58</td>\n",
       "      <td>380</td>\n",
       "    </tr>\n",
       "    <tr>\n",
       "      <th>100</th>\n",
       "      <td>IT0 1</td>\n",
       "      <td>IT0 2</td>\n",
       "      <td>Al/St 240/40 4-bundle 380.0</td>\n",
       "      <td>6.556203</td>\n",
       "      <td>1.002476</td>\n",
       "      <td>0.0</td>\n",
       "      <td>0.019190</td>\n",
       "      <td>14121.063824</td>\n",
       "      <td>0.0</td>\n",
       "      <td>True</td>\n",
       "      <td>...</td>\n",
       "      <td>0.0</td>\n",
       "      <td>0.0</td>\n",
       "      <td>0.0</td>\n",
       "      <td>0.0</td>\n",
       "      <td>0.0</td>\n",
       "      <td>0.0</td>\n",
       "      <td>0.0</td>\n",
       "      <td>0.0</td>\n",
       "      <td>2.58</td>\n",
       "      <td>380</td>\n",
       "    </tr>\n",
       "    <tr>\n",
       "      <th>11</th>\n",
       "      <td>CH0 0</td>\n",
       "      <td>DE0 18</td>\n",
       "      <td>Al/St 240/40 4-bundle 380.0</td>\n",
       "      <td>2.432578</td>\n",
       "      <td>0.336994</td>\n",
       "      <td>0.0</td>\n",
       "      <td>0.011205</td>\n",
       "      <td>21628.464844</td>\n",
       "      <td>0.0</td>\n",
       "      <td>True</td>\n",
       "      <td>...</td>\n",
       "      <td>0.0</td>\n",
       "      <td>0.0</td>\n",
       "      <td>0.0</td>\n",
       "      <td>0.0</td>\n",
       "      <td>0.0</td>\n",
       "      <td>0.0</td>\n",
       "      <td>0.0</td>\n",
       "      <td>0.0</td>\n",
       "      <td>2.58</td>\n",
       "      <td>380</td>\n",
       "    </tr>\n",
       "    <tr>\n",
       "      <th>...</th>\n",
       "      <td>...</td>\n",
       "      <td>...</td>\n",
       "      <td>...</td>\n",
       "      <td>...</td>\n",
       "      <td>...</td>\n",
       "      <td>...</td>\n",
       "      <td>...</td>\n",
       "      <td>...</td>\n",
       "      <td>...</td>\n",
       "      <td>...</td>\n",
       "      <td>...</td>\n",
       "      <td>...</td>\n",
       "      <td>...</td>\n",
       "      <td>...</td>\n",
       "      <td>...</td>\n",
       "      <td>...</td>\n",
       "      <td>...</td>\n",
       "      <td>...</td>\n",
       "      <td>...</td>\n",
       "      <td>...</td>\n",
       "      <td>...</td>\n",
       "    </tr>\n",
       "    <tr>\n",
       "      <th>95</th>\n",
       "      <td>FR0 2</td>\n",
       "      <td>FR0 4</td>\n",
       "      <td>Al/St 240/40 4-bundle 380.0</td>\n",
       "      <td>6.364712</td>\n",
       "      <td>1.006031</td>\n",
       "      <td>0.0</td>\n",
       "      <td>0.011275</td>\n",
       "      <td>10668.999962</td>\n",
       "      <td>0.0</td>\n",
       "      <td>True</td>\n",
       "      <td>...</td>\n",
       "      <td>0.0</td>\n",
       "      <td>0.0</td>\n",
       "      <td>0.0</td>\n",
       "      <td>0.0</td>\n",
       "      <td>0.0</td>\n",
       "      <td>0.0</td>\n",
       "      <td>0.0</td>\n",
       "      <td>0.0</td>\n",
       "      <td>2.58</td>\n",
       "      <td>380</td>\n",
       "    </tr>\n",
       "    <tr>\n",
       "      <th>96</th>\n",
       "      <td>FR0 2</td>\n",
       "      <td>IT0 1</td>\n",
       "      <td>Al/St 240/40 4-bundle 380.0</td>\n",
       "      <td>24.252374</td>\n",
       "      <td>3.225714</td>\n",
       "      <td>0.0</td>\n",
       "      <td>0.006373</td>\n",
       "      <td>5865.157047</td>\n",
       "      <td>0.0</td>\n",
       "      <td>True</td>\n",
       "      <td>...</td>\n",
       "      <td>0.0</td>\n",
       "      <td>0.0</td>\n",
       "      <td>0.0</td>\n",
       "      <td>0.0</td>\n",
       "      <td>0.0</td>\n",
       "      <td>0.0</td>\n",
       "      <td>0.0</td>\n",
       "      <td>0.0</td>\n",
       "      <td>2.58</td>\n",
       "      <td>380</td>\n",
       "    </tr>\n",
       "    <tr>\n",
       "      <th>97</th>\n",
       "      <td>FR0 3</td>\n",
       "      <td>FR0 4</td>\n",
       "      <td>Al/St 240/40 4-bundle 380.0</td>\n",
       "      <td>13.282543</td>\n",
       "      <td>1.890312</td>\n",
       "      <td>0.0</td>\n",
       "      <td>0.029920</td>\n",
       "      <td>15025.973768</td>\n",
       "      <td>0.0</td>\n",
       "      <td>True</td>\n",
       "      <td>...</td>\n",
       "      <td>0.0</td>\n",
       "      <td>0.0</td>\n",
       "      <td>0.0</td>\n",
       "      <td>0.0</td>\n",
       "      <td>0.0</td>\n",
       "      <td>0.0</td>\n",
       "      <td>0.0</td>\n",
       "      <td>0.0</td>\n",
       "      <td>2.58</td>\n",
       "      <td>380</td>\n",
       "    </tr>\n",
       "    <tr>\n",
       "      <th>98</th>\n",
       "      <td>FR0 4</td>\n",
       "      <td>FR0 5</td>\n",
       "      <td>Al/St 240/40 4-bundle 380.0</td>\n",
       "      <td>9.695653</td>\n",
       "      <td>1.523438</td>\n",
       "      <td>0.0</td>\n",
       "      <td>0.009117</td>\n",
       "      <td>7876.068035</td>\n",
       "      <td>0.0</td>\n",
       "      <td>True</td>\n",
       "      <td>...</td>\n",
       "      <td>0.0</td>\n",
       "      <td>0.0</td>\n",
       "      <td>0.0</td>\n",
       "      <td>0.0</td>\n",
       "      <td>0.0</td>\n",
       "      <td>0.0</td>\n",
       "      <td>0.0</td>\n",
       "      <td>0.0</td>\n",
       "      <td>2.58</td>\n",
       "      <td>380</td>\n",
       "    </tr>\n",
       "    <tr>\n",
       "      <th>99</th>\n",
       "      <td>IT0 0</td>\n",
       "      <td>IT0 2</td>\n",
       "      <td>Al/St 240/40 4-bundle 380.0</td>\n",
       "      <td>23.756093</td>\n",
       "      <td>3.038496</td>\n",
       "      <td>0.0</td>\n",
       "      <td>0.019710</td>\n",
       "      <td>10680.171690</td>\n",
       "      <td>0.0</td>\n",
       "      <td>True</td>\n",
       "      <td>...</td>\n",
       "      <td>0.0</td>\n",
       "      <td>0.0</td>\n",
       "      <td>0.0</td>\n",
       "      <td>0.0</td>\n",
       "      <td>0.0</td>\n",
       "      <td>0.0</td>\n",
       "      <td>0.0</td>\n",
       "      <td>0.0</td>\n",
       "      <td>2.58</td>\n",
       "      <td>380</td>\n",
       "    </tr>\n",
       "  </tbody>\n",
       "</table>\n",
       "<p>101 rows × 34 columns</p>\n",
       "</div>"
      ],
      "text/plain": [
       "       bus0    bus1                         type          x         r    g  \\\n",
       "Line                                                                         \n",
       "0     AT0 0   CH0 0  Al/St 240/40 4-bundle 380.0  38.365333  5.668323  0.0   \n",
       "1     AT0 0   CZ0 0  Al/St 240/40 4-bundle 380.0  22.331495  3.299389  0.0   \n",
       "10    BE0 0   NL0 0  Al/St 240/40 4-bundle 380.0   9.227679  1.125321  0.0   \n",
       "100   IT0 1   IT0 2  Al/St 240/40 4-bundle 380.0   6.556203  1.002476  0.0   \n",
       "11    CH0 0  DE0 18  Al/St 240/40 4-bundle 380.0   2.432578  0.336994  0.0   \n",
       "...     ...     ...                          ...        ...       ...  ...   \n",
       "95    FR0 2   FR0 4  Al/St 240/40 4-bundle 380.0   6.364712  1.006031  0.0   \n",
       "96    FR0 2   IT0 1  Al/St 240/40 4-bundle 380.0  24.252374  3.225714  0.0   \n",
       "97    FR0 3   FR0 4  Al/St 240/40 4-bundle 380.0  13.282543  1.890312  0.0   \n",
       "98    FR0 4   FR0 5  Al/St 240/40 4-bundle 380.0   9.695653  1.523438  0.0   \n",
       "99    IT0 0   IT0 2  Al/St 240/40 4-bundle 380.0  23.756093  3.038496  0.0   \n",
       "\n",
       "             b         s_nom  s_nom_mod  s_nom_extendable  ...  x_pu  r_pu  \\\n",
       "Line                                                       ...               \n",
       "0     0.009368   4379.317262        0.0              True  ...   0.0   0.0   \n",
       "1     0.005452   4379.317262        0.0              True  ...   0.0   0.0   \n",
       "10    0.005855  10188.615670        0.0              True  ...   0.0   0.0   \n",
       "100   0.019190  14121.063824        0.0              True  ...   0.0   0.0   \n",
       "11    0.011205  21628.464844        0.0              True  ...   0.0   0.0   \n",
       "...        ...           ...        ...               ...  ...   ...   ...   \n",
       "95    0.011275  10668.999962        0.0              True  ...   0.0   0.0   \n",
       "96    0.006373   5865.157047        0.0              True  ...   0.0   0.0   \n",
       "97    0.029920  15025.973768        0.0              True  ...   0.0   0.0   \n",
       "98    0.009117   7876.068035        0.0              True  ...   0.0   0.0   \n",
       "99    0.019710  10680.171690        0.0              True  ...   0.0   0.0   \n",
       "\n",
       "      g_pu  b_pu  x_pu_eff  r_pu_eff  s_nom_opt   dc i_nom  v_nom  \n",
       "Line                                                               \n",
       "0      0.0   0.0       0.0       0.0        0.0  0.0  2.58    380  \n",
       "1      0.0   0.0       0.0       0.0        0.0  0.0  2.58    380  \n",
       "10     0.0   0.0       0.0       0.0        0.0  0.0  2.58    380  \n",
       "100    0.0   0.0       0.0       0.0        0.0  0.0  2.58    380  \n",
       "11     0.0   0.0       0.0       0.0        0.0  0.0  2.58    380  \n",
       "...    ...   ...       ...       ...        ...  ...   ...    ...  \n",
       "95     0.0   0.0       0.0       0.0        0.0  0.0  2.58    380  \n",
       "96     0.0   0.0       0.0       0.0        0.0  0.0  2.58    380  \n",
       "97     0.0   0.0       0.0       0.0        0.0  0.0  2.58    380  \n",
       "98     0.0   0.0       0.0       0.0        0.0  0.0  2.58    380  \n",
       "99     0.0   0.0       0.0       0.0        0.0  0.0  2.58    380  \n",
       "\n",
       "[101 rows x 34 columns]"
      ]
     },
     "execution_count": 455,
     "metadata": {},
     "output_type": "execute_result"
    }
   ],
   "source": [
    "n_nep.lines"
   ]
  },
  {
   "cell_type": "code",
   "execution_count": 456,
   "metadata": {},
   "outputs": [],
   "source": [
    "ac_lines = n_nep.lines"
   ]
  },
  {
   "cell_type": "code",
   "execution_count": 457,
   "metadata": {},
   "outputs": [
    {
     "data": {
      "text/plain": [
       "135833.54580619605"
      ]
     },
     "execution_count": 457,
     "metadata": {},
     "output_type": "execute_result"
    }
   ],
   "source": [
    "line_cap = ac_lines.s_nom.mul(ac_lines.length).div(1e3).sum()\n",
    "line_cap"
   ]
  },
  {
   "cell_type": "code",
   "execution_count": 458,
   "metadata": {},
   "outputs": [
    {
     "data": {
      "text/html": [
       "<div>\n",
       "<style scoped>\n",
       "    .dataframe tbody tr th:only-of-type {\n",
       "        vertical-align: middle;\n",
       "    }\n",
       "\n",
       "    .dataframe tbody tr th {\n",
       "        vertical-align: top;\n",
       "    }\n",
       "\n",
       "    .dataframe thead th {\n",
       "        text-align: right;\n",
       "    }\n",
       "</style>\n",
       "<table border=\"1\" class=\"dataframe\">\n",
       "  <thead>\n",
       "    <tr style=\"text-align: right;\">\n",
       "      <th></th>\n",
       "      <th>bus0</th>\n",
       "      <th>bus1</th>\n",
       "      <th>type</th>\n",
       "      <th>carrier</th>\n",
       "      <th>efficiency</th>\n",
       "      <th>active</th>\n",
       "      <th>build_year</th>\n",
       "      <th>lifetime</th>\n",
       "      <th>p_nom</th>\n",
       "      <th>p_nom_mod</th>\n",
       "      <th>...</th>\n",
       "      <th>under_construction</th>\n",
       "      <th>voltage</th>\n",
       "      <th>project_status</th>\n",
       "      <th>tags</th>\n",
       "      <th>underground</th>\n",
       "      <th>geometry</th>\n",
       "      <th>dc</th>\n",
       "      <th>location</th>\n",
       "      <th>underwater_fraction</th>\n",
       "      <th>reversed</th>\n",
       "    </tr>\n",
       "    <tr>\n",
       "      <th>Link</th>\n",
       "      <th></th>\n",
       "      <th></th>\n",
       "      <th></th>\n",
       "      <th></th>\n",
       "      <th></th>\n",
       "      <th></th>\n",
       "      <th></th>\n",
       "      <th></th>\n",
       "      <th></th>\n",
       "      <th></th>\n",
       "      <th></th>\n",
       "      <th></th>\n",
       "      <th></th>\n",
       "      <th></th>\n",
       "      <th></th>\n",
       "      <th></th>\n",
       "      <th></th>\n",
       "      <th></th>\n",
       "      <th></th>\n",
       "      <th></th>\n",
       "      <th></th>\n",
       "    </tr>\n",
       "  </thead>\n",
       "  <tbody>\n",
       "    <tr>\n",
       "      <th>relation/2505320-400-DC</th>\n",
       "      <td>DK1 0</td>\n",
       "      <td>DE0 7</td>\n",
       "      <td></td>\n",
       "      <td>DC</td>\n",
       "      <td>0.974807</td>\n",
       "      <td>True</td>\n",
       "      <td>0</td>\n",
       "      <td>inf</td>\n",
       "      <td>600.0</td>\n",
       "      <td>0.0</td>\n",
       "      <td>...</td>\n",
       "      <td>0.0</td>\n",
       "      <td>400.0</td>\n",
       "      <td></td>\n",
       "      <td>relation/2505320</td>\n",
       "      <td>1.0</td>\n",
       "      <td>LINESTRING (12.0074143643741 55.45030397887522...</td>\n",
       "      <td>1.0</td>\n",
       "      <td></td>\n",
       "      <td>0.281105</td>\n",
       "      <td>False</td>\n",
       "    </tr>\n",
       "    <tr>\n",
       "      <th>relation/3391794-200-DC</th>\n",
       "      <td>IT2 0</td>\n",
       "      <td>FR3 0</td>\n",
       "      <td></td>\n",
       "      <td>DC</td>\n",
       "      <td>0.971945</td>\n",
       "      <td>True</td>\n",
       "      <td>0</td>\n",
       "      <td>inf</td>\n",
       "      <td>300.0</td>\n",
       "      <td>0.0</td>\n",
       "      <td>...</td>\n",
       "      <td>0.0</td>\n",
       "      <td>200.0</td>\n",
       "      <td></td>\n",
       "      <td>relation/3391794</td>\n",
       "      <td>1.0</td>\n",
       "      <td>LINESTRING (8.713917011839937 40.6520491271003...</td>\n",
       "      <td>1.0</td>\n",
       "      <td></td>\n",
       "      <td>0.052118</td>\n",
       "      <td>False</td>\n",
       "    </tr>\n",
       "    <tr>\n",
       "      <th>relation/3392010-450-DC</th>\n",
       "      <td>PL0 0</td>\n",
       "      <td>SE1 0</td>\n",
       "      <td></td>\n",
       "      <td>DC</td>\n",
       "      <td>0.952022</td>\n",
       "      <td>True</td>\n",
       "      <td>0</td>\n",
       "      <td>inf</td>\n",
       "      <td>600.0</td>\n",
       "      <td>0.0</td>\n",
       "      <td>...</td>\n",
       "      <td>0.0</td>\n",
       "      <td>450.0</td>\n",
       "      <td></td>\n",
       "      <td>relation/3392010</td>\n",
       "      <td>1.0</td>\n",
       "      <td>LINESTRING (14.84028235523815 56.1530147407003...</td>\n",
       "      <td>1.0</td>\n",
       "      <td></td>\n",
       "      <td>0.940780</td>\n",
       "      <td>False</td>\n",
       "    </tr>\n",
       "    <tr>\n",
       "      <th>relation/3918230-450-DC</th>\n",
       "      <td>DE0 13</td>\n",
       "      <td>SE1 0</td>\n",
       "      <td></td>\n",
       "      <td>DC</td>\n",
       "      <td>0.956412</td>\n",
       "      <td>True</td>\n",
       "      <td>0</td>\n",
       "      <td>inf</td>\n",
       "      <td>600.0</td>\n",
       "      <td>0.0</td>\n",
       "      <td>...</td>\n",
       "      <td>0.0</td>\n",
       "      <td>450.0</td>\n",
       "      <td></td>\n",
       "      <td>relation/3918230</td>\n",
       "      <td>1.0</td>\n",
       "      <td>LINESTRING (10.80243095002194 53.8961375941516...</td>\n",
       "      <td>1.0</td>\n",
       "      <td></td>\n",
       "      <td>0.927793</td>\n",
       "      <td>False</td>\n",
       "    </tr>\n",
       "    <tr>\n",
       "      <th>relation/5487095-400-DC</th>\n",
       "      <td>DK0 0</td>\n",
       "      <td>DK1 0</td>\n",
       "      <td></td>\n",
       "      <td>DC</td>\n",
       "      <td>0.975062</td>\n",
       "      <td>True</td>\n",
       "      <td>0</td>\n",
       "      <td>inf</td>\n",
       "      <td>600.0</td>\n",
       "      <td>0.0</td>\n",
       "      <td>...</td>\n",
       "      <td>0.0</td>\n",
       "      <td>400.0</td>\n",
       "      <td></td>\n",
       "      <td>relation/5487095</td>\n",
       "      <td>1.0</td>\n",
       "      <td>LINESTRING (10.505724427906852 55.365970143543...</td>\n",
       "      <td>1.0</td>\n",
       "      <td></td>\n",
       "      <td>0.560249</td>\n",
       "      <td>False</td>\n",
       "    </tr>\n",
       "  </tbody>\n",
       "</table>\n",
       "<p>5 rows × 51 columns</p>\n",
       "</div>"
      ],
      "text/plain": [
       "                           bus0   bus1 type carrier  efficiency  active  \\\n",
       "Link                                                                      \n",
       "relation/2505320-400-DC   DK1 0  DE0 7           DC    0.974807    True   \n",
       "relation/3391794-200-DC   IT2 0  FR3 0           DC    0.971945    True   \n",
       "relation/3392010-450-DC   PL0 0  SE1 0           DC    0.952022    True   \n",
       "relation/3918230-450-DC  DE0 13  SE1 0           DC    0.956412    True   \n",
       "relation/5487095-400-DC   DK0 0  DK1 0           DC    0.975062    True   \n",
       "\n",
       "                         build_year  lifetime  p_nom  p_nom_mod  ...  \\\n",
       "Link                                                             ...   \n",
       "relation/2505320-400-DC           0       inf  600.0        0.0  ...   \n",
       "relation/3391794-200-DC           0       inf  300.0        0.0  ...   \n",
       "relation/3392010-450-DC           0       inf  600.0        0.0  ...   \n",
       "relation/3918230-450-DC           0       inf  600.0        0.0  ...   \n",
       "relation/5487095-400-DC           0       inf  600.0        0.0  ...   \n",
       "\n",
       "                         under_construction  voltage  project_status  \\\n",
       "Link                                                                   \n",
       "relation/2505320-400-DC                 0.0    400.0                   \n",
       "relation/3391794-200-DC                 0.0    200.0                   \n",
       "relation/3392010-450-DC                 0.0    450.0                   \n",
       "relation/3918230-450-DC                 0.0    450.0                   \n",
       "relation/5487095-400-DC                 0.0    400.0                   \n",
       "\n",
       "                                     tags  underground  \\\n",
       "Link                                                     \n",
       "relation/2505320-400-DC  relation/2505320          1.0   \n",
       "relation/3391794-200-DC  relation/3391794          1.0   \n",
       "relation/3392010-450-DC  relation/3392010          1.0   \n",
       "relation/3918230-450-DC  relation/3918230          1.0   \n",
       "relation/5487095-400-DC  relation/5487095          1.0   \n",
       "\n",
       "                                                                  geometry  \\\n",
       "Link                                                                         \n",
       "relation/2505320-400-DC  LINESTRING (12.0074143643741 55.45030397887522...   \n",
       "relation/3391794-200-DC  LINESTRING (8.713917011839937 40.6520491271003...   \n",
       "relation/3392010-450-DC  LINESTRING (14.84028235523815 56.1530147407003...   \n",
       "relation/3918230-450-DC  LINESTRING (10.80243095002194 53.8961375941516...   \n",
       "relation/5487095-400-DC  LINESTRING (10.505724427906852 55.365970143543...   \n",
       "\n",
       "                          dc  location  underwater_fraction  reversed  \n",
       "Link                                                                   \n",
       "relation/2505320-400-DC  1.0                       0.281105     False  \n",
       "relation/3391794-200-DC  1.0                       0.052118     False  \n",
       "relation/3392010-450-DC  1.0                       0.940780     False  \n",
       "relation/3918230-450-DC  1.0                       0.927793     False  \n",
       "relation/5487095-400-DC  1.0                       0.560249     False  \n",
       "\n",
       "[5 rows x 51 columns]"
      ]
     },
     "execution_count": 458,
     "metadata": {},
     "output_type": "execute_result"
    }
   ],
   "source": [
    "dc_links = n_nep.links.query(\"carrier=='DC'\")\n",
    "dc_links.head()"
   ]
  },
  {
   "cell_type": "code",
   "execution_count": 459,
   "metadata": {},
   "outputs": [
    {
     "data": {
      "text/plain": [
       "3684.3793361037806"
      ]
     },
     "execution_count": 459,
     "metadata": {},
     "output_type": "execute_result"
    }
   ],
   "source": [
    "dc_links_cap = dc_links.p_nom.mul(dc_links.length).div(1e3).sum() # TWkm\n",
    "dc_links_cap"
   ]
  },
  {
   "cell_type": "code",
   "execution_count": 460,
   "metadata": {},
   "outputs": [
    {
     "data": {
      "text/plain": [
       "139517.92514229982"
      ]
     },
     "execution_count": 460,
     "metadata": {},
     "output_type": "execute_result"
    }
   ],
   "source": [
    "grid_cap_w_nep_lines = line_cap + dc_links_cap\n",
    "grid_cap_w_nep_lines"
   ]
  },
  {
   "cell_type": "markdown",
   "metadata": {
    "jp-MarkdownHeadingCollapsed": true
   },
   "source": [
    "## Network with NEP lines + links"
   ]
  },
  {
   "cell_type": "code",
   "execution_count": 461,
   "metadata": {},
   "outputs": [
    {
     "name": "stderr",
     "output_type": "stream",
     "text": [
      "INFO:pypsa.io:Imported network base_s_52_lv1.11___2035.nc has buses, carriers, generators, global_constraints, lines, links, loads, storage_units, stores\n"
     ]
    }
   ],
   "source": [
    "n_nep_lines_links = pypsa.Network(\"../results/transmission-derivation/2032-confirmed-neplinesandlinks/prenetworks/base_s_52_lv1.11___2035.nc\")"
   ]
  },
  {
   "cell_type": "code",
   "execution_count": 462,
   "metadata": {},
   "outputs": [
    {
     "data": {
      "text/html": [
       "<div>\n",
       "<style scoped>\n",
       "    .dataframe tbody tr th:only-of-type {\n",
       "        vertical-align: middle;\n",
       "    }\n",
       "\n",
       "    .dataframe tbody tr th {\n",
       "        vertical-align: top;\n",
       "    }\n",
       "\n",
       "    .dataframe thead th {\n",
       "        text-align: right;\n",
       "    }\n",
       "</style>\n",
       "<table border=\"1\" class=\"dataframe\">\n",
       "  <thead>\n",
       "    <tr style=\"text-align: right;\">\n",
       "      <th></th>\n",
       "      <th>bus0</th>\n",
       "      <th>bus1</th>\n",
       "      <th>type</th>\n",
       "      <th>x</th>\n",
       "      <th>r</th>\n",
       "      <th>g</th>\n",
       "      <th>b</th>\n",
       "      <th>s_nom</th>\n",
       "      <th>s_nom_mod</th>\n",
       "      <th>s_nom_extendable</th>\n",
       "      <th>...</th>\n",
       "      <th>x_pu</th>\n",
       "      <th>r_pu</th>\n",
       "      <th>g_pu</th>\n",
       "      <th>b_pu</th>\n",
       "      <th>x_pu_eff</th>\n",
       "      <th>r_pu_eff</th>\n",
       "      <th>s_nom_opt</th>\n",
       "      <th>dc</th>\n",
       "      <th>i_nom</th>\n",
       "      <th>v_nom</th>\n",
       "    </tr>\n",
       "    <tr>\n",
       "      <th>Line</th>\n",
       "      <th></th>\n",
       "      <th></th>\n",
       "      <th></th>\n",
       "      <th></th>\n",
       "      <th></th>\n",
       "      <th></th>\n",
       "      <th></th>\n",
       "      <th></th>\n",
       "      <th></th>\n",
       "      <th></th>\n",
       "      <th></th>\n",
       "      <th></th>\n",
       "      <th></th>\n",
       "      <th></th>\n",
       "      <th></th>\n",
       "      <th></th>\n",
       "      <th></th>\n",
       "      <th></th>\n",
       "      <th></th>\n",
       "      <th></th>\n",
       "      <th></th>\n",
       "    </tr>\n",
       "  </thead>\n",
       "  <tbody>\n",
       "    <tr>\n",
       "      <th>0</th>\n",
       "      <td>AT0 0</td>\n",
       "      <td>CH0 0</td>\n",
       "      <td>Al/St 240/40 4-bundle 380.0</td>\n",
       "      <td>38.365333</td>\n",
       "      <td>5.668323</td>\n",
       "      <td>0.0</td>\n",
       "      <td>0.009368</td>\n",
       "      <td>4379.317262</td>\n",
       "      <td>0.0</td>\n",
       "      <td>True</td>\n",
       "      <td>...</td>\n",
       "      <td>0.0</td>\n",
       "      <td>0.0</td>\n",
       "      <td>0.0</td>\n",
       "      <td>0.0</td>\n",
       "      <td>0.0</td>\n",
       "      <td>0.0</td>\n",
       "      <td>0.0</td>\n",
       "      <td>0.0</td>\n",
       "      <td>2.58</td>\n",
       "      <td>380</td>\n",
       "    </tr>\n",
       "    <tr>\n",
       "      <th>1</th>\n",
       "      <td>AT0 0</td>\n",
       "      <td>CZ0 0</td>\n",
       "      <td>Al/St 240/40 4-bundle 380.0</td>\n",
       "      <td>22.331495</td>\n",
       "      <td>3.299389</td>\n",
       "      <td>0.0</td>\n",
       "      <td>0.005452</td>\n",
       "      <td>4379.317262</td>\n",
       "      <td>0.0</td>\n",
       "      <td>True</td>\n",
       "      <td>...</td>\n",
       "      <td>0.0</td>\n",
       "      <td>0.0</td>\n",
       "      <td>0.0</td>\n",
       "      <td>0.0</td>\n",
       "      <td>0.0</td>\n",
       "      <td>0.0</td>\n",
       "      <td>0.0</td>\n",
       "      <td>0.0</td>\n",
       "      <td>2.58</td>\n",
       "      <td>380</td>\n",
       "    </tr>\n",
       "    <tr>\n",
       "      <th>10</th>\n",
       "      <td>BE0 0</td>\n",
       "      <td>NL0 0</td>\n",
       "      <td>Al/St 240/40 4-bundle 380.0</td>\n",
       "      <td>9.227679</td>\n",
       "      <td>1.125321</td>\n",
       "      <td>0.0</td>\n",
       "      <td>0.005855</td>\n",
       "      <td>10188.615670</td>\n",
       "      <td>0.0</td>\n",
       "      <td>True</td>\n",
       "      <td>...</td>\n",
       "      <td>0.0</td>\n",
       "      <td>0.0</td>\n",
       "      <td>0.0</td>\n",
       "      <td>0.0</td>\n",
       "      <td>0.0</td>\n",
       "      <td>0.0</td>\n",
       "      <td>0.0</td>\n",
       "      <td>0.0</td>\n",
       "      <td>2.58</td>\n",
       "      <td>380</td>\n",
       "    </tr>\n",
       "    <tr>\n",
       "      <th>100</th>\n",
       "      <td>IT0 1</td>\n",
       "      <td>IT0 2</td>\n",
       "      <td>Al/St 240/40 4-bundle 380.0</td>\n",
       "      <td>6.556203</td>\n",
       "      <td>1.002476</td>\n",
       "      <td>0.0</td>\n",
       "      <td>0.019190</td>\n",
       "      <td>14121.063824</td>\n",
       "      <td>0.0</td>\n",
       "      <td>True</td>\n",
       "      <td>...</td>\n",
       "      <td>0.0</td>\n",
       "      <td>0.0</td>\n",
       "      <td>0.0</td>\n",
       "      <td>0.0</td>\n",
       "      <td>0.0</td>\n",
       "      <td>0.0</td>\n",
       "      <td>0.0</td>\n",
       "      <td>0.0</td>\n",
       "      <td>2.58</td>\n",
       "      <td>380</td>\n",
       "    </tr>\n",
       "    <tr>\n",
       "      <th>11</th>\n",
       "      <td>CH0 0</td>\n",
       "      <td>DE0 18</td>\n",
       "      <td>Al/St 240/40 4-bundle 380.0</td>\n",
       "      <td>2.432578</td>\n",
       "      <td>0.336994</td>\n",
       "      <td>0.0</td>\n",
       "      <td>0.011205</td>\n",
       "      <td>21628.464844</td>\n",
       "      <td>0.0</td>\n",
       "      <td>True</td>\n",
       "      <td>...</td>\n",
       "      <td>0.0</td>\n",
       "      <td>0.0</td>\n",
       "      <td>0.0</td>\n",
       "      <td>0.0</td>\n",
       "      <td>0.0</td>\n",
       "      <td>0.0</td>\n",
       "      <td>0.0</td>\n",
       "      <td>0.0</td>\n",
       "      <td>2.58</td>\n",
       "      <td>380</td>\n",
       "    </tr>\n",
       "    <tr>\n",
       "      <th>...</th>\n",
       "      <td>...</td>\n",
       "      <td>...</td>\n",
       "      <td>...</td>\n",
       "      <td>...</td>\n",
       "      <td>...</td>\n",
       "      <td>...</td>\n",
       "      <td>...</td>\n",
       "      <td>...</td>\n",
       "      <td>...</td>\n",
       "      <td>...</td>\n",
       "      <td>...</td>\n",
       "      <td>...</td>\n",
       "      <td>...</td>\n",
       "      <td>...</td>\n",
       "      <td>...</td>\n",
       "      <td>...</td>\n",
       "      <td>...</td>\n",
       "      <td>...</td>\n",
       "      <td>...</td>\n",
       "      <td>...</td>\n",
       "      <td>...</td>\n",
       "    </tr>\n",
       "    <tr>\n",
       "      <th>95</th>\n",
       "      <td>FR0 2</td>\n",
       "      <td>FR0 4</td>\n",
       "      <td>Al/St 240/40 4-bundle 380.0</td>\n",
       "      <td>6.364712</td>\n",
       "      <td>1.006031</td>\n",
       "      <td>0.0</td>\n",
       "      <td>0.011275</td>\n",
       "      <td>10668.999962</td>\n",
       "      <td>0.0</td>\n",
       "      <td>True</td>\n",
       "      <td>...</td>\n",
       "      <td>0.0</td>\n",
       "      <td>0.0</td>\n",
       "      <td>0.0</td>\n",
       "      <td>0.0</td>\n",
       "      <td>0.0</td>\n",
       "      <td>0.0</td>\n",
       "      <td>0.0</td>\n",
       "      <td>0.0</td>\n",
       "      <td>2.58</td>\n",
       "      <td>380</td>\n",
       "    </tr>\n",
       "    <tr>\n",
       "      <th>96</th>\n",
       "      <td>FR0 2</td>\n",
       "      <td>IT0 1</td>\n",
       "      <td>Al/St 240/40 4-bundle 380.0</td>\n",
       "      <td>24.252374</td>\n",
       "      <td>3.225714</td>\n",
       "      <td>0.0</td>\n",
       "      <td>0.006373</td>\n",
       "      <td>5865.157047</td>\n",
       "      <td>0.0</td>\n",
       "      <td>True</td>\n",
       "      <td>...</td>\n",
       "      <td>0.0</td>\n",
       "      <td>0.0</td>\n",
       "      <td>0.0</td>\n",
       "      <td>0.0</td>\n",
       "      <td>0.0</td>\n",
       "      <td>0.0</td>\n",
       "      <td>0.0</td>\n",
       "      <td>0.0</td>\n",
       "      <td>2.58</td>\n",
       "      <td>380</td>\n",
       "    </tr>\n",
       "    <tr>\n",
       "      <th>97</th>\n",
       "      <td>FR0 3</td>\n",
       "      <td>FR0 4</td>\n",
       "      <td>Al/St 240/40 4-bundle 380.0</td>\n",
       "      <td>13.282543</td>\n",
       "      <td>1.890312</td>\n",
       "      <td>0.0</td>\n",
       "      <td>0.029920</td>\n",
       "      <td>15025.973768</td>\n",
       "      <td>0.0</td>\n",
       "      <td>True</td>\n",
       "      <td>...</td>\n",
       "      <td>0.0</td>\n",
       "      <td>0.0</td>\n",
       "      <td>0.0</td>\n",
       "      <td>0.0</td>\n",
       "      <td>0.0</td>\n",
       "      <td>0.0</td>\n",
       "      <td>0.0</td>\n",
       "      <td>0.0</td>\n",
       "      <td>2.58</td>\n",
       "      <td>380</td>\n",
       "    </tr>\n",
       "    <tr>\n",
       "      <th>98</th>\n",
       "      <td>FR0 4</td>\n",
       "      <td>FR0 5</td>\n",
       "      <td>Al/St 240/40 4-bundle 380.0</td>\n",
       "      <td>9.695653</td>\n",
       "      <td>1.523438</td>\n",
       "      <td>0.0</td>\n",
       "      <td>0.009117</td>\n",
       "      <td>7876.068035</td>\n",
       "      <td>0.0</td>\n",
       "      <td>True</td>\n",
       "      <td>...</td>\n",
       "      <td>0.0</td>\n",
       "      <td>0.0</td>\n",
       "      <td>0.0</td>\n",
       "      <td>0.0</td>\n",
       "      <td>0.0</td>\n",
       "      <td>0.0</td>\n",
       "      <td>0.0</td>\n",
       "      <td>0.0</td>\n",
       "      <td>2.58</td>\n",
       "      <td>380</td>\n",
       "    </tr>\n",
       "    <tr>\n",
       "      <th>99</th>\n",
       "      <td>IT0 0</td>\n",
       "      <td>IT0 2</td>\n",
       "      <td>Al/St 240/40 4-bundle 380.0</td>\n",
       "      <td>23.756093</td>\n",
       "      <td>3.038496</td>\n",
       "      <td>0.0</td>\n",
       "      <td>0.019710</td>\n",
       "      <td>10680.171690</td>\n",
       "      <td>0.0</td>\n",
       "      <td>True</td>\n",
       "      <td>...</td>\n",
       "      <td>0.0</td>\n",
       "      <td>0.0</td>\n",
       "      <td>0.0</td>\n",
       "      <td>0.0</td>\n",
       "      <td>0.0</td>\n",
       "      <td>0.0</td>\n",
       "      <td>0.0</td>\n",
       "      <td>0.0</td>\n",
       "      <td>2.58</td>\n",
       "      <td>380</td>\n",
       "    </tr>\n",
       "  </tbody>\n",
       "</table>\n",
       "<p>101 rows × 34 columns</p>\n",
       "</div>"
      ],
      "text/plain": [
       "       bus0    bus1                         type          x         r    g  \\\n",
       "Line                                                                         \n",
       "0     AT0 0   CH0 0  Al/St 240/40 4-bundle 380.0  38.365333  5.668323  0.0   \n",
       "1     AT0 0   CZ0 0  Al/St 240/40 4-bundle 380.0  22.331495  3.299389  0.0   \n",
       "10    BE0 0   NL0 0  Al/St 240/40 4-bundle 380.0   9.227679  1.125321  0.0   \n",
       "100   IT0 1   IT0 2  Al/St 240/40 4-bundle 380.0   6.556203  1.002476  0.0   \n",
       "11    CH0 0  DE0 18  Al/St 240/40 4-bundle 380.0   2.432578  0.336994  0.0   \n",
       "...     ...     ...                          ...        ...       ...  ...   \n",
       "95    FR0 2   FR0 4  Al/St 240/40 4-bundle 380.0   6.364712  1.006031  0.0   \n",
       "96    FR0 2   IT0 1  Al/St 240/40 4-bundle 380.0  24.252374  3.225714  0.0   \n",
       "97    FR0 3   FR0 4  Al/St 240/40 4-bundle 380.0  13.282543  1.890312  0.0   \n",
       "98    FR0 4   FR0 5  Al/St 240/40 4-bundle 380.0   9.695653  1.523438  0.0   \n",
       "99    IT0 0   IT0 2  Al/St 240/40 4-bundle 380.0  23.756093  3.038496  0.0   \n",
       "\n",
       "             b         s_nom  s_nom_mod  s_nom_extendable  ...  x_pu  r_pu  \\\n",
       "Line                                                       ...               \n",
       "0     0.009368   4379.317262        0.0              True  ...   0.0   0.0   \n",
       "1     0.005452   4379.317262        0.0              True  ...   0.0   0.0   \n",
       "10    0.005855  10188.615670        0.0              True  ...   0.0   0.0   \n",
       "100   0.019190  14121.063824        0.0              True  ...   0.0   0.0   \n",
       "11    0.011205  21628.464844        0.0              True  ...   0.0   0.0   \n",
       "...        ...           ...        ...               ...  ...   ...   ...   \n",
       "95    0.011275  10668.999962        0.0              True  ...   0.0   0.0   \n",
       "96    0.006373   5865.157047        0.0              True  ...   0.0   0.0   \n",
       "97    0.029920  15025.973768        0.0              True  ...   0.0   0.0   \n",
       "98    0.009117   7876.068035        0.0              True  ...   0.0   0.0   \n",
       "99    0.019710  10680.171690        0.0              True  ...   0.0   0.0   \n",
       "\n",
       "      g_pu  b_pu  x_pu_eff  r_pu_eff  s_nom_opt   dc i_nom  v_nom  \n",
       "Line                                                               \n",
       "0      0.0   0.0       0.0       0.0        0.0  0.0  2.58    380  \n",
       "1      0.0   0.0       0.0       0.0        0.0  0.0  2.58    380  \n",
       "10     0.0   0.0       0.0       0.0        0.0  0.0  2.58    380  \n",
       "100    0.0   0.0       0.0       0.0        0.0  0.0  2.58    380  \n",
       "11     0.0   0.0       0.0       0.0        0.0  0.0  2.58    380  \n",
       "...    ...   ...       ...       ...        ...  ...   ...    ...  \n",
       "95     0.0   0.0       0.0       0.0        0.0  0.0  2.58    380  \n",
       "96     0.0   0.0       0.0       0.0        0.0  0.0  2.58    380  \n",
       "97     0.0   0.0       0.0       0.0        0.0  0.0  2.58    380  \n",
       "98     0.0   0.0       0.0       0.0        0.0  0.0  2.58    380  \n",
       "99     0.0   0.0       0.0       0.0        0.0  0.0  2.58    380  \n",
       "\n",
       "[101 rows x 34 columns]"
      ]
     },
     "execution_count": 462,
     "metadata": {},
     "output_type": "execute_result"
    }
   ],
   "source": [
    "n_nep_lines_links.lines"
   ]
  },
  {
   "cell_type": "code",
   "execution_count": 463,
   "metadata": {},
   "outputs": [],
   "source": [
    "ac_lines = n_nep_lines_links.lines"
   ]
  },
  {
   "cell_type": "code",
   "execution_count": 464,
   "metadata": {},
   "outputs": [
    {
     "data": {
      "text/plain": [
       "135833.54580619605"
      ]
     },
     "execution_count": 464,
     "metadata": {},
     "output_type": "execute_result"
    }
   ],
   "source": [
    "line_cap = ac_lines.s_nom.mul(ac_lines.length).div(1e3).sum()\n",
    "line_cap"
   ]
  },
  {
   "cell_type": "code",
   "execution_count": 465,
   "metadata": {},
   "outputs": [
    {
     "data": {
      "text/html": [
       "<div>\n",
       "<style scoped>\n",
       "    .dataframe tbody tr th:only-of-type {\n",
       "        vertical-align: middle;\n",
       "    }\n",
       "\n",
       "    .dataframe tbody tr th {\n",
       "        vertical-align: top;\n",
       "    }\n",
       "\n",
       "    .dataframe thead th {\n",
       "        text-align: right;\n",
       "    }\n",
       "</style>\n",
       "<table border=\"1\" class=\"dataframe\">\n",
       "  <thead>\n",
       "    <tr style=\"text-align: right;\">\n",
       "      <th></th>\n",
       "      <th>bus0</th>\n",
       "      <th>bus1</th>\n",
       "      <th>type</th>\n",
       "      <th>carrier</th>\n",
       "      <th>efficiency</th>\n",
       "      <th>active</th>\n",
       "      <th>build_year</th>\n",
       "      <th>lifetime</th>\n",
       "      <th>p_nom</th>\n",
       "      <th>p_nom_mod</th>\n",
       "      <th>...</th>\n",
       "      <th>under_construction</th>\n",
       "      <th>voltage</th>\n",
       "      <th>project_status</th>\n",
       "      <th>tags</th>\n",
       "      <th>underground</th>\n",
       "      <th>geometry</th>\n",
       "      <th>dc</th>\n",
       "      <th>location</th>\n",
       "      <th>underwater_fraction</th>\n",
       "      <th>reversed</th>\n",
       "    </tr>\n",
       "    <tr>\n",
       "      <th>Link</th>\n",
       "      <th></th>\n",
       "      <th></th>\n",
       "      <th></th>\n",
       "      <th></th>\n",
       "      <th></th>\n",
       "      <th></th>\n",
       "      <th></th>\n",
       "      <th></th>\n",
       "      <th></th>\n",
       "      <th></th>\n",
       "      <th></th>\n",
       "      <th></th>\n",
       "      <th></th>\n",
       "      <th></th>\n",
       "      <th></th>\n",
       "      <th></th>\n",
       "      <th></th>\n",
       "      <th></th>\n",
       "      <th></th>\n",
       "      <th></th>\n",
       "      <th></th>\n",
       "    </tr>\n",
       "  </thead>\n",
       "  <tbody>\n",
       "    <tr>\n",
       "      <th>relation/2505320-400-DC</th>\n",
       "      <td>DK1 0</td>\n",
       "      <td>DE0 7</td>\n",
       "      <td></td>\n",
       "      <td>DC</td>\n",
       "      <td>0.974807</td>\n",
       "      <td>True</td>\n",
       "      <td>0</td>\n",
       "      <td>inf</td>\n",
       "      <td>600.0</td>\n",
       "      <td>0.0</td>\n",
       "      <td>...</td>\n",
       "      <td>0.0</td>\n",
       "      <td>400.0</td>\n",
       "      <td></td>\n",
       "      <td>relation/2505320</td>\n",
       "      <td>1.0</td>\n",
       "      <td>LINESTRING (12.0074143643741 55.45030397887522...</td>\n",
       "      <td>1.0</td>\n",
       "      <td></td>\n",
       "      <td>0.281105</td>\n",
       "      <td>False</td>\n",
       "    </tr>\n",
       "    <tr>\n",
       "      <th>relation/3391794-200-DC</th>\n",
       "      <td>IT2 0</td>\n",
       "      <td>FR3 0</td>\n",
       "      <td></td>\n",
       "      <td>DC</td>\n",
       "      <td>0.971945</td>\n",
       "      <td>True</td>\n",
       "      <td>0</td>\n",
       "      <td>inf</td>\n",
       "      <td>300.0</td>\n",
       "      <td>0.0</td>\n",
       "      <td>...</td>\n",
       "      <td>0.0</td>\n",
       "      <td>200.0</td>\n",
       "      <td></td>\n",
       "      <td>relation/3391794</td>\n",
       "      <td>1.0</td>\n",
       "      <td>LINESTRING (8.713917011839937 40.6520491271003...</td>\n",
       "      <td>1.0</td>\n",
       "      <td></td>\n",
       "      <td>0.052118</td>\n",
       "      <td>False</td>\n",
       "    </tr>\n",
       "    <tr>\n",
       "      <th>relation/3392010-450-DC</th>\n",
       "      <td>PL0 0</td>\n",
       "      <td>SE1 0</td>\n",
       "      <td></td>\n",
       "      <td>DC</td>\n",
       "      <td>0.952022</td>\n",
       "      <td>True</td>\n",
       "      <td>0</td>\n",
       "      <td>inf</td>\n",
       "      <td>600.0</td>\n",
       "      <td>0.0</td>\n",
       "      <td>...</td>\n",
       "      <td>0.0</td>\n",
       "      <td>450.0</td>\n",
       "      <td></td>\n",
       "      <td>relation/3392010</td>\n",
       "      <td>1.0</td>\n",
       "      <td>LINESTRING (14.84028235523815 56.1530147407003...</td>\n",
       "      <td>1.0</td>\n",
       "      <td></td>\n",
       "      <td>0.940780</td>\n",
       "      <td>False</td>\n",
       "    </tr>\n",
       "    <tr>\n",
       "      <th>relation/3918230-450-DC</th>\n",
       "      <td>DE0 13</td>\n",
       "      <td>SE1 0</td>\n",
       "      <td></td>\n",
       "      <td>DC</td>\n",
       "      <td>0.956412</td>\n",
       "      <td>True</td>\n",
       "      <td>0</td>\n",
       "      <td>inf</td>\n",
       "      <td>600.0</td>\n",
       "      <td>0.0</td>\n",
       "      <td>...</td>\n",
       "      <td>0.0</td>\n",
       "      <td>450.0</td>\n",
       "      <td></td>\n",
       "      <td>relation/3918230</td>\n",
       "      <td>1.0</td>\n",
       "      <td>LINESTRING (10.80243095002194 53.8961375941516...</td>\n",
       "      <td>1.0</td>\n",
       "      <td></td>\n",
       "      <td>0.927793</td>\n",
       "      <td>False</td>\n",
       "    </tr>\n",
       "    <tr>\n",
       "      <th>relation/5487095-400-DC</th>\n",
       "      <td>DK0 0</td>\n",
       "      <td>DK1 0</td>\n",
       "      <td></td>\n",
       "      <td>DC</td>\n",
       "      <td>0.975062</td>\n",
       "      <td>True</td>\n",
       "      <td>0</td>\n",
       "      <td>inf</td>\n",
       "      <td>600.0</td>\n",
       "      <td>0.0</td>\n",
       "      <td>...</td>\n",
       "      <td>0.0</td>\n",
       "      <td>400.0</td>\n",
       "      <td></td>\n",
       "      <td>relation/5487095</td>\n",
       "      <td>1.0</td>\n",
       "      <td>LINESTRING (10.505724427906852 55.365970143543...</td>\n",
       "      <td>1.0</td>\n",
       "      <td></td>\n",
       "      <td>0.560249</td>\n",
       "      <td>False</td>\n",
       "    </tr>\n",
       "  </tbody>\n",
       "</table>\n",
       "<p>5 rows × 51 columns</p>\n",
       "</div>"
      ],
      "text/plain": [
       "                           bus0   bus1 type carrier  efficiency  active  \\\n",
       "Link                                                                      \n",
       "relation/2505320-400-DC   DK1 0  DE0 7           DC    0.974807    True   \n",
       "relation/3391794-200-DC   IT2 0  FR3 0           DC    0.971945    True   \n",
       "relation/3392010-450-DC   PL0 0  SE1 0           DC    0.952022    True   \n",
       "relation/3918230-450-DC  DE0 13  SE1 0           DC    0.956412    True   \n",
       "relation/5487095-400-DC   DK0 0  DK1 0           DC    0.975062    True   \n",
       "\n",
       "                         build_year  lifetime  p_nom  p_nom_mod  ...  \\\n",
       "Link                                                             ...   \n",
       "relation/2505320-400-DC           0       inf  600.0        0.0  ...   \n",
       "relation/3391794-200-DC           0       inf  300.0        0.0  ...   \n",
       "relation/3392010-450-DC           0       inf  600.0        0.0  ...   \n",
       "relation/3918230-450-DC           0       inf  600.0        0.0  ...   \n",
       "relation/5487095-400-DC           0       inf  600.0        0.0  ...   \n",
       "\n",
       "                         under_construction  voltage  project_status  \\\n",
       "Link                                                                   \n",
       "relation/2505320-400-DC                 0.0    400.0                   \n",
       "relation/3391794-200-DC                 0.0    200.0                   \n",
       "relation/3392010-450-DC                 0.0    450.0                   \n",
       "relation/3918230-450-DC                 0.0    450.0                   \n",
       "relation/5487095-400-DC                 0.0    400.0                   \n",
       "\n",
       "                                     tags  underground  \\\n",
       "Link                                                     \n",
       "relation/2505320-400-DC  relation/2505320          1.0   \n",
       "relation/3391794-200-DC  relation/3391794          1.0   \n",
       "relation/3392010-450-DC  relation/3392010          1.0   \n",
       "relation/3918230-450-DC  relation/3918230          1.0   \n",
       "relation/5487095-400-DC  relation/5487095          1.0   \n",
       "\n",
       "                                                                  geometry  \\\n",
       "Link                                                                         \n",
       "relation/2505320-400-DC  LINESTRING (12.0074143643741 55.45030397887522...   \n",
       "relation/3391794-200-DC  LINESTRING (8.713917011839937 40.6520491271003...   \n",
       "relation/3392010-450-DC  LINESTRING (14.84028235523815 56.1530147407003...   \n",
       "relation/3918230-450-DC  LINESTRING (10.80243095002194 53.8961375941516...   \n",
       "relation/5487095-400-DC  LINESTRING (10.505724427906852 55.365970143543...   \n",
       "\n",
       "                          dc  location  underwater_fraction  reversed  \n",
       "Link                                                                   \n",
       "relation/2505320-400-DC  1.0                       0.281105     False  \n",
       "relation/3391794-200-DC  1.0                       0.052118     False  \n",
       "relation/3392010-450-DC  1.0                       0.940780     False  \n",
       "relation/3918230-450-DC  1.0                       0.927793     False  \n",
       "relation/5487095-400-DC  1.0                       0.560249     False  \n",
       "\n",
       "[5 rows x 51 columns]"
      ]
     },
     "execution_count": 465,
     "metadata": {},
     "output_type": "execute_result"
    }
   ],
   "source": [
    "dc_links = n_nep_lines_links.links.query(\"carrier=='DC'\")\n",
    "dc_links.head()"
   ]
  },
  {
   "cell_type": "code",
   "execution_count": 466,
   "metadata": {},
   "outputs": [
    {
     "data": {
      "text/plain": [
       "5447.931700137143"
      ]
     },
     "execution_count": 466,
     "metadata": {},
     "output_type": "execute_result"
    }
   ],
   "source": [
    "dc_links_cap = dc_links.p_nom.mul(dc_links.length).div(1e3).sum() # TWkm\n",
    "dc_links_cap"
   ]
  },
  {
   "cell_type": "code",
   "execution_count": 467,
   "metadata": {},
   "outputs": [
    {
     "data": {
      "text/plain": [
       "141281.4775063332"
      ]
     },
     "execution_count": 467,
     "metadata": {},
     "output_type": "execute_result"
    }
   ],
   "source": [
    "grid_cap_w_nep_lines_links = line_cap + dc_links_cap\n",
    "grid_cap_w_nep_lines_links"
   ]
  },
  {
   "cell_type": "markdown",
   "metadata": {
    "jp-MarkdownHeadingCollapsed": true
   },
   "source": [
    "## Calculate ratios"
   ]
  },
  {
   "cell_type": "markdown",
   "metadata": {},
   "source": [
    "### Only confirmed"
   ]
  },
  {
   "cell_type": "code",
   "execution_count": 354,
   "metadata": {},
   "outputs": [
    {
     "data": {
      "text/plain": [
       "1.1158646946438133"
      ]
     },
     "execution_count": 354,
     "metadata": {},
     "output_type": "execute_result"
    }
   ],
   "source": [
    "# Ratio with NEP lines + links and without NEP\n",
    "grid_cap_w_nep_lines_links/grid_cap_wo_nep"
   ]
  },
  {
   "cell_type": "code",
   "execution_count": 356,
   "metadata": {},
   "outputs": [
    {
     "data": {
      "text/plain": [
       "1.0461220566935823"
      ]
     },
     "execution_count": 356,
     "metadata": {},
     "output_type": "execute_result"
    }
   ],
   "source": [
    "# Ratio with NEP lines and without NEP\n",
    "grid_cap_w_nep_lines/grid_cap_wo_nep"
   ]
  },
  {
   "cell_type": "code",
   "execution_count": 355,
   "metadata": {},
   "outputs": [
    {
     "data": {
      "text/plain": [
       "1.0666677826970425"
      ]
     },
     "execution_count": 355,
     "metadata": {},
     "output_type": "execute_result"
    }
   ],
   "source": [
    "# Ratio with NEP lines + links and NEP lines\n",
    "grid_cap_w_nep_lines_links/grid_cap_w_nep_lines"
   ]
  },
  {
   "cell_type": "markdown",
   "metadata": {},
   "source": [
    "### Only confirmed + 2032"
   ]
  },
  {
   "cell_type": "code",
   "execution_count": 468,
   "metadata": {},
   "outputs": [
    {
     "data": {
      "text/plain": [
       "1.0260418344484379"
      ]
     },
     "execution_count": 468,
     "metadata": {},
     "output_type": "execute_result"
    }
   ],
   "source": [
    "# Ratio with NEP lines + links and without NEP\n",
    "grid_cap_w_nep_lines_links/grid_cap_wo_nep"
   ]
  },
  {
   "cell_type": "code",
   "execution_count": 469,
   "metadata": {},
   "outputs": [
    {
     "data": {
      "text/plain": [
       "1.0132342213438994"
      ]
     },
     "execution_count": 469,
     "metadata": {},
     "output_type": "execute_result"
    }
   ],
   "source": [
    "# Ratio with NEP lines and without NEP\n",
    "grid_cap_w_nep_lines/grid_cap_wo_nep"
   ]
  },
  {
   "cell_type": "code",
   "execution_count": 470,
   "metadata": {},
   "outputs": [
    {
     "data": {
      "text/plain": [
       "1.0126403282032375"
      ]
     },
     "execution_count": 470,
     "metadata": {},
     "output_type": "execute_result"
    }
   ],
   "source": [
    "# Ratio with NEP lines + links and NEP lines\n",
    "grid_cap_w_nep_lines_links/grid_cap_w_nep_lines"
   ]
  },
  {
   "cell_type": "markdown",
   "metadata": {},
   "source": [
    "### NEP baseline"
   ]
  },
  {
   "cell_type": "code",
   "execution_count": 337,
   "metadata": {},
   "outputs": [
    {
     "data": {
      "text/plain": [
       "1.163350733136277"
      ]
     },
     "execution_count": 337,
     "metadata": {},
     "output_type": "execute_result"
    }
   ],
   "source": [
    "# Ratio with NEP lines + links and without NEP\n",
    "grid_cap_w_nep_lines_links/grid_cap_wo_nep"
   ]
  },
  {
   "cell_type": "code",
   "execution_count": 339,
   "metadata": {},
   "outputs": [
    {
     "data": {
      "text/plain": [
       "1.0461220566935823"
      ]
     },
     "execution_count": 339,
     "metadata": {},
     "output_type": "execute_result"
    }
   ],
   "source": [
    "# Ratio with NEP lines and without NEP\n",
    "grid_cap_w_nep_lines/grid_cap_wo_nep"
   ]
  },
  {
   "cell_type": "code",
   "execution_count": 338,
   "metadata": {},
   "outputs": [
    {
     "data": {
      "text/plain": [
       "1.112060228242594"
      ]
     },
     "execution_count": 338,
     "metadata": {},
     "output_type": "execute_result"
    }
   ],
   "source": [
    "# Ratio with NEP lines + links and NEP lines\n",
    "grid_cap_w_nep_lines_links/grid_cap_w_nep_lines"
   ]
  },
  {
   "cell_type": "markdown",
   "metadata": {},
   "source": [
    "## Carbon emission targets"
   ]
  },
  {
   "cell_type": "code",
   "execution_count": 57,
   "metadata": {},
   "outputs": [],
   "source": [
    "ctrys = ['AT', 'BE', 'CH', 'CZ', 'DE', 'DK', 'FR', 'IT', 'LU', 'NL', 'PL', 'SE']"
   ]
  },
  {
   "cell_type": "code",
   "execution_count": 58,
   "metadata": {},
   "outputs": [],
   "source": [
    "\n",
    "# 1990 emissions in MtCO2\n",
    "co2_totals = pd.read_csv(\"../data/co2_totals_1990.csv\", index_col=0).loc[ctrys]"
   ]
  },
  {
   "cell_type": "code",
   "execution_count": 59,
   "metadata": {},
   "outputs": [],
   "source": [
    "# 2005 emissions in MtCO2\n",
    "co2_totals_2005 = pd.read_csv(\"../data/co2_totals_2005.csv\", index_col=0).loc[ctrys]"
   ]
  },
  {
   "cell_type": "code",
   "execution_count": 60,
   "metadata": {},
   "outputs": [
    {
     "data": {
      "text/plain": [
       "Country_code\n",
       "AT      62.124701\n",
       "BE     120.309343\n",
       "CH      44.534441\n",
       "CZ     166.068823\n",
       "DE    1052.348544\n",
       "DK      54.685986\n",
       "FR     400.777042\n",
       "IT     438.008802\n",
       "LU      11.847635\n",
       "NL     163.302301\n",
       "PL     376.546518\n",
       "SE      57.348825\n",
       "dtype: float64"
      ]
     },
     "execution_count": 60,
     "metadata": {},
     "output_type": "execute_result"
    }
   ],
   "source": [
    "# Total emissions excl. LULUCF\n",
    "co2_totals_excl_lulucf = co2_totals.drop([\"LULUCF\"], axis=1).sum(axis=1)\n",
    "co2_totals_excl_lulucf"
   ]
  },
  {
   "cell_type": "code",
   "execution_count": 61,
   "metadata": {
    "vscode": {
     "languageId": "markdown"
    }
   },
   "outputs": [
    {
     "data": {
      "text/plain": [
       "Country_code\n",
       "AT      49.968104\n",
       "BE     117.060288\n",
       "CH      42.515838\n",
       "CZ     160.298010\n",
       "DE    1021.884333\n",
       "DK      60.858777\n",
       "FR     374.572263\n",
       "IT     432.346810\n",
       "LU      11.927560\n",
       "NL     169.786966\n",
       "PL     343.554029\n",
       "SE      21.112932\n",
       "dtype: float64"
      ]
     },
     "execution_count": 61,
     "metadata": {},
     "output_type": "execute_result"
    }
   ],
   "source": [
    "# Total emissions incl. LULUCF\n",
    "co2_totals_incl_lulucf = co2_totals.sum(axis=1)\n",
    "co2_totals_incl_lulucf"
   ]
  },
  {
   "cell_type": "code",
   "execution_count": 62,
   "metadata": {},
   "outputs": [
    {
     "data": {
      "text/plain": [
       "Country_code\n",
       "AT     79.192432\n",
       "BE    125.661688\n",
       "CH     45.915746\n",
       "CZ    126.738399\n",
       "DE    866.388549\n",
       "DK     52.164863\n",
       "FR    426.412463\n",
       "IT    500.005676\n",
       "LU     12.105448\n",
       "NL    177.897237\n",
       "PL    323.161267\n",
       "SE     53.852857\n",
       "dtype: float64"
      ]
     },
     "execution_count": 62,
     "metadata": {},
     "output_type": "execute_result"
    }
   ],
   "source": [
    "# Total emissions excl. LULUCF\n",
    "co2_totals_excl_lulucf_2005 = co2_totals_2005.drop([\"LULUCF\"], axis=1).sum(axis=1)\n",
    "co2_totals_excl_lulucf_2005"
   ]
  },
  {
   "cell_type": "code",
   "execution_count": 63,
   "metadata": {},
   "outputs": [
    {
     "data": {
      "text/plain": [
       "Country_code\n",
       "AT     68.414161\n",
       "BE    124.024742\n",
       "CH     43.712103\n",
       "CZ    119.316791\n",
       "DE    851.168952\n",
       "DK     57.805099\n",
       "FR    377.355895\n",
       "IT    463.962937\n",
       "LU     11.462305\n",
       "NL    183.428661\n",
       "PL    271.748435\n",
       "SE     19.936933\n",
       "dtype: float64"
      ]
     },
     "execution_count": 63,
     "metadata": {},
     "output_type": "execute_result"
    }
   ],
   "source": [
    "# Total emissions incl. LULUCF 2005\n",
    "co2_totals_incl_lulucf_2005 = co2_totals_2005.sum(axis=1)\n",
    "co2_totals_incl_lulucf_2005"
   ]
  },
  {
   "cell_type": "code",
   "execution_count": 64,
   "metadata": {},
   "outputs": [],
   "source": [
    "co2_totals_2005_all = pd.read_csv(\"../data/co2_totals_2005.csv\", index_col=0)\n",
    "co2_totals_excl_lulucf_2005_all = co2_totals_2005_all.drop([\"LULUCF\"], axis=1).sum(axis=1)"
   ]
  },
  {
   "cell_type": "code",
   "execution_count": 65,
   "metadata": {},
   "outputs": [],
   "source": [
    "co2_totals_2005_all = pd.read_csv(\"../data/co2_totals_2005.csv\", index_col=0)\n",
    "co2_totals_incl_lulucf_2005_all = co2_totals_2005_all.sum(axis=1)"
   ]
  },
  {
   "cell_type": "code",
   "execution_count": 66,
   "metadata": {},
   "outputs": [
    {
     "data": {
      "text/plain": [
       "0.6245472968134671"
      ]
     },
     "execution_count": 66,
     "metadata": {},
     "output_type": "execute_result"
    }
   ],
   "source": [
    "emission_share_included_ctrys_excl_lulucf = co2_totals_excl_lulucf_2005.sum()/co2_totals_excl_lulucf_2005_all.sum()\n",
    "emission_share_included_ctrys_excl_lulucf"
   ]
  },
  {
   "cell_type": "code",
   "execution_count": 67,
   "metadata": {},
   "outputs": [
    {
     "data": {
      "text/plain": [
       "0.6327636937085288"
      ]
     },
     "execution_count": 67,
     "metadata": {},
     "output_type": "execute_result"
    }
   ],
   "source": [
    "emission_share_included_ctrys_incl_lulucf = co2_totals_incl_lulucf_2005.sum()/co2_totals_incl_lulucf_2005_all.sum()\n",
    "emission_share_included_ctrys_incl_lulucf"
   ]
  },
  {
   "cell_type": "markdown",
   "metadata": {},
   "source": [
    "### ESR targets 2030 (compared to 2005) [Source](https://climate.ec.europa.eu/eu-action/effort-sharing-member-states-emission-targets/effort-sharing-2021-2030-targets-and-flexibilities_en)"
   ]
  },
  {
   "cell_type": "code",
   "execution_count": 68,
   "metadata": {},
   "outputs": [],
   "source": [
    "esr_targets = {\n",
    "    \"AT\": 0.48,\n",
    "    \"BE\": 0.47,\n",
    "    \"CZ\": 0.26,\n",
    "    \"DE\": 0.5,\n",
    "    \"DK\": 0.5,\n",
    "    \"FR\": 0.475,\n",
    "    \"IT\": 0.437,\n",
    "    \"LU\": 0.5,\n",
    "    \"NL\": 0.48,\n",
    "    \"PL\": 0.177,\n",
    "    \"SE\": 0.5,\n",
    "}"
   ]
  },
  {
   "cell_type": "markdown",
   "metadata": {},
   "source": [
    "### Country specific emission reduction targets\n",
    "\n",
    "| Country | 2030 | 2035 | 2040 | 2045 | 2050 | Source |\n",
    "|---------|------|------|------|------|------|--------|\n",
    "| DE | 65% below 1990 excl. LULUCF | - | 85% below 1990 excl. LULUCF | 100% | - | [Source](https://www.bundesregierung.de/breg-de/themen/klimaschutz/klimaschutzgesetz-2021-1913672) |\n",
    "| AT | 48% below 2005 excl. LULUCF | - | 100% | - | - | [Source1](https://climate.ec.europa.eu/eu-action/effort-sharing-member-states-emission-targets/effort-sharing-2021-2030-targets-and-flexibilities_en) [Source2](https://www.sustainability.gov/pdfs/austria-nzgi-roadmap.pdf) |\n",
    "| BE | 55% below 1990 excl. LULUCF | - | - | - | 100% | [Source](https://www.sustainability.gov/pdfs/belgium-nzgi-roadmap.pdf) |\n",
    "| CH | 50% below 1990 excl. LULUCF | - | - |  - | 100% | [Source](https://www.bafu.admin.ch/bafu/en/home/topics/climate/info-specialists/emission-reduction/reduction-targets.html) |\n",
    "| CZ | 26% below 2005 excl. LULUCF | - | - |  - | 100% | [Source](https://tracker.carbongap.org/region/czech-republic/) |\n",
    "| DK | 70% below 1990 incl. LULUCF and 50% below 2005 excl. LULUCF | - | - |  100% | 110% | [Source](https://unfccc.int/sites/default/files/resource/SBI60_MA_DNK-7June2024-Presentation.pdf) |\n",
    "| FR | 47.5% below 2005 excl. LULUCF | - | - |  - | 100% | [Source](https://climate.ec.europa.eu/eu-action/effort-sharing-member-states-emission-targets/effort-sharing-2021-2030-targets-and-flexibilities_en) |\n",
    "| IT | 43.7% below 2005 excl. LULUCF | - | - |  - | 100% | [Source1](https://climate.ec.europa.eu/eu-action/effort-sharing-member-states-emission-targets/effort-sharing-2021-2030-targets-and-flexibilities_en) [Source2](https://www.iea.org/countries/italy#) |\n",
    "| LU | 55% below 2005 excl. LULUCF | - | - |  - | 100% | [Source](https://gouvernement.lu/en/dossiers/2023/2023-pnec.html) |\n",
    "| NL | 55% below 1990 | - | - |  - | 100% | [Source](https://commission.europa.eu/document/download/b6d21e56-4297-4b91-a692-300716209f72_en?filename=NL_FINAL%20UPDATED%20NECP%202021-2030%20%28English%29.pdf) |\n",
    "| PL | 17.7% below 2005 excl. LULUCF | - | - |  - |  | [Source](https://climate.ec.europa.eu/eu-action/effort-sharing-member-states-emission-targets/effort-sharing-2021-2030-targets-and-flexibilities_en) |\n",
    "| SE | 63% below 1990 | - | 75% below 1990 |  100% |  | [Source](https://www.bafu.admin.ch/bafu/en/home/topics/climate/info-specialists/emission-reduction/reduction-targets.html) |"
   ]
  },
  {
   "cell_type": "code",
   "execution_count": 69,
   "metadata": {},
   "outputs": [
    {
     "name": "stdout",
     "output_type": "stream",
     "text": [
      "{'DE': 0.75, 'BE': 0.6625000000000001, 'CH': 0.625, 'DK': 0.7999999999999999, 'NL': 0.6625000000000001, 'SE': 0.69, 'PL': 0.26549999999999996} {'AT': 0.74, 'CZ': 0.445, 'FR': 0.60625, 'IT': 0.57775, 'LU': 0.6625000000000001}\n"
     ]
    }
   ],
   "source": [
    "# calculate linearly interpolated 2035 targets\n",
    "# base 1990\n",
    "target2035_base1990 = dict(DE = 0.75,\n",
    "BE = 0.55 + (1-0.55)*(2035-2030)/(2050-2030),\n",
    "CH = 0.625,\n",
    "DK = 0.7 + (1-0.7)*(2035-2030)/(2045-2030),\n",
    "NL = 0.55 + (1-0.55)*(2035-2030)/(2050-2030),\n",
    "SE = 0.69,\n",
    "PL = (esr_targets[\"PL\"]/esr_targets[\"DE\"])*0.75\n",
    ")\n",
    "# base 2005\n",
    "# Polands 2035 target is deduced based on the ESR distrubution key in relation to the German interpolated target\n",
    "target2035_base2005 = dict(AT = 0.74,\n",
    "CZ = 0.26 + (1-0.26)*(2035-2030)/(2050-2030),\n",
    "FR = 0.475 + (1-0.475)*(2035-2030)/(2050-2030),\n",
    "IT = 0.437 + (1-0.437)*(2035-2030)/(2050-2030),\n",
    "LU = 0.55 + (1-0.55)*(2035-2030)/(2050-2030)\n",
    ")\n",
    "print(target2035_base1990, target2035_base2005)"
   ]
  },
  {
   "cell_type": "code",
   "execution_count": 70,
   "metadata": {},
   "outputs": [
    {
     "data": {
      "text/html": [
       "<div>\n",
       "<style scoped>\n",
       "    .dataframe tbody tr th:only-of-type {\n",
       "        vertical-align: middle;\n",
       "    }\n",
       "\n",
       "    .dataframe tbody tr th {\n",
       "        vertical-align: top;\n",
       "    }\n",
       "\n",
       "    .dataframe thead th {\n",
       "        text-align: right;\n",
       "    }\n",
       "</style>\n",
       "<table border=\"1\" class=\"dataframe\">\n",
       "  <thead>\n",
       "    <tr style=\"text-align: right;\">\n",
       "      <th></th>\n",
       "      <th>base1990</th>\n",
       "      <th>base2005</th>\n",
       "    </tr>\n",
       "    <tr>\n",
       "      <th>Country_code</th>\n",
       "      <th></th>\n",
       "      <th></th>\n",
       "    </tr>\n",
       "  </thead>\n",
       "  <tbody>\n",
       "    <tr>\n",
       "      <th>AT</th>\n",
       "      <td>NaN</td>\n",
       "      <td>0.74000</td>\n",
       "    </tr>\n",
       "    <tr>\n",
       "      <th>BE</th>\n",
       "      <td>0.6625</td>\n",
       "      <td>NaN</td>\n",
       "    </tr>\n",
       "    <tr>\n",
       "      <th>CH</th>\n",
       "      <td>0.6250</td>\n",
       "      <td>NaN</td>\n",
       "    </tr>\n",
       "    <tr>\n",
       "      <th>CZ</th>\n",
       "      <td>NaN</td>\n",
       "      <td>0.44500</td>\n",
       "    </tr>\n",
       "    <tr>\n",
       "      <th>DE</th>\n",
       "      <td>0.7500</td>\n",
       "      <td>NaN</td>\n",
       "    </tr>\n",
       "    <tr>\n",
       "      <th>DK</th>\n",
       "      <td>0.8000</td>\n",
       "      <td>NaN</td>\n",
       "    </tr>\n",
       "    <tr>\n",
       "      <th>FR</th>\n",
       "      <td>NaN</td>\n",
       "      <td>0.60625</td>\n",
       "    </tr>\n",
       "    <tr>\n",
       "      <th>IT</th>\n",
       "      <td>NaN</td>\n",
       "      <td>0.57775</td>\n",
       "    </tr>\n",
       "    <tr>\n",
       "      <th>LU</th>\n",
       "      <td>NaN</td>\n",
       "      <td>0.66250</td>\n",
       "    </tr>\n",
       "    <tr>\n",
       "      <th>NL</th>\n",
       "      <td>0.6625</td>\n",
       "      <td>NaN</td>\n",
       "    </tr>\n",
       "    <tr>\n",
       "      <th>PL</th>\n",
       "      <td>0.2655</td>\n",
       "      <td>NaN</td>\n",
       "    </tr>\n",
       "    <tr>\n",
       "      <th>SE</th>\n",
       "      <td>0.6900</td>\n",
       "      <td>NaN</td>\n",
       "    </tr>\n",
       "  </tbody>\n",
       "</table>\n",
       "</div>"
      ],
      "text/plain": [
       "              base1990  base2005\n",
       "Country_code                    \n",
       "AT                 NaN   0.74000\n",
       "BE              0.6625       NaN\n",
       "CH              0.6250       NaN\n",
       "CZ                 NaN   0.44500\n",
       "DE              0.7500       NaN\n",
       "DK              0.8000       NaN\n",
       "FR                 NaN   0.60625\n",
       "IT                 NaN   0.57775\n",
       "LU                 NaN   0.66250\n",
       "NL              0.6625       NaN\n",
       "PL              0.2655       NaN\n",
       "SE              0.6900       NaN"
      ]
     },
     "execution_count": 70,
     "metadata": {},
     "output_type": "execute_result"
    }
   ],
   "source": [
    "target_2035 = pd.DataFrame(index=co2_totals.index)\n",
    "target_2035[\"base1990\"] = target2035_base1990\n",
    "target_2035[\"base2005\"] = target2035_base2005\n",
    "target_2035"
   ]
  },
  {
   "cell_type": "code",
   "execution_count": 71,
   "metadata": {},
   "outputs": [
    {
     "data": {
      "text/plain": [
       "2947.9029606100003"
      ]
     },
     "execution_count": 71,
     "metadata": {},
     "output_type": "execute_result"
    }
   ],
   "source": [
    "# Calculate aggregated 1990 emissions in MtCO2\n",
    "co2_1990_aggregated = co2_totals_excl_lulucf.sum()\n",
    "co2_1990_aggregated"
   ]
  },
  {
   "cell_type": "code",
   "execution_count": 72,
   "metadata": {},
   "outputs": [
    {
     "data": {
      "text/plain": [
       "1154.8379684469976"
      ]
     },
     "execution_count": 72,
     "metadata": {},
     "output_type": "execute_result"
    }
   ],
   "source": [
    "# Calculate absolute target emissions in 2035 based on shares\n",
    "target_2035[\"absolute_emissions\"] = ((1-target_2035.base1990) * co2_totals_excl_lulucf).combine_first((1-target_2035.base2005) * co2_totals_excl_lulucf_2005)\n",
    "target_2035_aggregated = target_2035.absolute_emissions.sum()\n",
    "target_2035_aggregated"
   ]
  },
  {
   "cell_type": "code",
   "execution_count": 73,
   "metadata": {},
   "outputs": [
    {
     "data": {
      "text/plain": [
       "0.392"
      ]
     },
     "execution_count": 73,
     "metadata": {},
     "output_type": "execute_result"
    }
   ],
   "source": [
    "# Calculate share of 1990 emissions\n",
    "round(target_2035_aggregated/co2_1990_aggregated,3)"
   ]
  },
  {
   "cell_type": "markdown",
   "metadata": {},
   "source": [
    "Alternate approach: For missing values take interpolated emission reduction target for Germany 2035 (75%). For other countries take distribution key from [EU effort sharing regulation](https://climate.ec.europa.eu/eu-action/effort-sharing-member-states-emission-targets/effort-sharing-2021-2030-targets-and-flexibilities_en). Then calculate total emissions based on 1990 values and weighted emission reduction target."
   ]
  },
  {
   "cell_type": "code",
   "execution_count": 74,
   "metadata": {},
   "outputs": [
    {
     "data": {
      "text/html": [
       "<div>\n",
       "<style scoped>\n",
       "    .dataframe tbody tr th:only-of-type {\n",
       "        vertical-align: middle;\n",
       "    }\n",
       "\n",
       "    .dataframe tbody tr th {\n",
       "        vertical-align: top;\n",
       "    }\n",
       "\n",
       "    .dataframe thead th {\n",
       "        text-align: right;\n",
       "    }\n",
       "</style>\n",
       "<table border=\"1\" class=\"dataframe\">\n",
       "  <thead>\n",
       "    <tr style=\"text-align: right;\">\n",
       "      <th></th>\n",
       "      <th>base1990</th>\n",
       "      <th>base2005</th>\n",
       "      <th>absolute_emissions</th>\n",
       "    </tr>\n",
       "    <tr>\n",
       "      <th>Country_code</th>\n",
       "      <th></th>\n",
       "      <th></th>\n",
       "      <th></th>\n",
       "    </tr>\n",
       "  </thead>\n",
       "  <tbody>\n",
       "    <tr>\n",
       "      <th>AT</th>\n",
       "      <td>NaN</td>\n",
       "      <td>0.74000</td>\n",
       "      <td>20.590032</td>\n",
       "    </tr>\n",
       "    <tr>\n",
       "      <th>BE</th>\n",
       "      <td>0.6625</td>\n",
       "      <td>NaN</td>\n",
       "      <td>40.604403</td>\n",
       "    </tr>\n",
       "    <tr>\n",
       "      <th>CH</th>\n",
       "      <td>0.6250</td>\n",
       "      <td>NaN</td>\n",
       "      <td>16.700415</td>\n",
       "    </tr>\n",
       "    <tr>\n",
       "      <th>CZ</th>\n",
       "      <td>NaN</td>\n",
       "      <td>0.44500</td>\n",
       "      <td>70.339812</td>\n",
       "    </tr>\n",
       "    <tr>\n",
       "      <th>DE</th>\n",
       "      <td>0.7500</td>\n",
       "      <td>NaN</td>\n",
       "      <td>263.087136</td>\n",
       "    </tr>\n",
       "    <tr>\n",
       "      <th>DK</th>\n",
       "      <td>0.8000</td>\n",
       "      <td>NaN</td>\n",
       "      <td>10.937197</td>\n",
       "    </tr>\n",
       "    <tr>\n",
       "      <th>FR</th>\n",
       "      <td>NaN</td>\n",
       "      <td>0.60625</td>\n",
       "      <td>167.899907</td>\n",
       "    </tr>\n",
       "    <tr>\n",
       "      <th>IT</th>\n",
       "      <td>NaN</td>\n",
       "      <td>0.57775</td>\n",
       "      <td>211.127397</td>\n",
       "    </tr>\n",
       "    <tr>\n",
       "      <th>LU</th>\n",
       "      <td>NaN</td>\n",
       "      <td>0.66250</td>\n",
       "      <td>4.085589</td>\n",
       "    </tr>\n",
       "    <tr>\n",
       "      <th>NL</th>\n",
       "      <td>0.6625</td>\n",
       "      <td>NaN</td>\n",
       "      <td>55.114527</td>\n",
       "    </tr>\n",
       "    <tr>\n",
       "      <th>PL</th>\n",
       "      <td>0.2655</td>\n",
       "      <td>NaN</td>\n",
       "      <td>276.573417</td>\n",
       "    </tr>\n",
       "    <tr>\n",
       "      <th>SE</th>\n",
       "      <td>0.6900</td>\n",
       "      <td>NaN</td>\n",
       "      <td>17.778136</td>\n",
       "    </tr>\n",
       "  </tbody>\n",
       "</table>\n",
       "</div>"
      ],
      "text/plain": [
       "              base1990  base2005  absolute_emissions\n",
       "Country_code                                        \n",
       "AT                 NaN   0.74000           20.590032\n",
       "BE              0.6625       NaN           40.604403\n",
       "CH              0.6250       NaN           16.700415\n",
       "CZ                 NaN   0.44500           70.339812\n",
       "DE              0.7500       NaN          263.087136\n",
       "DK              0.8000       NaN           10.937197\n",
       "FR                 NaN   0.60625          167.899907\n",
       "IT                 NaN   0.57775          211.127397\n",
       "LU                 NaN   0.66250            4.085589\n",
       "NL              0.6625       NaN           55.114527\n",
       "PL              0.2655       NaN          276.573417\n",
       "SE              0.6900       NaN           17.778136"
      ]
     },
     "execution_count": 74,
     "metadata": {},
     "output_type": "execute_result"
    }
   ],
   "source": [
    "target_2035"
   ]
  },
  {
   "cell_type": "markdown",
   "metadata": {},
   "source": [
    "## Europe's 2040 climate target\n",
    "Source: https://eur-lex.europa.eu/resource.html?uri=cellar:6c154426-c5a6-11ee-95d9-01aa75ed71a1.0001.02/DOC_3&format=PDF"
   ]
  },
  {
   "cell_type": "code",
   "execution_count": 75,
   "metadata": {},
   "outputs": [],
   "source": [
    "# calculate linearly interpolated 2035 targets\n",
    "target_sector = pd.read_csv(\"../data/co2_total_sector.csv\", index_col=0)\n",
    "target_sector['2035 S2'] = (target_sector['2030'] + target_sector['2040 S2'])/2\n",
    "target_sector_share = target_sector/target_sector.loc['Total Gross GHG Emissions',:]"
   ]
  },
  {
   "cell_type": "code",
   "execution_count": 76,
   "metadata": {},
   "outputs": [
    {
     "data": {
      "text/html": [
       "<div>\n",
       "<style scoped>\n",
       "    .dataframe tbody tr th:only-of-type {\n",
       "        vertical-align: middle;\n",
       "    }\n",
       "\n",
       "    .dataframe tbody tr th {\n",
       "        vertical-align: top;\n",
       "    }\n",
       "\n",
       "    .dataframe thead th {\n",
       "        text-align: right;\n",
       "    }\n",
       "</style>\n",
       "<table border=\"1\" class=\"dataframe\">\n",
       "  <thead>\n",
       "    <tr style=\"text-align: right;\">\n",
       "      <th></th>\n",
       "      <th>2005</th>\n",
       "      <th>2015</th>\n",
       "      <th>2030</th>\n",
       "      <th>2040 S1</th>\n",
       "      <th>2040 S2</th>\n",
       "      <th>2040 S3</th>\n",
       "      <th>2040 LIFE</th>\n",
       "      <th>2050 S1</th>\n",
       "      <th>2050 S2</th>\n",
       "      <th>2050 S3</th>\n",
       "      <th>2050 LIFE</th>\n",
       "      <th>2035 S2</th>\n",
       "    </tr>\n",
       "    <tr>\n",
       "      <th>MtC02-eq</th>\n",
       "      <th></th>\n",
       "      <th></th>\n",
       "      <th></th>\n",
       "      <th></th>\n",
       "      <th></th>\n",
       "      <th></th>\n",
       "      <th></th>\n",
       "      <th></th>\n",
       "      <th></th>\n",
       "      <th></th>\n",
       "      <th></th>\n",
       "      <th></th>\n",
       "    </tr>\n",
       "  </thead>\n",
       "  <tbody>\n",
       "    <tr>\n",
       "      <th>Total Gross GHG Emissions</th>\n",
       "      <td>4641</td>\n",
       "      <td>3914</td>\n",
       "      <td>2301</td>\n",
       "      <td>1273</td>\n",
       "      <td>943</td>\n",
       "      <td>748</td>\n",
       "      <td>740</td>\n",
       "      <td>416</td>\n",
       "      <td>413</td>\n",
       "      <td>411</td>\n",
       "      <td>360.00</td>\n",
       "      <td>1622.0</td>\n",
       "    </tr>\n",
       "    <tr>\n",
       "      <th>Power and district heating</th>\n",
       "      <td>1300</td>\n",
       "      <td>1012</td>\n",
       "      <td>339</td>\n",
       "      <td>123</td>\n",
       "      <td>42</td>\n",
       "      <td>23</td>\n",
       "      <td>34</td>\n",
       "      <td>21</td>\n",
       "      <td>22</td>\n",
       "      <td>19</td>\n",
       "      <td>15.00</td>\n",
       "      <td>190.5</td>\n",
       "    </tr>\n",
       "    <tr>\n",
       "      <th>Other Energy sectors*</th>\n",
       "      <td>277</td>\n",
       "      <td>237</td>\n",
       "      <td>133</td>\n",
       "      <td>71</td>\n",
       "      <td>59</td>\n",
       "      <td>53</td>\n",
       "      <td>57</td>\n",
       "      <td>39</td>\n",
       "      <td>39</td>\n",
       "      <td>38</td>\n",
       "      <td>36.00</td>\n",
       "      <td>96.0</td>\n",
       "    </tr>\n",
       "    <tr>\n",
       "      <th>Industry (Energy)</th>\n",
       "      <td>469</td>\n",
       "      <td>360</td>\n",
       "      <td>232</td>\n",
       "      <td>126</td>\n",
       "      <td>94</td>\n",
       "      <td>75</td>\n",
       "      <td>86</td>\n",
       "      <td>6</td>\n",
       "      <td>6</td>\n",
       "      <td>9</td>\n",
       "      <td>11.00</td>\n",
       "      <td>163.0</td>\n",
       "    </tr>\n",
       "    <tr>\n",
       "      <th>Domestic Transport</th>\n",
       "      <td>822</td>\n",
       "      <td>772</td>\n",
       "      <td>583</td>\n",
       "      <td>190</td>\n",
       "      <td>143</td>\n",
       "      <td>120</td>\n",
       "      <td>134</td>\n",
       "      <td>10</td>\n",
       "      <td>8</td>\n",
       "      <td>7</td>\n",
       "      <td>9.00</td>\n",
       "      <td>363.0</td>\n",
       "    </tr>\n",
       "    <tr>\n",
       "      <th>Residential and Services**</th>\n",
       "      <td>648</td>\n",
       "      <td>514</td>\n",
       "      <td>221</td>\n",
       "      <td>119</td>\n",
       "      <td>92</td>\n",
       "      <td>75</td>\n",
       "      <td>92</td>\n",
       "      <td>20</td>\n",
       "      <td>19</td>\n",
       "      <td>19</td>\n",
       "      <td>29.00</td>\n",
       "      <td>156.5</td>\n",
       "    </tr>\n",
       "    <tr>\n",
       "      <th>Industry (Non-Energy)</th>\n",
       "      <td>343</td>\n",
       "      <td>233</td>\n",
       "      <td>157</td>\n",
       "      <td>139</td>\n",
       "      <td>88</td>\n",
       "      <td>14</td>\n",
       "      <td>13</td>\n",
       "      <td>7</td>\n",
       "      <td>7</td>\n",
       "      <td>7</td>\n",
       "      <td>7.00</td>\n",
       "      <td>122.5</td>\n",
       "    </tr>\n",
       "    <tr>\n",
       "      <th>Other Non-Energv sectors***</th>\n",
       "      <td>101</td>\n",
       "      <td>130</td>\n",
       "      <td>56</td>\n",
       "      <td>33</td>\n",
       "      <td>26</td>\n",
       "      <td>25</td>\n",
       "      <td>25</td>\n",
       "      <td>23</td>\n",
       "      <td>22</td>\n",
       "      <td>22</td>\n",
       "      <td>22.00</td>\n",
       "      <td>41.0</td>\n",
       "    </tr>\n",
       "    <tr>\n",
       "      <th>Intra-EU aviation</th>\n",
       "      <td>35</td>\n",
       "      <td>38</td>\n",
       "      <td>43</td>\n",
       "      <td>31</td>\n",
       "      <td>29</td>\n",
       "      <td>28</td>\n",
       "      <td>14</td>\n",
       "      <td>14</td>\n",
       "      <td>12</td>\n",
       "      <td>11</td>\n",
       "      <td>10.00</td>\n",
       "      <td>36.0</td>\n",
       "    </tr>\n",
       "    <tr>\n",
       "      <th>Intra-EU navigation</th>\n",
       "      <td>31</td>\n",
       "      <td>27</td>\n",
       "      <td>25</td>\n",
       "      <td>7</td>\n",
       "      <td>6</td>\n",
       "      <td>4</td>\n",
       "      <td>0</td>\n",
       "      <td>0</td>\n",
       "      <td>0</td>\n",
       "      <td>0</td>\n",
       "      <td>0.00</td>\n",
       "      <td>15.5</td>\n",
       "    </tr>\n",
       "    <tr>\n",
       "      <th>50% extra-EU maritime MRV</th>\n",
       "      <td>50</td>\n",
       "      <td>42</td>\n",
       "      <td>44</td>\n",
       "      <td>14</td>\n",
       "      <td>11</td>\n",
       "      <td>9</td>\n",
       "      <td>0</td>\n",
       "      <td>0</td>\n",
       "      <td>0</td>\n",
       "      <td>0</td>\n",
       "      <td>0.00</td>\n",
       "      <td>27.5</td>\n",
       "    </tr>\n",
       "    <tr>\n",
       "      <th>Agriculture****</th>\n",
       "      <td>390</td>\n",
       "      <td>385</td>\n",
       "      <td>361</td>\n",
       "      <td>351</td>\n",
       "      <td>302</td>\n",
       "      <td>271</td>\n",
       "      <td>209</td>\n",
       "      <td>249</td>\n",
       "      <td>249</td>\n",
       "      <td>249</td>\n",
       "      <td>194.00</td>\n",
       "      <td>331.5</td>\n",
       "    </tr>\n",
       "    <tr>\n",
       "      <th>Waste</th>\n",
       "      <td>155</td>\n",
       "      <td>118</td>\n",
       "      <td>87</td>\n",
       "      <td>68</td>\n",
       "      <td>55</td>\n",
       "      <td>55</td>\n",
       "      <td>55</td>\n",
       "      <td>32</td>\n",
       "      <td>32</td>\n",
       "      <td>32</td>\n",
       "      <td>0.32</td>\n",
       "      <td>71.0</td>\n",
       "    </tr>\n",
       "    <tr>\n",
       "      <th>C02 calibration</th>\n",
       "      <td>15</td>\n",
       "      <td>43</td>\n",
       "      <td>24</td>\n",
       "      <td>3</td>\n",
       "      <td>-1</td>\n",
       "      <td>-1</td>\n",
       "      <td>-1</td>\n",
       "      <td>0</td>\n",
       "      <td>0</td>\n",
       "      <td>0</td>\n",
       "      <td>0.00</td>\n",
       "      <td>11.5</td>\n",
       "    </tr>\n",
       "    <tr>\n",
       "      <th>Non-C02 calibration</th>\n",
       "      <td>5</td>\n",
       "      <td>2</td>\n",
       "      <td>-3</td>\n",
       "      <td>-3</td>\n",
       "      <td>-3</td>\n",
       "      <td>-3</td>\n",
       "      <td>-3</td>\n",
       "      <td>-3</td>\n",
       "      <td>-3</td>\n",
       "      <td>-3</td>\n",
       "      <td>-3.00</td>\n",
       "      <td>-3.0</td>\n",
       "    </tr>\n",
       "  </tbody>\n",
       "</table>\n",
       "</div>"
      ],
      "text/plain": [
       "                             2005  2015  2030  2040 S1  2040 S2  2040 S3  \\\n",
       "MtC02-eq                                                                   \n",
       "Total Gross GHG Emissions    4641  3914  2301     1273      943      748   \n",
       "Power and district heating   1300  1012   339      123       42       23   \n",
       "Other Energy sectors*         277   237   133       71       59       53   \n",
       "Industry (Energy)             469   360   232      126       94       75   \n",
       "Domestic Transport            822   772   583      190      143      120   \n",
       "Residential and Services**    648   514   221      119       92       75   \n",
       "Industry (Non-Energy)         343   233   157      139       88       14   \n",
       "Other Non-Energv sectors***   101   130    56       33       26       25   \n",
       "Intra-EU aviation              35    38    43       31       29       28   \n",
       "Intra-EU navigation            31    27    25        7        6        4   \n",
       "50% extra-EU maritime MRV      50    42    44       14       11        9   \n",
       "Agriculture****               390   385   361      351      302      271   \n",
       "Waste                         155   118    87       68       55       55   \n",
       "C02 calibration                15    43    24        3       -1       -1   \n",
       "Non-C02 calibration             5     2    -3       -3       -3       -3   \n",
       "\n",
       "                             2040 LIFE  2050 S1  2050 S2  2050 S3  2050 LIFE  \\\n",
       "MtC02-eq                                                                       \n",
       "Total Gross GHG Emissions          740      416      413      411     360.00   \n",
       "Power and district heating          34       21       22       19      15.00   \n",
       "Other Energy sectors*               57       39       39       38      36.00   \n",
       "Industry (Energy)                   86        6        6        9      11.00   \n",
       "Domestic Transport                 134       10        8        7       9.00   \n",
       "Residential and Services**          92       20       19       19      29.00   \n",
       "Industry (Non-Energy)               13        7        7        7       7.00   \n",
       "Other Non-Energv sectors***         25       23       22       22      22.00   \n",
       "Intra-EU aviation                   14       14       12       11      10.00   \n",
       "Intra-EU navigation                  0        0        0        0       0.00   \n",
       "50% extra-EU maritime MRV            0        0        0        0       0.00   \n",
       "Agriculture****                    209      249      249      249     194.00   \n",
       "Waste                               55       32       32       32       0.32   \n",
       "C02 calibration                     -1        0        0        0       0.00   \n",
       "Non-C02 calibration                 -3       -3       -3       -3      -3.00   \n",
       "\n",
       "                             2035 S2  \n",
       "MtC02-eq                              \n",
       "Total Gross GHG Emissions     1622.0  \n",
       "Power and district heating     190.5  \n",
       "Other Energy sectors*           96.0  \n",
       "Industry (Energy)              163.0  \n",
       "Domestic Transport             363.0  \n",
       "Residential and Services**     156.5  \n",
       "Industry (Non-Energy)          122.5  \n",
       "Other Non-Energv sectors***     41.0  \n",
       "Intra-EU aviation               36.0  \n",
       "Intra-EU navigation             15.5  \n",
       "50% extra-EU maritime MRV       27.5  \n",
       "Agriculture****                331.5  \n",
       "Waste                           71.0  \n",
       "C02 calibration                 11.5  \n",
       "Non-C02 calibration             -3.0  "
      ]
     },
     "execution_count": 76,
     "metadata": {},
     "output_type": "execute_result"
    }
   ],
   "source": [
    "target_sector"
   ]
  },
  {
   "cell_type": "code",
   "execution_count": 80,
   "metadata": {},
   "outputs": [
    {
     "data": {
      "text/plain": [
       "0.27311960542540076"
      ]
     },
     "execution_count": 80,
     "metadata": {},
     "output_type": "execute_result"
    }
   ],
   "source": [
    "# Select the included sector in the model (other energy sectors include non-CO2 GHG emissions and are thus excluded)\n",
    "include_sector = ['Power and district heating','Residential and Services**','Other Energy sectors*']\n",
    "\n",
    "target_sector_share_2035 = target_sector_share.loc[include_sector,'2035 S2'].sum()\n",
    "target_sector_share_2035"
   ]
  },
  {
   "cell_type": "code",
   "execution_count": 81,
   "metadata": {},
   "outputs": [
    {
     "data": {
      "text/html": [
       "<div>\n",
       "<style scoped>\n",
       "    .dataframe tbody tr th:only-of-type {\n",
       "        vertical-align: middle;\n",
       "    }\n",
       "\n",
       "    .dataframe tbody tr th {\n",
       "        vertical-align: top;\n",
       "    }\n",
       "\n",
       "    .dataframe thead th {\n",
       "        text-align: right;\n",
       "    }\n",
       "</style>\n",
       "<table border=\"1\" class=\"dataframe\">\n",
       "  <thead>\n",
       "    <tr style=\"text-align: right;\">\n",
       "      <th></th>\n",
       "      <th>base1990</th>\n",
       "      <th>base2005</th>\n",
       "      <th>absolute_emissions</th>\n",
       "      <th>included_sector_emissions</th>\n",
       "    </tr>\n",
       "    <tr>\n",
       "      <th>Country_code</th>\n",
       "      <th></th>\n",
       "      <th></th>\n",
       "      <th></th>\n",
       "      <th></th>\n",
       "    </tr>\n",
       "  </thead>\n",
       "  <tbody>\n",
       "    <tr>\n",
       "      <th>AT</th>\n",
       "      <td>NaN</td>\n",
       "      <td>0.74000</td>\n",
       "      <td>20.590032</td>\n",
       "      <td>5.623541</td>\n",
       "    </tr>\n",
       "    <tr>\n",
       "      <th>BE</th>\n",
       "      <td>0.6625</td>\n",
       "      <td>NaN</td>\n",
       "      <td>40.604403</td>\n",
       "      <td>11.089859</td>\n",
       "    </tr>\n",
       "    <tr>\n",
       "      <th>CH</th>\n",
       "      <td>0.6250</td>\n",
       "      <td>NaN</td>\n",
       "      <td>16.700415</td>\n",
       "      <td>4.561211</td>\n",
       "    </tr>\n",
       "    <tr>\n",
       "      <th>CZ</th>\n",
       "      <td>NaN</td>\n",
       "      <td>0.44500</td>\n",
       "      <td>70.339812</td>\n",
       "      <td>19.211182</td>\n",
       "    </tr>\n",
       "    <tr>\n",
       "      <th>DE</th>\n",
       "      <td>0.7500</td>\n",
       "      <td>NaN</td>\n",
       "      <td>263.087136</td>\n",
       "      <td>71.854255</td>\n",
       "    </tr>\n",
       "    <tr>\n",
       "      <th>DK</th>\n",
       "      <td>0.8000</td>\n",
       "      <td>NaN</td>\n",
       "      <td>10.937197</td>\n",
       "      <td>2.987163</td>\n",
       "    </tr>\n",
       "    <tr>\n",
       "      <th>FR</th>\n",
       "      <td>NaN</td>\n",
       "      <td>0.60625</td>\n",
       "      <td>167.899907</td>\n",
       "      <td>45.856756</td>\n",
       "    </tr>\n",
       "    <tr>\n",
       "      <th>IT</th>\n",
       "      <td>NaN</td>\n",
       "      <td>0.57775</td>\n",
       "      <td>211.127397</td>\n",
       "      <td>57.663031</td>\n",
       "    </tr>\n",
       "    <tr>\n",
       "      <th>LU</th>\n",
       "      <td>NaN</td>\n",
       "      <td>0.66250</td>\n",
       "      <td>4.085589</td>\n",
       "      <td>1.115854</td>\n",
       "    </tr>\n",
       "    <tr>\n",
       "      <th>NL</th>\n",
       "      <td>0.6625</td>\n",
       "      <td>NaN</td>\n",
       "      <td>55.114527</td>\n",
       "      <td>15.052858</td>\n",
       "    </tr>\n",
       "    <tr>\n",
       "      <th>PL</th>\n",
       "      <td>0.2655</td>\n",
       "      <td>NaN</td>\n",
       "      <td>276.573417</td>\n",
       "      <td>75.537623</td>\n",
       "    </tr>\n",
       "    <tr>\n",
       "      <th>SE</th>\n",
       "      <td>0.6900</td>\n",
       "      <td>NaN</td>\n",
       "      <td>17.778136</td>\n",
       "      <td>4.855557</td>\n",
       "    </tr>\n",
       "  </tbody>\n",
       "</table>\n",
       "</div>"
      ],
      "text/plain": [
       "              base1990  base2005  absolute_emissions  \\\n",
       "Country_code                                           \n",
       "AT                 NaN   0.74000           20.590032   \n",
       "BE              0.6625       NaN           40.604403   \n",
       "CH              0.6250       NaN           16.700415   \n",
       "CZ                 NaN   0.44500           70.339812   \n",
       "DE              0.7500       NaN          263.087136   \n",
       "DK              0.8000       NaN           10.937197   \n",
       "FR                 NaN   0.60625          167.899907   \n",
       "IT                 NaN   0.57775          211.127397   \n",
       "LU                 NaN   0.66250            4.085589   \n",
       "NL              0.6625       NaN           55.114527   \n",
       "PL              0.2655       NaN          276.573417   \n",
       "SE              0.6900       NaN           17.778136   \n",
       "\n",
       "              included_sector_emissions  \n",
       "Country_code                             \n",
       "AT                             5.623541  \n",
       "BE                            11.089859  \n",
       "CH                             4.561211  \n",
       "CZ                            19.211182  \n",
       "DE                            71.854255  \n",
       "DK                             2.987163  \n",
       "FR                            45.856756  \n",
       "IT                            57.663031  \n",
       "LU                             1.115854  \n",
       "NL                            15.052858  \n",
       "PL                            75.537623  \n",
       "SE                             4.855557  "
      ]
     },
     "execution_count": 81,
     "metadata": {},
     "output_type": "execute_result"
    }
   ],
   "source": [
    "target_2035['included_sector_emissions'] = target_2035['absolute_emissions'] * target_sector_share_2035\n",
    "target_2035"
   ]
  },
  {
   "cell_type": "code",
   "execution_count": 85,
   "metadata": {},
   "outputs": [
    {
     "data": {
      "text/plain": [
       "0.107"
      ]
     },
     "execution_count": 85,
     "metadata": {},
     "output_type": "execute_result"
    }
   ],
   "source": [
    "# Calculate share of 1990 emissions\n",
    "round(target_2035['included_sector_emissions'].sum()/co2_1990_aggregated,3)"
   ]
  },
  {
   "cell_type": "markdown",
   "metadata": {},
   "source": [
    "# Convert cost assumptions to NPVs"
   ]
  },
  {
   "cell_type": "code",
   "execution_count": 86,
   "metadata": {},
   "outputs": [],
   "source": [
    "import numpy as np"
   ]
  },
  {
   "cell_type": "code",
   "execution_count": 87,
   "metadata": {},
   "outputs": [],
   "source": [
    "def convert_to_NPV(value = 23_500, i = 0.02, year = 2030, reference_year = 2020):\n",
    "    NPV = value/((1+i)**(year-reference_year))\n",
    "    return NPV"
   ]
  },
  {
   "cell_type": "code",
   "execution_count": 88,
   "metadata": {},
   "outputs": [
    {
     "data": {
      "text/plain": [
       "21710.367511623084"
      ]
     },
     "execution_count": 88,
     "metadata": {},
     "output_type": "execute_result"
    }
   ],
   "source": [
    "convert_to_NPV(value = 23_500, i = 0.02, year = 2024, reference_year = 2020)"
   ]
  },
  {
   "cell_type": "code",
   "execution_count": 89,
   "metadata": {},
   "outputs": [
    {
     "data": {
      "text/plain": [
       "18476.908520530284"
      ]
     },
     "execution_count": 89,
     "metadata": {},
     "output_type": "execute_result"
    }
   ],
   "source": [
    "convert_to_NPV(value = 20_000, i = 0.02, year = 2024, reference_year = 2020)"
   ]
  },
  {
   "cell_type": "code",
   "execution_count": 120,
   "metadata": {},
   "outputs": [
    {
     "data": {
      "text/plain": [
       "14088.642746904343"
      ]
     },
     "execution_count": 120,
     "metadata": {},
     "output_type": "execute_result"
    }
   ],
   "source": [
    "convert_to_NPV(value = 15_250, i = 0.02, year = 2024, reference_year = 2020)"
   ]
  },
  {
   "cell_type": "code",
   "execution_count": 91,
   "metadata": {},
   "outputs": [
    {
     "data": {
      "text/plain": [
       "28835.06343713956"
      ]
     },
     "execution_count": 91,
     "metadata": {},
     "output_type": "execute_result"
    }
   ],
   "source": [
    "convert_to_NPV(value = 30_000, i = 0.02, year = 2022, reference_year = 2020)"
   ]
  },
  {
   "cell_type": "code",
   "execution_count": 92,
   "metadata": {},
   "outputs": [
    {
     "data": {
      "text/plain": [
       "1658016.1476355249"
      ]
     },
     "execution_count": 92,
     "metadata": {},
     "output_type": "execute_result"
    }
   ],
   "source": [
    "convert_to_NPV(value = 1_725_000, i = 0.02, year = 2022, reference_year = 2020)"
   ]
  },
  {
   "cell_type": "code",
   "execution_count": null,
   "metadata": {},
   "outputs": [],
   "source": []
  }
 ],
 "metadata": {
  "kernelspec": {
   "display_name": "Python 3 (ipykernel)",
   "language": "python",
   "name": "python3"
  },
  "language_info": {
   "codemirror_mode": {
    "name": "ipython",
    "version": 3
   },
   "file_extension": ".py",
   "mimetype": "text/x-python",
   "name": "python",
   "nbconvert_exporter": "python",
   "pygments_lexer": "ipython3",
   "version": "3.12.6"
  }
 },
 "nbformat": 4,
 "nbformat_minor": 4
}
