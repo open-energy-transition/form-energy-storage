{
 "cells": [
  {
   "cell_type": "code",
   "execution_count": 2,
   "metadata": {
    "is_executing": true
   },
   "outputs": [],
   "source": [
    "import pypsa\n",
    "import pandas as pd"
   ]
  },
  {
   "cell_type": "markdown",
   "metadata": {
    "collapsed": false,
    "jupyter": {
     "outputs_hidden": false
    }
   },
   "source": [
    "# Process and analysis"
   ]
  },
  {
   "cell_type": "markdown",
   "metadata": {
    "jp-MarkdownHeadingCollapsed": true
   },
   "source": [
    "## Network without NEP"
   ]
  },
  {
   "cell_type": "code",
   "execution_count": null,
   "metadata": {},
   "outputs": [],
   "source": [
    "n_no_nep = pypsa.Network(\"../results/test_scenario_wo_nep/prenetworks-brownfield/base_s_52_lv1.17___2035.nc\")"
   ]
  },
  {
   "cell_type": "code",
   "execution_count": 4,
   "metadata": {},
   "outputs": [],
   "source": [
    "ac_lines = n_no_nep.lines"
   ]
  },
  {
   "cell_type": "code",
   "execution_count": 5,
   "metadata": {},
   "outputs": [
    {
     "data": {
      "text/plain": [
       "135576.78876656335"
      ]
     },
     "execution_count": 5,
     "metadata": {},
     "output_type": "execute_result"
    }
   ],
   "source": [
    "line_cap = ac_lines.s_nom.mul(ac_lines.length).div(1e3).sum()\n",
    "line_cap"
   ]
  },
  {
   "cell_type": "code",
   "execution_count": 6,
   "metadata": {},
   "outputs": [
    {
     "data": {
      "text/html": [
       "<div>\n",
       "<style scoped>\n",
       "    .dataframe tbody tr th:only-of-type {\n",
       "        vertical-align: middle;\n",
       "    }\n",
       "\n",
       "    .dataframe tbody tr th {\n",
       "        vertical-align: top;\n",
       "    }\n",
       "\n",
       "    .dataframe thead th {\n",
       "        text-align: right;\n",
       "    }\n",
       "</style>\n",
       "<table border=\"1\" class=\"dataframe\">\n",
       "  <thead>\n",
       "    <tr style=\"text-align: right;\">\n",
       "      <th></th>\n",
       "      <th>bus0</th>\n",
       "      <th>bus1</th>\n",
       "      <th>type</th>\n",
       "      <th>carrier</th>\n",
       "      <th>efficiency</th>\n",
       "      <th>active</th>\n",
       "      <th>build_year</th>\n",
       "      <th>lifetime</th>\n",
       "      <th>p_nom</th>\n",
       "      <th>p_nom_mod</th>\n",
       "      <th>...</th>\n",
       "      <th>efficiency2</th>\n",
       "      <th>voltage</th>\n",
       "      <th>geometry</th>\n",
       "      <th>underwater_fraction</th>\n",
       "      <th>length_original</th>\n",
       "      <th>underground</th>\n",
       "      <th>reversed</th>\n",
       "      <th>under_construction</th>\n",
       "      <th>location</th>\n",
       "      <th>dc</th>\n",
       "    </tr>\n",
       "    <tr>\n",
       "      <th>Link</th>\n",
       "      <th></th>\n",
       "      <th></th>\n",
       "      <th></th>\n",
       "      <th></th>\n",
       "      <th></th>\n",
       "      <th></th>\n",
       "      <th></th>\n",
       "      <th></th>\n",
       "      <th></th>\n",
       "      <th></th>\n",
       "      <th></th>\n",
       "      <th></th>\n",
       "      <th></th>\n",
       "      <th></th>\n",
       "      <th></th>\n",
       "      <th></th>\n",
       "      <th></th>\n",
       "      <th></th>\n",
       "      <th></th>\n",
       "      <th></th>\n",
       "      <th></th>\n",
       "    </tr>\n",
       "  </thead>\n",
       "  <tbody>\n",
       "    <tr>\n",
       "      <th>relation/5487095</th>\n",
       "      <td>DK0 0</td>\n",
       "      <td>DK1 0</td>\n",
       "      <td></td>\n",
       "      <td>DC</td>\n",
       "      <td>0.975075</td>\n",
       "      <td>True</td>\n",
       "      <td>0</td>\n",
       "      <td>inf</td>\n",
       "      <td>600.0</td>\n",
       "      <td>0.0</td>\n",
       "      <td>...</td>\n",
       "      <td>1.0</td>\n",
       "      <td>400.0</td>\n",
       "      <td>LINESTRING (10.5069 55.3673, 10.5068756 55.367...</td>\n",
       "      <td>0.563251</td>\n",
       "      <td>216.510855</td>\n",
       "      <td>1.0</td>\n",
       "      <td>False</td>\n",
       "      <td>0.0</td>\n",
       "      <td></td>\n",
       "      <td>1.0</td>\n",
       "    </tr>\n",
       "    <tr>\n",
       "      <th>relation/8193755</th>\n",
       "      <td>BE0 0</td>\n",
       "      <td>DE0 30</td>\n",
       "      <td></td>\n",
       "      <td>DC</td>\n",
       "      <td>0.976101</td>\n",
       "      <td>True</td>\n",
       "      <td>0</td>\n",
       "      <td>inf</td>\n",
       "      <td>1000.0</td>\n",
       "      <td>0.0</td>\n",
       "      <td>...</td>\n",
       "      <td>1.0</td>\n",
       "      <td>320.0</td>\n",
       "      <td>LINESTRING (5.6675 50.753, 5.6675409 50.752914...</td>\n",
       "      <td>0.000000</td>\n",
       "      <td>171.308786</td>\n",
       "      <td>1.0</td>\n",
       "      <td>False</td>\n",
       "      <td>0.0</td>\n",
       "      <td></td>\n",
       "      <td>1.0</td>\n",
       "    </tr>\n",
       "    <tr>\n",
       "      <th>relation/2505320</th>\n",
       "      <td>DK1 0</td>\n",
       "      <td>DE0 13</td>\n",
       "      <td></td>\n",
       "      <td>DC</td>\n",
       "      <td>0.974026</td>\n",
       "      <td>True</td>\n",
       "      <td>0</td>\n",
       "      <td>inf</td>\n",
       "      <td>600.0</td>\n",
       "      <td>0.0</td>\n",
       "      <td>...</td>\n",
       "      <td>1.0</td>\n",
       "      <td>400.0</td>\n",
       "      <td>LINESTRING (12.0074 55.4499, 12.0073721 55.449...</td>\n",
       "      <td>0.281098</td>\n",
       "      <td>262.778550</td>\n",
       "      <td>1.0</td>\n",
       "      <td>False</td>\n",
       "      <td>0.0</td>\n",
       "      <td></td>\n",
       "      <td>1.0</td>\n",
       "    </tr>\n",
       "    <tr>\n",
       "      <th>relation/3918230</th>\n",
       "      <td>DE0 11</td>\n",
       "      <td>SE1 0</td>\n",
       "      <td></td>\n",
       "      <td>DC</td>\n",
       "      <td>0.955191</td>\n",
       "      <td>True</td>\n",
       "      <td>0</td>\n",
       "      <td>inf</td>\n",
       "      <td>600.0</td>\n",
       "      <td>0.0</td>\n",
       "      <td>...</td>\n",
       "      <td>1.0</td>\n",
       "      <td>450.0</td>\n",
       "      <td>LINESTRING (10.8022 53.8958, 10.802197 53.8958...</td>\n",
       "      <td>0.927588</td>\n",
       "      <td>1101.945135</td>\n",
       "      <td>1.0</td>\n",
       "      <td>False</td>\n",
       "      <td>0.0</td>\n",
       "      <td></td>\n",
       "      <td>1.0</td>\n",
       "    </tr>\n",
       "    <tr>\n",
       "      <th>relation/8185420</th>\n",
       "      <td>DK0 0</td>\n",
       "      <td>NL0 0</td>\n",
       "      <td></td>\n",
       "      <td>DC</td>\n",
       "      <td>0.966905</td>\n",
       "      <td>True</td>\n",
       "      <td>0</td>\n",
       "      <td>inf</td>\n",
       "      <td>700.0</td>\n",
       "      <td>0.0</td>\n",
       "      <td>...</td>\n",
       "      <td>1.0</td>\n",
       "      <td>320.0</td>\n",
       "      <td>LINESTRING (8.7045 55.5305, 8.7030898 55.53044...</td>\n",
       "      <td>0.926393</td>\n",
       "      <td>578.122730</td>\n",
       "      <td>1.0</td>\n",
       "      <td>False</td>\n",
       "      <td>0.0</td>\n",
       "      <td></td>\n",
       "      <td>1.0</td>\n",
       "    </tr>\n",
       "  </tbody>\n",
       "</table>\n",
       "<p>5 rows × 49 columns</p>\n",
       "</div>"
      ],
      "text/plain": [
       "                    bus0    bus1 type carrier  efficiency  active  build_year  \\\n",
       "Link                                                                            \n",
       "relation/5487095   DK0 0   DK1 0           DC    0.975075    True           0   \n",
       "relation/8193755   BE0 0  DE0 30           DC    0.976101    True           0   \n",
       "relation/2505320   DK1 0  DE0 13           DC    0.974026    True           0   \n",
       "relation/3918230  DE0 11   SE1 0           DC    0.955191    True           0   \n",
       "relation/8185420   DK0 0   NL0 0           DC    0.966905    True           0   \n",
       "\n",
       "                  lifetime   p_nom  p_nom_mod  ...  efficiency2  voltage  \\\n",
       "Link                                           ...                         \n",
       "relation/5487095       inf   600.0        0.0  ...          1.0    400.0   \n",
       "relation/8193755       inf  1000.0        0.0  ...          1.0    320.0   \n",
       "relation/2505320       inf   600.0        0.0  ...          1.0    400.0   \n",
       "relation/3918230       inf   600.0        0.0  ...          1.0    450.0   \n",
       "relation/8185420       inf   700.0        0.0  ...          1.0    320.0   \n",
       "\n",
       "                                                           geometry  \\\n",
       "Link                                                                  \n",
       "relation/5487095  LINESTRING (10.5069 55.3673, 10.5068756 55.367...   \n",
       "relation/8193755  LINESTRING (5.6675 50.753, 5.6675409 50.752914...   \n",
       "relation/2505320  LINESTRING (12.0074 55.4499, 12.0073721 55.449...   \n",
       "relation/3918230  LINESTRING (10.8022 53.8958, 10.802197 53.8958...   \n",
       "relation/8185420  LINESTRING (8.7045 55.5305, 8.7030898 55.53044...   \n",
       "\n",
       "                  underwater_fraction  length_original  underground  reversed  \\\n",
       "Link                                                                            \n",
       "relation/5487095             0.563251       216.510855          1.0     False   \n",
       "relation/8193755             0.000000       171.308786          1.0     False   \n",
       "relation/2505320             0.281098       262.778550          1.0     False   \n",
       "relation/3918230             0.927588      1101.945135          1.0     False   \n",
       "relation/8185420             0.926393       578.122730          1.0     False   \n",
       "\n",
       "                  under_construction  location   dc  \n",
       "Link                                                 \n",
       "relation/5487095                 0.0            1.0  \n",
       "relation/8193755                 0.0            1.0  \n",
       "relation/2505320                 0.0            1.0  \n",
       "relation/3918230                 0.0            1.0  \n",
       "relation/8185420                 0.0            1.0  \n",
       "\n",
       "[5 rows x 49 columns]"
      ]
     },
     "execution_count": 6,
     "metadata": {},
     "output_type": "execute_result"
    }
   ],
   "source": [
    "dc_links = n_no_nep.links.query(\"carrier=='DC'\")\n",
    "dc_links.head()"
   ]
  },
  {
   "cell_type": "code",
   "execution_count": 7,
   "metadata": {},
   "outputs": [
    {
     "data": {
      "text/plain": [
       "3790.162021813663"
      ]
     },
     "execution_count": 7,
     "metadata": {},
     "output_type": "execute_result"
    }
   ],
   "source": [
    "dc_links_cap = dc_links.p_nom.mul(dc_links.length).div(1e3).sum() # TWkm\n",
    "dc_links_cap"
   ]
  },
  {
   "cell_type": "code",
   "execution_count": 8,
   "metadata": {},
   "outputs": [
    {
     "data": {
      "text/plain": [
       "139366.950788377"
      ]
     },
     "execution_count": 8,
     "metadata": {},
     "output_type": "execute_result"
    }
   ],
   "source": [
    "grid_cap_wo_nep = line_cap + dc_links_cap\n",
    "grid_cap_wo_nep"
   ]
  },
  {
   "cell_type": "markdown",
   "metadata": {
    "jp-MarkdownHeadingCollapsed": true
   },
   "source": [
    "## Network with NEP lines"
   ]
  },
  {
   "cell_type": "code",
   "execution_count": 9,
   "metadata": {},
   "outputs": [
    {
     "name": "stderr",
     "output_type": "stream",
     "text": [
      "INFO:pypsa.io:Imported network base_s_52_lv1.17___2035.nc has buses, carriers, generators, global_constraints, lines, links, loads, storage_units, stores\n"
     ]
    }
   ],
   "source": [
    "n_nep = pypsa.Network(\"../results/test_scenario_w_nep_lines/prenetworks-brownfield/base_s_52_lv1.17___2035.nc\")"
   ]
  },
  {
   "cell_type": "code",
   "execution_count": 10,
   "metadata": {},
   "outputs": [
    {
     "data": {
      "text/plain": [
       "component    carrier                                     \n",
       "Link         BEV charger                                      621033.78150\n",
       "             Combined-Cycle Gas                               164204.56410\n",
       "             DC                                                12760.00000\n",
       "             Open-Cycle Gas                                       89.90361\n",
       "             V2G                                              621033.78150\n",
       "             coal                                              27700.77775\n",
       "             lignite                                           67353.58717\n",
       "             nuclear                                           72996.93252\n",
       "             oil                                                2658.70986\n",
       "             oil refining                                    1000000.00000\n",
       "             residential rural gas boiler                      91918.76897\n",
       "             residential rural ground heat pump                 3392.85928\n",
       "             residential urban decentral air heat pump         25231.77096\n",
       "             residential urban decentral gas boiler           380202.09590\n",
       "             residential urban decentral resistive heater      99338.48234\n",
       "             rural oil boiler                                  68085.07266\n",
       "             services rural resistive heater                   24886.20183\n",
       "             urban central solid biomass CHP                   13922.05188\n",
       "             urban decentral oil boiler                       222465.11156\n",
       "StorageUnit  Pumped Hydro Storage                              37945.27000\n",
       "             Reservoir & Dam                                   39056.80720\n",
       "Line         AC                                               632070.91600\n",
       "Store        EV battery                                       564576.16500\n",
       "Generator    Offshore Wind (AC)                                17071.40000\n",
       "             Onshore Wind                                     114291.76700\n",
       "             Run of River                                      27642.44188\n",
       "             Solar                                            202771.10000\n",
       "             nuclear                                           79282.00000\n",
       "dtype: float64"
      ]
     },
     "execution_count": 10,
     "metadata": {},
     "output_type": "execute_result"
    }
   ],
   "source": [
    "n_nep.statistics.installed_capacity()"
   ]
  },
  {
   "cell_type": "code",
   "execution_count": 11,
   "metadata": {},
   "outputs": [],
   "source": [
    "ac_lines = n_nep.lines"
   ]
  },
  {
   "cell_type": "code",
   "execution_count": 12,
   "metadata": {},
   "outputs": [
    {
     "data": {
      "text/plain": [
       "142307.6931630391"
      ]
     },
     "execution_count": 12,
     "metadata": {},
     "output_type": "execute_result"
    }
   ],
   "source": [
    "line_cap = ac_lines.s_nom.mul(ac_lines.length).div(1e3).sum()\n",
    "line_cap"
   ]
  },
  {
   "cell_type": "code",
   "execution_count": 13,
   "metadata": {},
   "outputs": [
    {
     "data": {
      "text/html": [
       "<div>\n",
       "<style scoped>\n",
       "    .dataframe tbody tr th:only-of-type {\n",
       "        vertical-align: middle;\n",
       "    }\n",
       "\n",
       "    .dataframe tbody tr th {\n",
       "        vertical-align: top;\n",
       "    }\n",
       "\n",
       "    .dataframe thead th {\n",
       "        text-align: right;\n",
       "    }\n",
       "</style>\n",
       "<table border=\"1\" class=\"dataframe\">\n",
       "  <thead>\n",
       "    <tr style=\"text-align: right;\">\n",
       "      <th></th>\n",
       "      <th>bus0</th>\n",
       "      <th>bus1</th>\n",
       "      <th>type</th>\n",
       "      <th>carrier</th>\n",
       "      <th>efficiency</th>\n",
       "      <th>active</th>\n",
       "      <th>build_year</th>\n",
       "      <th>lifetime</th>\n",
       "      <th>p_nom</th>\n",
       "      <th>p_nom_mod</th>\n",
       "      <th>...</th>\n",
       "      <th>underwater_fraction</th>\n",
       "      <th>geometry</th>\n",
       "      <th>length_original</th>\n",
       "      <th>underground</th>\n",
       "      <th>reversed</th>\n",
       "      <th>under_construction</th>\n",
       "      <th>location</th>\n",
       "      <th>project_status</th>\n",
       "      <th>tags</th>\n",
       "      <th>dc</th>\n",
       "    </tr>\n",
       "    <tr>\n",
       "      <th>Link</th>\n",
       "      <th></th>\n",
       "      <th></th>\n",
       "      <th></th>\n",
       "      <th></th>\n",
       "      <th></th>\n",
       "      <th></th>\n",
       "      <th></th>\n",
       "      <th></th>\n",
       "      <th></th>\n",
       "      <th></th>\n",
       "      <th></th>\n",
       "      <th></th>\n",
       "      <th></th>\n",
       "      <th></th>\n",
       "      <th></th>\n",
       "      <th></th>\n",
       "      <th></th>\n",
       "      <th></th>\n",
       "      <th></th>\n",
       "      <th></th>\n",
       "      <th></th>\n",
       "    </tr>\n",
       "  </thead>\n",
       "  <tbody>\n",
       "    <tr>\n",
       "      <th>relation/5487095</th>\n",
       "      <td>DK0 0</td>\n",
       "      <td>DK1 0</td>\n",
       "      <td></td>\n",
       "      <td>DC</td>\n",
       "      <td>0.975075</td>\n",
       "      <td>True</td>\n",
       "      <td>0</td>\n",
       "      <td>inf</td>\n",
       "      <td>600.0</td>\n",
       "      <td>0.0</td>\n",
       "      <td>...</td>\n",
       "      <td>0.563251</td>\n",
       "      <td>LINESTRING (10.5069 55.3673, 10.5068756 55.367...</td>\n",
       "      <td>216.510855</td>\n",
       "      <td>1.0</td>\n",
       "      <td>False</td>\n",
       "      <td>0.0</td>\n",
       "      <td></td>\n",
       "      <td></td>\n",
       "      <td></td>\n",
       "      <td>1.0</td>\n",
       "    </tr>\n",
       "    <tr>\n",
       "      <th>relation/8193755</th>\n",
       "      <td>BE0 0</td>\n",
       "      <td>DE0 24</td>\n",
       "      <td></td>\n",
       "      <td>DC</td>\n",
       "      <td>0.976280</td>\n",
       "      <td>True</td>\n",
       "      <td>0</td>\n",
       "      <td>inf</td>\n",
       "      <td>1000.0</td>\n",
       "      <td>0.0</td>\n",
       "      <td>...</td>\n",
       "      <td>0.000000</td>\n",
       "      <td>LINESTRING (5.6675 50.753, 5.6675409 50.752914...</td>\n",
       "      <td>163.444681</td>\n",
       "      <td>1.0</td>\n",
       "      <td>False</td>\n",
       "      <td>0.0</td>\n",
       "      <td></td>\n",
       "      <td></td>\n",
       "      <td></td>\n",
       "      <td>1.0</td>\n",
       "    </tr>\n",
       "    <tr>\n",
       "      <th>relation/2505320</th>\n",
       "      <td>DK1 0</td>\n",
       "      <td>DE0 11</td>\n",
       "      <td></td>\n",
       "      <td>DC</td>\n",
       "      <td>0.974026</td>\n",
       "      <td>True</td>\n",
       "      <td>0</td>\n",
       "      <td>inf</td>\n",
       "      <td>600.0</td>\n",
       "      <td>0.0</td>\n",
       "      <td>...</td>\n",
       "      <td>0.281098</td>\n",
       "      <td>LINESTRING (12.0074 55.4499, 12.0073721 55.449...</td>\n",
       "      <td>262.778550</td>\n",
       "      <td>1.0</td>\n",
       "      <td>False</td>\n",
       "      <td>0.0</td>\n",
       "      <td></td>\n",
       "      <td></td>\n",
       "      <td></td>\n",
       "      <td>1.0</td>\n",
       "    </tr>\n",
       "    <tr>\n",
       "      <th>relation/3918230</th>\n",
       "      <td>DE0 25</td>\n",
       "      <td>SE1 0</td>\n",
       "      <td></td>\n",
       "      <td>DC</td>\n",
       "      <td>0.955169</td>\n",
       "      <td>True</td>\n",
       "      <td>0</td>\n",
       "      <td>inf</td>\n",
       "      <td>600.0</td>\n",
       "      <td>0.0</td>\n",
       "      <td>...</td>\n",
       "      <td>0.927588</td>\n",
       "      <td>LINESTRING (10.8022 53.8958, 10.802197 53.8958...</td>\n",
       "      <td>1102.948245</td>\n",
       "      <td>1.0</td>\n",
       "      <td>False</td>\n",
       "      <td>0.0</td>\n",
       "      <td></td>\n",
       "      <td></td>\n",
       "      <td></td>\n",
       "      <td>1.0</td>\n",
       "    </tr>\n",
       "    <tr>\n",
       "      <th>relation/8185420</th>\n",
       "      <td>DK0 0</td>\n",
       "      <td>NL0 0</td>\n",
       "      <td></td>\n",
       "      <td>DC</td>\n",
       "      <td>0.966905</td>\n",
       "      <td>True</td>\n",
       "      <td>0</td>\n",
       "      <td>inf</td>\n",
       "      <td>700.0</td>\n",
       "      <td>0.0</td>\n",
       "      <td>...</td>\n",
       "      <td>0.926393</td>\n",
       "      <td>LINESTRING (8.7045 55.5305, 8.7030898 55.53044...</td>\n",
       "      <td>578.122730</td>\n",
       "      <td>1.0</td>\n",
       "      <td>False</td>\n",
       "      <td>0.0</td>\n",
       "      <td></td>\n",
       "      <td></td>\n",
       "      <td></td>\n",
       "      <td>1.0</td>\n",
       "    </tr>\n",
       "  </tbody>\n",
       "</table>\n",
       "<p>5 rows × 51 columns</p>\n",
       "</div>"
      ],
      "text/plain": [
       "                    bus0    bus1 type carrier  efficiency  active  build_year  \\\n",
       "Link                                                                            \n",
       "relation/5487095   DK0 0   DK1 0           DC    0.975075    True           0   \n",
       "relation/8193755   BE0 0  DE0 24           DC    0.976280    True           0   \n",
       "relation/2505320   DK1 0  DE0 11           DC    0.974026    True           0   \n",
       "relation/3918230  DE0 25   SE1 0           DC    0.955169    True           0   \n",
       "relation/8185420   DK0 0   NL0 0           DC    0.966905    True           0   \n",
       "\n",
       "                  lifetime   p_nom  p_nom_mod  ...  underwater_fraction  \\\n",
       "Link                                           ...                        \n",
       "relation/5487095       inf   600.0        0.0  ...             0.563251   \n",
       "relation/8193755       inf  1000.0        0.0  ...             0.000000   \n",
       "relation/2505320       inf   600.0        0.0  ...             0.281098   \n",
       "relation/3918230       inf   600.0        0.0  ...             0.927588   \n",
       "relation/8185420       inf   700.0        0.0  ...             0.926393   \n",
       "\n",
       "                                                           geometry  \\\n",
       "Link                                                                  \n",
       "relation/5487095  LINESTRING (10.5069 55.3673, 10.5068756 55.367...   \n",
       "relation/8193755  LINESTRING (5.6675 50.753, 5.6675409 50.752914...   \n",
       "relation/2505320  LINESTRING (12.0074 55.4499, 12.0073721 55.449...   \n",
       "relation/3918230  LINESTRING (10.8022 53.8958, 10.802197 53.8958...   \n",
       "relation/8185420  LINESTRING (8.7045 55.5305, 8.7030898 55.53044...   \n",
       "\n",
       "                  length_original  underground  reversed  under_construction  \\\n",
       "Link                                                                           \n",
       "relation/5487095       216.510855          1.0     False                 0.0   \n",
       "relation/8193755       163.444681          1.0     False                 0.0   \n",
       "relation/2505320       262.778550          1.0     False                 0.0   \n",
       "relation/3918230      1102.948245          1.0     False                 0.0   \n",
       "relation/8185420       578.122730          1.0     False                 0.0   \n",
       "\n",
       "                  location  project_status  tags   dc  \n",
       "Link                                                   \n",
       "relation/5487095                                  1.0  \n",
       "relation/8193755                                  1.0  \n",
       "relation/2505320                                  1.0  \n",
       "relation/3918230                                  1.0  \n",
       "relation/8185420                                  1.0  \n",
       "\n",
       "[5 rows x 51 columns]"
      ]
     },
     "execution_count": 13,
     "metadata": {},
     "output_type": "execute_result"
    }
   ],
   "source": [
    "dc_links = n_nep.links.query(\"carrier=='DC'\")\n",
    "dc_links.head()"
   ]
  },
  {
   "cell_type": "code",
   "execution_count": 14,
   "metadata": {},
   "outputs": [
    {
     "data": {
      "text/plain": [
       "3782.8997825830643"
      ]
     },
     "execution_count": 14,
     "metadata": {},
     "output_type": "execute_result"
    }
   ],
   "source": [
    "dc_links_cap = dc_links.p_nom.mul(dc_links.length).div(1e3).sum() # TWkm\n",
    "dc_links_cap"
   ]
  },
  {
   "cell_type": "code",
   "execution_count": 15,
   "metadata": {},
   "outputs": [
    {
     "data": {
      "text/plain": [
       "146090.59294562216"
      ]
     },
     "execution_count": 15,
     "metadata": {},
     "output_type": "execute_result"
    }
   ],
   "source": [
    "grid_cap_w_nep_lines = line_cap + dc_links_cap\n",
    "grid_cap_w_nep_lines"
   ]
  },
  {
   "cell_type": "markdown",
   "metadata": {
    "jp-MarkdownHeadingCollapsed": true
   },
   "source": [
    "## Network with NEP lines + links"
   ]
  },
  {
   "cell_type": "code",
   "execution_count": 16,
   "metadata": {},
   "outputs": [
    {
     "name": "stderr",
     "output_type": "stream",
     "text": [
      "INFO:pypsa.io:Imported network base_s_52_lv1.17___2035.nc has buses, carriers, generators, global_constraints, lines, links, loads, storage_units, stores\n"
     ]
    }
   ],
   "source": [
    "n_nep_lines_links = pypsa.Network(\"../results/test_scenario_w_nep_lines_links/prenetworks-brownfield/base_s_52_lv1.17___2035.nc\")"
   ]
  },
  {
   "cell_type": "code",
   "execution_count": 17,
   "metadata": {},
   "outputs": [
    {
     "data": {
      "text/plain": [
       "component    carrier                                     \n",
       "Link         BEV charger                                      621033.78150\n",
       "             Combined-Cycle Gas                               164204.56410\n",
       "             DC                                                80760.00000\n",
       "             Open-Cycle Gas                                       89.90361\n",
       "             V2G                                              621033.78150\n",
       "             coal                                              27700.77775\n",
       "             lignite                                           67353.58717\n",
       "             nuclear                                           72996.93252\n",
       "             oil                                                2658.70986\n",
       "             oil refining                                    1000000.00000\n",
       "             residential rural gas boiler                      91918.76897\n",
       "             residential rural resistive heater                24886.20183\n",
       "             residential urban decentral air heat pump         25231.77096\n",
       "             residential urban decentral resistive heater      99338.48234\n",
       "             rural oil boiler                                  68085.07266\n",
       "             services rural ground heat pump                    3392.85928\n",
       "             services urban decentral gas boiler              380202.09590\n",
       "             urban central solid biomass CHP                   13922.05188\n",
       "             urban decentral oil boiler                       222465.11156\n",
       "StorageUnit  Pumped Hydro Storage                              37945.27000\n",
       "             Reservoir & Dam                                   39056.80720\n",
       "Line         AC                                               632070.91600\n",
       "Store        EV battery                                       564576.16500\n",
       "Generator    Offshore Wind (AC)                                17071.40000\n",
       "             Onshore Wind                                     114291.76700\n",
       "             Run of River                                      27642.44188\n",
       "             Solar                                            202771.10000\n",
       "             nuclear                                           79282.00000\n",
       "dtype: float64"
      ]
     },
     "execution_count": 17,
     "metadata": {},
     "output_type": "execute_result"
    }
   ],
   "source": [
    "n_nep_lines_links.statistics.installed_capacity()"
   ]
  },
  {
   "cell_type": "code",
   "execution_count": 18,
   "metadata": {},
   "outputs": [],
   "source": [
    "ac_lines = n_nep_lines_links.lines"
   ]
  },
  {
   "cell_type": "code",
   "execution_count": 19,
   "metadata": {},
   "outputs": [
    {
     "data": {
      "text/plain": [
       "142307.6931630391"
      ]
     },
     "execution_count": 19,
     "metadata": {},
     "output_type": "execute_result"
    }
   ],
   "source": [
    "line_cap = ac_lines.s_nom.mul(ac_lines.length).div(1e3).sum()\n",
    "line_cap"
   ]
  },
  {
   "cell_type": "code",
   "execution_count": 20,
   "metadata": {},
   "outputs": [
    {
     "data": {
      "text/html": [
       "<div>\n",
       "<style scoped>\n",
       "    .dataframe tbody tr th:only-of-type {\n",
       "        vertical-align: middle;\n",
       "    }\n",
       "\n",
       "    .dataframe tbody tr th {\n",
       "        vertical-align: top;\n",
       "    }\n",
       "\n",
       "    .dataframe thead th {\n",
       "        text-align: right;\n",
       "    }\n",
       "</style>\n",
       "<table border=\"1\" class=\"dataframe\">\n",
       "  <thead>\n",
       "    <tr style=\"text-align: right;\">\n",
       "      <th></th>\n",
       "      <th>bus0</th>\n",
       "      <th>bus1</th>\n",
       "      <th>type</th>\n",
       "      <th>carrier</th>\n",
       "      <th>efficiency</th>\n",
       "      <th>active</th>\n",
       "      <th>build_year</th>\n",
       "      <th>lifetime</th>\n",
       "      <th>p_nom</th>\n",
       "      <th>p_nom_mod</th>\n",
       "      <th>...</th>\n",
       "      <th>underwater_fraction</th>\n",
       "      <th>geometry</th>\n",
       "      <th>reversed</th>\n",
       "      <th>underground</th>\n",
       "      <th>length_original</th>\n",
       "      <th>under_construction</th>\n",
       "      <th>location</th>\n",
       "      <th>project_status</th>\n",
       "      <th>tags</th>\n",
       "      <th>dc</th>\n",
       "    </tr>\n",
       "    <tr>\n",
       "      <th>Link</th>\n",
       "      <th></th>\n",
       "      <th></th>\n",
       "      <th></th>\n",
       "      <th></th>\n",
       "      <th></th>\n",
       "      <th></th>\n",
       "      <th></th>\n",
       "      <th></th>\n",
       "      <th></th>\n",
       "      <th></th>\n",
       "      <th></th>\n",
       "      <th></th>\n",
       "      <th></th>\n",
       "      <th></th>\n",
       "      <th></th>\n",
       "      <th></th>\n",
       "      <th></th>\n",
       "      <th></th>\n",
       "      <th></th>\n",
       "      <th></th>\n",
       "      <th></th>\n",
       "    </tr>\n",
       "  </thead>\n",
       "  <tbody>\n",
       "    <tr>\n",
       "      <th>relation/5487095</th>\n",
       "      <td>DK0 0</td>\n",
       "      <td>DK1 0</td>\n",
       "      <td></td>\n",
       "      <td>DC</td>\n",
       "      <td>0.975075</td>\n",
       "      <td>True</td>\n",
       "      <td>0</td>\n",
       "      <td>inf</td>\n",
       "      <td>600.0</td>\n",
       "      <td>0.0</td>\n",
       "      <td>...</td>\n",
       "      <td>0.563251</td>\n",
       "      <td>LINESTRING (10.5069 55.3673, 10.5068756 55.367...</td>\n",
       "      <td>False</td>\n",
       "      <td>1.0</td>\n",
       "      <td>216.510855</td>\n",
       "      <td>0.0</td>\n",
       "      <td></td>\n",
       "      <td></td>\n",
       "      <td></td>\n",
       "      <td>1.0</td>\n",
       "    </tr>\n",
       "    <tr>\n",
       "      <th>relation/8193755</th>\n",
       "      <td>BE0 0</td>\n",
       "      <td>DE0 24</td>\n",
       "      <td></td>\n",
       "      <td>DC</td>\n",
       "      <td>0.976280</td>\n",
       "      <td>True</td>\n",
       "      <td>0</td>\n",
       "      <td>inf</td>\n",
       "      <td>1000.0</td>\n",
       "      <td>0.0</td>\n",
       "      <td>...</td>\n",
       "      <td>0.000000</td>\n",
       "      <td>LINESTRING (5.6675 50.753, 5.6675409 50.752914...</td>\n",
       "      <td>False</td>\n",
       "      <td>1.0</td>\n",
       "      <td>163.444681</td>\n",
       "      <td>0.0</td>\n",
       "      <td></td>\n",
       "      <td></td>\n",
       "      <td></td>\n",
       "      <td>1.0</td>\n",
       "    </tr>\n",
       "    <tr>\n",
       "      <th>relation/2505320</th>\n",
       "      <td>DK1 0</td>\n",
       "      <td>DE0 11</td>\n",
       "      <td></td>\n",
       "      <td>DC</td>\n",
       "      <td>0.974026</td>\n",
       "      <td>True</td>\n",
       "      <td>0</td>\n",
       "      <td>inf</td>\n",
       "      <td>600.0</td>\n",
       "      <td>0.0</td>\n",
       "      <td>...</td>\n",
       "      <td>0.281098</td>\n",
       "      <td>LINESTRING (12.0074 55.4499, 12.0073721 55.449...</td>\n",
       "      <td>False</td>\n",
       "      <td>1.0</td>\n",
       "      <td>262.778550</td>\n",
       "      <td>0.0</td>\n",
       "      <td></td>\n",
       "      <td></td>\n",
       "      <td></td>\n",
       "      <td>1.0</td>\n",
       "    </tr>\n",
       "    <tr>\n",
       "      <th>relation/3918230</th>\n",
       "      <td>DE0 25</td>\n",
       "      <td>SE1 0</td>\n",
       "      <td></td>\n",
       "      <td>DC</td>\n",
       "      <td>0.955169</td>\n",
       "      <td>True</td>\n",
       "      <td>0</td>\n",
       "      <td>inf</td>\n",
       "      <td>600.0</td>\n",
       "      <td>0.0</td>\n",
       "      <td>...</td>\n",
       "      <td>0.927588</td>\n",
       "      <td>LINESTRING (10.8022 53.8958, 10.802197 53.8958...</td>\n",
       "      <td>False</td>\n",
       "      <td>1.0</td>\n",
       "      <td>1102.948245</td>\n",
       "      <td>0.0</td>\n",
       "      <td></td>\n",
       "      <td></td>\n",
       "      <td></td>\n",
       "      <td>1.0</td>\n",
       "    </tr>\n",
       "    <tr>\n",
       "      <th>relation/8185420</th>\n",
       "      <td>DK0 0</td>\n",
       "      <td>NL0 0</td>\n",
       "      <td></td>\n",
       "      <td>DC</td>\n",
       "      <td>0.966905</td>\n",
       "      <td>True</td>\n",
       "      <td>0</td>\n",
       "      <td>inf</td>\n",
       "      <td>700.0</td>\n",
       "      <td>0.0</td>\n",
       "      <td>...</td>\n",
       "      <td>0.926393</td>\n",
       "      <td>LINESTRING (8.7045 55.5305, 8.7030898 55.53044...</td>\n",
       "      <td>False</td>\n",
       "      <td>1.0</td>\n",
       "      <td>578.122730</td>\n",
       "      <td>0.0</td>\n",
       "      <td></td>\n",
       "      <td></td>\n",
       "      <td></td>\n",
       "      <td>1.0</td>\n",
       "    </tr>\n",
       "  </tbody>\n",
       "</table>\n",
       "<p>5 rows × 51 columns</p>\n",
       "</div>"
      ],
      "text/plain": [
       "                    bus0    bus1 type carrier  efficiency  active  build_year  \\\n",
       "Link                                                                            \n",
       "relation/5487095   DK0 0   DK1 0           DC    0.975075    True           0   \n",
       "relation/8193755   BE0 0  DE0 24           DC    0.976280    True           0   \n",
       "relation/2505320   DK1 0  DE0 11           DC    0.974026    True           0   \n",
       "relation/3918230  DE0 25   SE1 0           DC    0.955169    True           0   \n",
       "relation/8185420   DK0 0   NL0 0           DC    0.966905    True           0   \n",
       "\n",
       "                  lifetime   p_nom  p_nom_mod  ...  underwater_fraction  \\\n",
       "Link                                           ...                        \n",
       "relation/5487095       inf   600.0        0.0  ...             0.563251   \n",
       "relation/8193755       inf  1000.0        0.0  ...             0.000000   \n",
       "relation/2505320       inf   600.0        0.0  ...             0.281098   \n",
       "relation/3918230       inf   600.0        0.0  ...             0.927588   \n",
       "relation/8185420       inf   700.0        0.0  ...             0.926393   \n",
       "\n",
       "                                                           geometry  reversed  \\\n",
       "Link                                                                            \n",
       "relation/5487095  LINESTRING (10.5069 55.3673, 10.5068756 55.367...     False   \n",
       "relation/8193755  LINESTRING (5.6675 50.753, 5.6675409 50.752914...     False   \n",
       "relation/2505320  LINESTRING (12.0074 55.4499, 12.0073721 55.449...     False   \n",
       "relation/3918230  LINESTRING (10.8022 53.8958, 10.802197 53.8958...     False   \n",
       "relation/8185420  LINESTRING (8.7045 55.5305, 8.7030898 55.53044...     False   \n",
       "\n",
       "                  underground  length_original  under_construction  location  \\\n",
       "Link                                                                           \n",
       "relation/5487095          1.0       216.510855                 0.0             \n",
       "relation/8193755          1.0       163.444681                 0.0             \n",
       "relation/2505320          1.0       262.778550                 0.0             \n",
       "relation/3918230          1.0      1102.948245                 0.0             \n",
       "relation/8185420          1.0       578.122730                 0.0             \n",
       "\n",
       "                  project_status  tags   dc  \n",
       "Link                                         \n",
       "relation/5487095                        1.0  \n",
       "relation/8193755                        1.0  \n",
       "relation/2505320                        1.0  \n",
       "relation/3918230                        1.0  \n",
       "relation/8185420                        1.0  \n",
       "\n",
       "[5 rows x 51 columns]"
      ]
     },
     "execution_count": 20,
     "metadata": {},
     "output_type": "execute_result"
    }
   ],
   "source": [
    "dc_links = n_nep_lines_links.links.query(\"carrier=='DC'\")\n",
    "dc_links.head()"
   ]
  },
  {
   "cell_type": "code",
   "execution_count": 21,
   "metadata": {},
   "outputs": [
    {
     "data": {
      "text/plain": [
       "20220.436007161625"
      ]
     },
     "execution_count": 21,
     "metadata": {},
     "output_type": "execute_result"
    }
   ],
   "source": [
    "dc_links_cap = dc_links.p_nom.mul(dc_links.length).div(1e3).sum() # TWkm\n",
    "dc_links_cap"
   ]
  },
  {
   "cell_type": "code",
   "execution_count": 22,
   "metadata": {},
   "outputs": [
    {
     "data": {
      "text/plain": [
       "162528.12917020073"
      ]
     },
     "execution_count": 22,
     "metadata": {},
     "output_type": "execute_result"
    }
   ],
   "source": [
    "grid_cap_w_nep_lines_links = line_cap + dc_links_cap\n",
    "grid_cap_w_nep_lines_links"
   ]
  },
  {
   "cell_type": "markdown",
   "metadata": {
    "jp-MarkdownHeadingCollapsed": true
   },
   "source": [
    "## Calculate ratios"
   ]
  },
  {
   "cell_type": "code",
   "execution_count": 23,
   "metadata": {},
   "outputs": [
    {
     "data": {
      "text/plain": [
       "1.1661884560923848"
      ]
     },
     "execution_count": 23,
     "metadata": {},
     "output_type": "execute_result"
    }
   ],
   "source": [
    "# Ratio with NEP lines + links and without NEP\n",
    "grid_cap_w_nep_lines_links/grid_cap_wo_nep"
   ]
  },
  {
   "cell_type": "code",
   "execution_count": 24,
   "metadata": {},
   "outputs": [
    {
     "data": {
      "text/plain": [
       "1.1125160483857912"
      ]
     },
     "execution_count": 24,
     "metadata": {},
     "output_type": "execute_result"
    }
   ],
   "source": [
    "# Ratio with NEP lines + links and NEP lines\n",
    "grid_cap_w_nep_lines_links/grid_cap_w_nep_lines"
   ]
  },
  {
   "cell_type": "markdown",
   "metadata": {},
   "source": [
    "## Carbon emission targets"
   ]
  },
  {
   "cell_type": "code",
   "execution_count": 7,
   "metadata": {
    "is_executing": true
   },
   "outputs": [],
   "source": [
    "ctrys = ['AT', 'BE', 'CH', 'CZ', 'DE', 'DK', 'FR', 'IT', 'LU', 'NL', 'PL', 'SE']"
   ]
  },
  {
   "cell_type": "code",
   "execution_count": 8,
   "metadata": {},
   "outputs": [],
   "source": [
    "\n",
    "# 1990 emissions in MtCO2\n",
    "co2_totals = pd.read_csv(\"../data/co2_totals_1990.csv\", index_col=0).loc[ctrys]"
   ]
  },
  {
   "cell_type": "code",
   "execution_count": 18,
   "metadata": {},
   "outputs": [],
   "source": [
    "# 2005 emissions in MtCO2\n",
    "co2_totals_2005 = pd.read_csv(\"../data/co2_totals_2005.csv\", index_col=0).loc[ctrys]"
   ]
  },
  {
   "cell_type": "code",
   "execution_count": 19,
   "metadata": {},
   "outputs": [
    {
     "data": {
      "text/plain": [
       "Country_code\n",
       "AT      62.124701\n",
       "BE     120.309343\n",
       "CH      44.534441\n",
       "CZ     166.068823\n",
       "DE    1052.348544\n",
       "DK      54.685986\n",
       "FR     400.777042\n",
       "IT     438.008802\n",
       "LU      11.847635\n",
       "NL     163.302301\n",
       "PL     376.546518\n",
       "SE      57.348825\n",
       "dtype: float64"
      ]
     },
     "execution_count": 19,
     "metadata": {},
     "output_type": "execute_result"
    }
   ],
   "source": [
    "# Total emissions excl. LULUCF\n",
    "co2_totals_excl_lulucf = co2_totals.drop([\"LULUCF\"], axis=1).sum(axis=1)\n",
    "co2_totals_excl_lulucf"
   ]
  },
  {
   "cell_type": "code",
   "execution_count": 20,
   "metadata": {},
   "outputs": [
    {
     "data": {
      "text/plain": [
       "Country_code\n",
       "AT      49.968104\n",
       "BE     117.060288\n",
       "CH      42.515838\n",
       "CZ     160.298010\n",
       "DE    1021.884333\n",
       "DK      60.858777\n",
       "FR     374.572263\n",
       "IT     432.346810\n",
       "LU      11.927560\n",
       "NL     169.786966\n",
       "PL     343.554029\n",
       "SE      21.112932\n",
       "dtype: float64"
      ]
     },
     "execution_count": 20,
     "metadata": {},
     "output_type": "execute_result"
    }
   ],
   "source": [
    "# Total emissions incl. LULUCF\n",
    "co2_totals_incl_lulucf = co2_totals.sum(axis=1)\n",
    "co2_totals_incl_lulucf"
   ]
  },
  {
   "cell_type": "code",
   "execution_count": 21,
   "metadata": {},
   "outputs": [
    {
     "data": {
      "text/plain": [
       "Country_code\n",
       "AT     79.192432\n",
       "BE    125.661688\n",
       "CH     45.915746\n",
       "CZ    126.738399\n",
       "DE    866.388549\n",
       "DK     52.164863\n",
       "FR    426.412463\n",
       "IT    500.005676\n",
       "LU     12.105448\n",
       "NL    177.897237\n",
       "PL    323.161267\n",
       "SE     53.852857\n",
       "dtype: float64"
      ]
     },
     "execution_count": 21,
     "metadata": {},
     "output_type": "execute_result"
    }
   ],
   "source": [
    "# Total emissions excl. LULUCF\n",
    "co2_totals_excl_lulucf_2005 = co2_totals_2005.drop([\"LULUCF\"], axis=1).sum(axis=1)\n",
    "co2_totals_excl_lulucf_2005"
   ]
  },
  {
   "cell_type": "code",
   "execution_count": 22,
   "metadata": {},
   "outputs": [
    {
     "data": {
      "text/plain": [
       "Country_code\n",
       "AT     68.414161\n",
       "BE    124.024742\n",
       "CH     43.712103\n",
       "CZ    119.316791\n",
       "DE    851.168952\n",
       "DK     57.805099\n",
       "FR    377.355895\n",
       "IT    463.962937\n",
       "LU     11.462305\n",
       "NL    183.428661\n",
       "PL    271.748435\n",
       "SE     19.936933\n",
       "dtype: float64"
      ]
     },
     "execution_count": 22,
     "metadata": {},
     "output_type": "execute_result"
    }
   ],
   "source": [
    "# Total emissions incl. LULUCF 2005\n",
    "co2_totals_incl_lulucf_2005 = co2_totals_2005.sum(axis=1)\n",
    "co2_totals_incl_lulucf_2005"
   ]
  },
  {
   "cell_type": "code",
   "execution_count": 23,
   "metadata": {},
   "outputs": [],
   "source": [
    "co2_totals_2005_all = pd.read_csv(\"../data/co2_totals_2005.csv\", index_col=0)\n",
    "co2_totals_excl_lulucf_2005_all = co2_totals_2005_all.drop([\"LULUCF\"], axis=1).sum(axis=1)"
   ]
  },
  {
   "cell_type": "code",
   "execution_count": 27,
   "metadata": {},
   "outputs": [],
   "source": [
    "co2_totals_2005_all = pd.read_csv(\"../data/co2_totals_2005.csv\", index_col=0)\n",
    "co2_totals_incl_lulucf_2005_all = co2_totals_2005_all.sum(axis=1)"
   ]
  },
  {
   "cell_type": "code",
   "execution_count": 28,
   "metadata": {},
   "outputs": [
    {
     "data": {
      "text/plain": [
       "0.6245472968134671"
      ]
     },
     "execution_count": 28,
     "metadata": {},
     "output_type": "execute_result"
    }
   ],
   "source": [
    "emission_share_included_ctrys_excl_lulucf = co2_totals_excl_lulucf_2005.sum()/co2_totals_excl_lulucf_2005_all.sum()\n",
    "emission_share_included_ctrys_excl_lulucf"
   ]
  },
  {
   "cell_type": "code",
   "execution_count": 29,
   "metadata": {},
   "outputs": [
    {
     "data": {
      "text/plain": [
       "0.6327636937085288"
      ]
     },
     "execution_count": 29,
     "metadata": {},
     "output_type": "execute_result"
    }
   ],
   "source": [
    "emission_share_included_ctrys_incl_lulucf = co2_totals_incl_lulucf_2005.sum()/co2_totals_incl_lulucf_2005_all.sum()\n",
    "emission_share_included_ctrys_incl_lulucf"
   ]
  },
  {
   "cell_type": "markdown",
   "metadata": {},
   "source": [
    "### ESR targets 2030 (compared to 2005) [Source](https://climate.ec.europa.eu/eu-action/effort-sharing-member-states-emission-targets/effort-sharing-2021-2030-targets-and-flexibilities_en)"
   ]
  },
  {
   "cell_type": "code",
   "execution_count": 9,
   "metadata": {},
   "outputs": [],
   "source": [
    "esr_targets = {\n",
    "    \"AT\": 0.48,\n",
    "    \"BE\": 0.47,\n",
    "    \"CZ\": 0.26,\n",
    "    \"DE\": 0.5,\n",
    "    \"DK\": 0.5,\n",
    "    \"FR\": 0.475,\n",
    "    \"IT\": 0.437,\n",
    "    \"LU\": 0.5,\n",
    "    \"NL\": 0.48,\n",
    "    \"PL\": 0.177,\n",
    "    \"SE\": 0.5,\n",
    "}"
   ]
  },
  {
   "cell_type": "markdown",
   "metadata": {},
   "source": [
    "### Country specific emission reduction targets\n",
    "\n",
    "| Country | 2030 | 2035 | 2040 | 2045 | 2050 | Source |\n",
    "|---------|------|------|------|------|------|--------|\n",
    "| DE | 65% below 1990 excl. LULUCF | - | 85% below 1990 excl. LULUCF | 100% | - | [Source](https://www.bundesregierung.de/breg-de/themen/klimaschutz/klimaschutzgesetz-2021-1913672) |\n",
    "| AT | 48% below 2005 excl. LULUCF | - | 100% | - | - | [Source1](https://climate.ec.europa.eu/eu-action/effort-sharing-member-states-emission-targets/effort-sharing-2021-2030-targets-and-flexibilities_en) [Source2](https://www.sustainability.gov/pdfs/austria-nzgi-roadmap.pdf) |\n",
    "| BE | 55% below 1990 excl. LULUCF | - | - | - | 100% | [Source](https://www.sustainability.gov/pdfs/belgium-nzgi-roadmap.pdf) |\n",
    "| CH | 50% below 1990 excl. LULUCF | - | - |  - | 100% | [Source](https://www.bafu.admin.ch/bafu/en/home/topics/climate/info-specialists/emission-reduction/reduction-targets.html) |\n",
    "| CZ | 26% below 2005 excl. LULUCF | - | - |  - | 100% | [Source](https://tracker.carbongap.org/region/czech-republic/) |\n",
    "| DK | 70% below 1990 incl. LULUCF and 50% below 2005 excl. LULUCF | - | - |  100% | 110% | [Source](https://unfccc.int/sites/default/files/resource/SBI60_MA_DNK-7June2024-Presentation.pdf) |\n",
    "| FR | 47.5% below 2005 excl. LULUCF | - | - |  - | 100% | [Source](https://climate.ec.europa.eu/eu-action/effort-sharing-member-states-emission-targets/effort-sharing-2021-2030-targets-and-flexibilities_en) |\n",
    "| IT | 43.7% below 2005 excl. LULUCF | - | - |  - | 100% | [Source1](https://climate.ec.europa.eu/eu-action/effort-sharing-member-states-emission-targets/effort-sharing-2021-2030-targets-and-flexibilities_en) [Source2](https://www.iea.org/countries/italy#) |\n",
    "| LU | 55% below 2005 excl. LULUCF | - | - |  - | 100% | [Source](https://gouvernement.lu/en/dossiers/2023/2023-pnec.html) |\n",
    "| NL | 55% below 1990 | - | - |  - | 100% | [Source](https://commission.europa.eu/document/download/b6d21e56-4297-4b91-a692-300716209f72_en?filename=NL_FINAL%20UPDATED%20NECP%202021-2030%20%28English%29.pdf) |\n",
    "| PL | 17.7% below 2005 excl. LULUCF | - | - |  - |  | [Source](https://climate.ec.europa.eu/eu-action/effort-sharing-member-states-emission-targets/effort-sharing-2021-2030-targets-and-flexibilities_en) |\n",
    "| SE | 63% below 1990 | - | 75% below 1990 |  100% |  | [Source](https://www.bafu.admin.ch/bafu/en/home/topics/climate/info-specialists/emission-reduction/reduction-targets.html) |"
   ]
  },
  {
   "cell_type": "code",
   "execution_count": 10,
   "metadata": {},
   "outputs": [
    {
     "name": "stdout",
     "output_type": "stream",
     "text": [
      "{'DE': 0.75, 'BE': 0.6625000000000001, 'CH': 0.625, 'DK': 0.7999999999999999, 'NL': 0.6625000000000001, 'SE': 0.69, 'PL': 0.26549999999999996} {'AT': 0.74, 'CZ': 0.445, 'FR': 0.60625, 'IT': 0.57775, 'LU': 0.6625000000000001}\n"
     ]
    }
   ],
   "source": [
    "# calculate linearly interpolated 2035 targets\n",
    "# base 1990\n",
    "target2035_base1990 = dict(DE = 0.75,\n",
    "BE = 0.55 + (1-0.55)*(2035-2030)/(2050-2030),\n",
    "CH = 0.625,\n",
    "DK = 0.7 + (1-0.7)*(2035-2030)/(2045-2030),\n",
    "NL = 0.55 + (1-0.55)*(2035-2030)/(2050-2030),\n",
    "SE = 0.69,\n",
    "PL = (esr_targets[\"PL\"]/esr_targets[\"DE\"])*0.75\n",
    ")\n",
    "# base 2005\n",
    "# Polands 2035 target is deduced based on the ESR distrubution key in relation to the German interpolated target\n",
    "target2035_base2005 = dict(AT = 0.74,\n",
    "CZ = 0.26 + (1-0.26)*(2035-2030)/(2050-2030),\n",
    "FR = 0.475 + (1-0.475)*(2035-2030)/(2050-2030),\n",
    "IT = 0.437 + (1-0.437)*(2035-2030)/(2050-2030),\n",
    "LU = 0.55 + (1-0.55)*(2035-2030)/(2050-2030)\n",
    ")\n",
    "print(target2035_base1990, target2035_base2005)"
   ]
  },
  {
   "cell_type": "code",
   "execution_count": 11,
   "metadata": {},
   "outputs": [
    {
     "data": {
      "text/html": [
       "<div>\n",
       "<style scoped>\n",
       "    .dataframe tbody tr th:only-of-type {\n",
       "        vertical-align: middle;\n",
       "    }\n",
       "\n",
       "    .dataframe tbody tr th {\n",
       "        vertical-align: top;\n",
       "    }\n",
       "\n",
       "    .dataframe thead th {\n",
       "        text-align: right;\n",
       "    }\n",
       "</style>\n",
       "<table border=\"1\" class=\"dataframe\">\n",
       "  <thead>\n",
       "    <tr style=\"text-align: right;\">\n",
       "      <th></th>\n",
       "      <th>base1990</th>\n",
       "      <th>base2005</th>\n",
       "    </tr>\n",
       "    <tr>\n",
       "      <th>Country_code</th>\n",
       "      <th></th>\n",
       "      <th></th>\n",
       "    </tr>\n",
       "  </thead>\n",
       "  <tbody>\n",
       "    <tr>\n",
       "      <th>AT</th>\n",
       "      <td>NaN</td>\n",
       "      <td>0.74000</td>\n",
       "    </tr>\n",
       "    <tr>\n",
       "      <th>BE</th>\n",
       "      <td>0.6625</td>\n",
       "      <td>NaN</td>\n",
       "    </tr>\n",
       "    <tr>\n",
       "      <th>CH</th>\n",
       "      <td>0.6250</td>\n",
       "      <td>NaN</td>\n",
       "    </tr>\n",
       "    <tr>\n",
       "      <th>CZ</th>\n",
       "      <td>NaN</td>\n",
       "      <td>0.44500</td>\n",
       "    </tr>\n",
       "    <tr>\n",
       "      <th>DE</th>\n",
       "      <td>0.7500</td>\n",
       "      <td>NaN</td>\n",
       "    </tr>\n",
       "    <tr>\n",
       "      <th>DK</th>\n",
       "      <td>0.8000</td>\n",
       "      <td>NaN</td>\n",
       "    </tr>\n",
       "    <tr>\n",
       "      <th>FR</th>\n",
       "      <td>NaN</td>\n",
       "      <td>0.60625</td>\n",
       "    </tr>\n",
       "    <tr>\n",
       "      <th>IT</th>\n",
       "      <td>NaN</td>\n",
       "      <td>0.57775</td>\n",
       "    </tr>\n",
       "    <tr>\n",
       "      <th>LU</th>\n",
       "      <td>NaN</td>\n",
       "      <td>0.66250</td>\n",
       "    </tr>\n",
       "    <tr>\n",
       "      <th>NL</th>\n",
       "      <td>0.6625</td>\n",
       "      <td>NaN</td>\n",
       "    </tr>\n",
       "    <tr>\n",
       "      <th>PL</th>\n",
       "      <td>0.2655</td>\n",
       "      <td>NaN</td>\n",
       "    </tr>\n",
       "    <tr>\n",
       "      <th>SE</th>\n",
       "      <td>0.6900</td>\n",
       "      <td>NaN</td>\n",
       "    </tr>\n",
       "  </tbody>\n",
       "</table>\n",
       "</div>"
      ],
      "text/plain": [
       "              base1990  base2005\n",
       "Country_code                    \n",
       "AT                 NaN   0.74000\n",
       "BE              0.6625       NaN\n",
       "CH              0.6250       NaN\n",
       "CZ                 NaN   0.44500\n",
       "DE              0.7500       NaN\n",
       "DK              0.8000       NaN\n",
       "FR                 NaN   0.60625\n",
       "IT                 NaN   0.57775\n",
       "LU                 NaN   0.66250\n",
       "NL              0.6625       NaN\n",
       "PL              0.2655       NaN\n",
       "SE              0.6900       NaN"
      ]
     },
     "execution_count": 11,
     "metadata": {},
     "output_type": "execute_result"
    }
   ],
   "source": [
    "target_2035 = pd.DataFrame(index=co2_totals.index)\n",
    "target_2035[\"base1990\"] = target2035_base1990\n",
    "target_2035[\"base2005\"] = target2035_base2005\n",
    "target_2035"
   ]
  },
  {
   "cell_type": "code",
   "execution_count": 12,
   "metadata": {},
   "outputs": [
    {
     "data": {
      "text/plain": [
       "2947.9029606100003"
      ]
     },
     "execution_count": 12,
     "metadata": {},
     "output_type": "execute_result"
    }
   ],
   "source": [
    "# Calculate aggregated 1990 emissions in MtCO2\n",
    "co2_1990_aggregated = co2_totals_excl_lulucf.sum()\n",
    "co2_1990_aggregated"
   ]
  },
  {
   "cell_type": "code",
   "execution_count": 13,
   "metadata": {},
   "outputs": [
    {
     "data": {
      "text/plain": [
       "1154.8379684469976"
      ]
     },
     "execution_count": 13,
     "metadata": {},
     "output_type": "execute_result"
    }
   ],
   "source": [
    "# Calculate absolute target emissions in 2035 based on shares\n",
    "target_2035[\"absolute_emissions\"] = ((1-target_2035.base1990) * co2_totals_excl_lulucf).combine_first((1-target_2035.base2005) * co2_totals_excl_lulucf_2005)\n",
    "target_2035_aggregated = target_2035.absolute_emissions.sum()\n",
    "target_2035_aggregated"
   ]
  },
  {
   "cell_type": "code",
   "execution_count": 14,
   "metadata": {},
   "outputs": [
    {
     "data": {
      "text/plain": [
       "0.392"
      ]
     },
     "execution_count": 14,
     "metadata": {},
     "output_type": "execute_result"
    }
   ],
   "source": [
    "# Calculate share of 1990 emissions\n",
    "round(target_2035_aggregated/co2_1990_aggregated,3)"
   ]
  },
  {
   "cell_type": "markdown",
   "metadata": {},
   "source": [
    "Alternate approach: For missing values take interpolated emission reduction target for Germany 2035 (75%). For other countries take distribution key from [EU effort sharing regulation](https://climate.ec.europa.eu/eu-action/effort-sharing-member-states-emission-targets/effort-sharing-2021-2030-targets-and-flexibilities_en). Then calculate total emissions based on 1990 values and weighted emission reduction target."
   ]
  },
  {
   "cell_type": "code",
   "execution_count": 15,
   "metadata": {},
   "outputs": [
    {
     "data": {
      "text/html": [
       "<div>\n",
       "<style scoped>\n",
       "    .dataframe tbody tr th:only-of-type {\n",
       "        vertical-align: middle;\n",
       "    }\n",
       "\n",
       "    .dataframe tbody tr th {\n",
       "        vertical-align: top;\n",
       "    }\n",
       "\n",
       "    .dataframe thead th {\n",
       "        text-align: right;\n",
       "    }\n",
       "</style>\n",
       "<table border=\"1\" class=\"dataframe\">\n",
       "  <thead>\n",
       "    <tr style=\"text-align: right;\">\n",
       "      <th></th>\n",
       "      <th>base1990</th>\n",
       "      <th>base2005</th>\n",
       "      <th>absolute_emissions</th>\n",
       "    </tr>\n",
       "    <tr>\n",
       "      <th>Country_code</th>\n",
       "      <th></th>\n",
       "      <th></th>\n",
       "      <th></th>\n",
       "    </tr>\n",
       "  </thead>\n",
       "  <tbody>\n",
       "    <tr>\n",
       "      <th>AT</th>\n",
       "      <td>NaN</td>\n",
       "      <td>0.74000</td>\n",
       "      <td>20.590032</td>\n",
       "    </tr>\n",
       "    <tr>\n",
       "      <th>BE</th>\n",
       "      <td>0.6625</td>\n",
       "      <td>NaN</td>\n",
       "      <td>40.604403</td>\n",
       "    </tr>\n",
       "    <tr>\n",
       "      <th>CH</th>\n",
       "      <td>0.6250</td>\n",
       "      <td>NaN</td>\n",
       "      <td>16.700415</td>\n",
       "    </tr>\n",
       "    <tr>\n",
       "      <th>CZ</th>\n",
       "      <td>NaN</td>\n",
       "      <td>0.44500</td>\n",
       "      <td>70.339812</td>\n",
       "    </tr>\n",
       "    <tr>\n",
       "      <th>DE</th>\n",
       "      <td>0.7500</td>\n",
       "      <td>NaN</td>\n",
       "      <td>263.087136</td>\n",
       "    </tr>\n",
       "    <tr>\n",
       "      <th>DK</th>\n",
       "      <td>0.8000</td>\n",
       "      <td>NaN</td>\n",
       "      <td>10.937197</td>\n",
       "    </tr>\n",
       "    <tr>\n",
       "      <th>FR</th>\n",
       "      <td>NaN</td>\n",
       "      <td>0.60625</td>\n",
       "      <td>167.899907</td>\n",
       "    </tr>\n",
       "    <tr>\n",
       "      <th>IT</th>\n",
       "      <td>NaN</td>\n",
       "      <td>0.57775</td>\n",
       "      <td>211.127397</td>\n",
       "    </tr>\n",
       "    <tr>\n",
       "      <th>LU</th>\n",
       "      <td>NaN</td>\n",
       "      <td>0.66250</td>\n",
       "      <td>4.085589</td>\n",
       "    </tr>\n",
       "    <tr>\n",
       "      <th>NL</th>\n",
       "      <td>0.6625</td>\n",
       "      <td>NaN</td>\n",
       "      <td>55.114527</td>\n",
       "    </tr>\n",
       "    <tr>\n",
       "      <th>PL</th>\n",
       "      <td>0.2655</td>\n",
       "      <td>NaN</td>\n",
       "      <td>276.573417</td>\n",
       "    </tr>\n",
       "    <tr>\n",
       "      <th>SE</th>\n",
       "      <td>0.6900</td>\n",
       "      <td>NaN</td>\n",
       "      <td>17.778136</td>\n",
       "    </tr>\n",
       "  </tbody>\n",
       "</table>\n",
       "</div>"
      ],
      "text/plain": [
       "              base1990  base2005  absolute_emissions\n",
       "Country_code                                        \n",
       "AT                 NaN   0.74000           20.590032\n",
       "BE              0.6625       NaN           40.604403\n",
       "CH              0.6250       NaN           16.700415\n",
       "CZ                 NaN   0.44500           70.339812\n",
       "DE              0.7500       NaN          263.087136\n",
       "DK              0.8000       NaN           10.937197\n",
       "FR                 NaN   0.60625          167.899907\n",
       "IT                 NaN   0.57775          211.127397\n",
       "LU                 NaN   0.66250            4.085589\n",
       "NL              0.6625       NaN           55.114527\n",
       "PL              0.2655       NaN          276.573417\n",
       "SE              0.6900       NaN           17.778136"
      ]
     },
     "execution_count": 15,
     "metadata": {},
     "output_type": "execute_result"
    }
   ],
   "source": [
    "target_2035"
   ]
  },
  {
   "cell_type": "markdown",
   "metadata": {},
   "source": [
    "## Europe's 2040 climate target\n",
    "Source: https://eur-lex.europa.eu/resource.html?uri=cellar:6c154426-c5a6-11ee-95d9-01aa75ed71a1.0001.02/DOC_3&format=PDF"
   ]
  },
  {
   "cell_type": "code",
   "execution_count": 3,
   "metadata": {},
   "outputs": [],
   "source": [
    "# calculate linearly interpolated 2035 targets\n",
    "target_sector = pd.read_csv(\"../data/co2_total_sector.csv\", index_col=0)\n",
    "target_sector['2035 S2'] = (target_sector['2030'] + target_sector['2040 S2'])/2\n",
    "target_sector_share = target_sector/target_sector.loc['Total Gross GHG Emissions',:]"
   ]
  },
  {
   "cell_type": "code",
   "execution_count": 4,
   "metadata": {},
   "outputs": [
    {
     "data": {
      "text/html": [
       "<div>\n",
       "<style scoped>\n",
       "    .dataframe tbody tr th:only-of-type {\n",
       "        vertical-align: middle;\n",
       "    }\n",
       "\n",
       "    .dataframe tbody tr th {\n",
       "        vertical-align: top;\n",
       "    }\n",
       "\n",
       "    .dataframe thead th {\n",
       "        text-align: right;\n",
       "    }\n",
       "</style>\n",
       "<table border=\"1\" class=\"dataframe\">\n",
       "  <thead>\n",
       "    <tr style=\"text-align: right;\">\n",
       "      <th></th>\n",
       "      <th>2005</th>\n",
       "      <th>2015</th>\n",
       "      <th>2030</th>\n",
       "      <th>2040 S1</th>\n",
       "      <th>2040 S2</th>\n",
       "      <th>2040 S3</th>\n",
       "      <th>2040 LIFE</th>\n",
       "      <th>2050 S1</th>\n",
       "      <th>2050 S2</th>\n",
       "      <th>2050 S3</th>\n",
       "      <th>2050 LIFE</th>\n",
       "      <th>2035 S2</th>\n",
       "    </tr>\n",
       "    <tr>\n",
       "      <th>MtC02-eq</th>\n",
       "      <th></th>\n",
       "      <th></th>\n",
       "      <th></th>\n",
       "      <th></th>\n",
       "      <th></th>\n",
       "      <th></th>\n",
       "      <th></th>\n",
       "      <th></th>\n",
       "      <th></th>\n",
       "      <th></th>\n",
       "      <th></th>\n",
       "      <th></th>\n",
       "    </tr>\n",
       "  </thead>\n",
       "  <tbody>\n",
       "    <tr>\n",
       "      <th>Total Gross GHG Emissions</th>\n",
       "      <td>4641</td>\n",
       "      <td>3914</td>\n",
       "      <td>2301</td>\n",
       "      <td>1273</td>\n",
       "      <td>943</td>\n",
       "      <td>748</td>\n",
       "      <td>740</td>\n",
       "      <td>416</td>\n",
       "      <td>413</td>\n",
       "      <td>411</td>\n",
       "      <td>360.00</td>\n",
       "      <td>1622.0</td>\n",
       "    </tr>\n",
       "    <tr>\n",
       "      <th>Power and district heating</th>\n",
       "      <td>1300</td>\n",
       "      <td>1012</td>\n",
       "      <td>339</td>\n",
       "      <td>123</td>\n",
       "      <td>42</td>\n",
       "      <td>23</td>\n",
       "      <td>34</td>\n",
       "      <td>21</td>\n",
       "      <td>22</td>\n",
       "      <td>19</td>\n",
       "      <td>15.00</td>\n",
       "      <td>190.5</td>\n",
       "    </tr>\n",
       "    <tr>\n",
       "      <th>Other Energy sectors*</th>\n",
       "      <td>277</td>\n",
       "      <td>237</td>\n",
       "      <td>133</td>\n",
       "      <td>71</td>\n",
       "      <td>59</td>\n",
       "      <td>53</td>\n",
       "      <td>57</td>\n",
       "      <td>39</td>\n",
       "      <td>39</td>\n",
       "      <td>38</td>\n",
       "      <td>36.00</td>\n",
       "      <td>96.0</td>\n",
       "    </tr>\n",
       "    <tr>\n",
       "      <th>Industry (Energy)</th>\n",
       "      <td>469</td>\n",
       "      <td>360</td>\n",
       "      <td>232</td>\n",
       "      <td>126</td>\n",
       "      <td>94</td>\n",
       "      <td>75</td>\n",
       "      <td>86</td>\n",
       "      <td>6</td>\n",
       "      <td>6</td>\n",
       "      <td>9</td>\n",
       "      <td>11.00</td>\n",
       "      <td>163.0</td>\n",
       "    </tr>\n",
       "    <tr>\n",
       "      <th>Domestic Transport</th>\n",
       "      <td>822</td>\n",
       "      <td>772</td>\n",
       "      <td>583</td>\n",
       "      <td>190</td>\n",
       "      <td>143</td>\n",
       "      <td>120</td>\n",
       "      <td>134</td>\n",
       "      <td>10</td>\n",
       "      <td>8</td>\n",
       "      <td>7</td>\n",
       "      <td>9.00</td>\n",
       "      <td>363.0</td>\n",
       "    </tr>\n",
       "    <tr>\n",
       "      <th>Residential and Services**</th>\n",
       "      <td>648</td>\n",
       "      <td>514</td>\n",
       "      <td>221</td>\n",
       "      <td>119</td>\n",
       "      <td>92</td>\n",
       "      <td>75</td>\n",
       "      <td>92</td>\n",
       "      <td>20</td>\n",
       "      <td>19</td>\n",
       "      <td>19</td>\n",
       "      <td>29.00</td>\n",
       "      <td>156.5</td>\n",
       "    </tr>\n",
       "    <tr>\n",
       "      <th>Industry (Non-Energy)</th>\n",
       "      <td>343</td>\n",
       "      <td>233</td>\n",
       "      <td>157</td>\n",
       "      <td>139</td>\n",
       "      <td>88</td>\n",
       "      <td>14</td>\n",
       "      <td>13</td>\n",
       "      <td>7</td>\n",
       "      <td>7</td>\n",
       "      <td>7</td>\n",
       "      <td>7.00</td>\n",
       "      <td>122.5</td>\n",
       "    </tr>\n",
       "    <tr>\n",
       "      <th>Other Non-Energv sectors***</th>\n",
       "      <td>101</td>\n",
       "      <td>130</td>\n",
       "      <td>56</td>\n",
       "      <td>33</td>\n",
       "      <td>26</td>\n",
       "      <td>25</td>\n",
       "      <td>25</td>\n",
       "      <td>23</td>\n",
       "      <td>22</td>\n",
       "      <td>22</td>\n",
       "      <td>22.00</td>\n",
       "      <td>41.0</td>\n",
       "    </tr>\n",
       "    <tr>\n",
       "      <th>Intra-EU aviation</th>\n",
       "      <td>35</td>\n",
       "      <td>38</td>\n",
       "      <td>43</td>\n",
       "      <td>31</td>\n",
       "      <td>29</td>\n",
       "      <td>28</td>\n",
       "      <td>14</td>\n",
       "      <td>14</td>\n",
       "      <td>12</td>\n",
       "      <td>11</td>\n",
       "      <td>10.00</td>\n",
       "      <td>36.0</td>\n",
       "    </tr>\n",
       "    <tr>\n",
       "      <th>Intra-EU navigation</th>\n",
       "      <td>31</td>\n",
       "      <td>27</td>\n",
       "      <td>25</td>\n",
       "      <td>7</td>\n",
       "      <td>6</td>\n",
       "      <td>4</td>\n",
       "      <td>0</td>\n",
       "      <td>0</td>\n",
       "      <td>0</td>\n",
       "      <td>0</td>\n",
       "      <td>0.00</td>\n",
       "      <td>15.5</td>\n",
       "    </tr>\n",
       "    <tr>\n",
       "      <th>50% extra-EU maritime MRV</th>\n",
       "      <td>50</td>\n",
       "      <td>42</td>\n",
       "      <td>44</td>\n",
       "      <td>14</td>\n",
       "      <td>11</td>\n",
       "      <td>9</td>\n",
       "      <td>0</td>\n",
       "      <td>0</td>\n",
       "      <td>0</td>\n",
       "      <td>0</td>\n",
       "      <td>0.00</td>\n",
       "      <td>27.5</td>\n",
       "    </tr>\n",
       "    <tr>\n",
       "      <th>Agriculture****</th>\n",
       "      <td>390</td>\n",
       "      <td>385</td>\n",
       "      <td>361</td>\n",
       "      <td>351</td>\n",
       "      <td>302</td>\n",
       "      <td>271</td>\n",
       "      <td>209</td>\n",
       "      <td>249</td>\n",
       "      <td>249</td>\n",
       "      <td>249</td>\n",
       "      <td>194.00</td>\n",
       "      <td>331.5</td>\n",
       "    </tr>\n",
       "    <tr>\n",
       "      <th>Waste</th>\n",
       "      <td>155</td>\n",
       "      <td>118</td>\n",
       "      <td>87</td>\n",
       "      <td>68</td>\n",
       "      <td>55</td>\n",
       "      <td>55</td>\n",
       "      <td>55</td>\n",
       "      <td>32</td>\n",
       "      <td>32</td>\n",
       "      <td>32</td>\n",
       "      <td>0.32</td>\n",
       "      <td>71.0</td>\n",
       "    </tr>\n",
       "    <tr>\n",
       "      <th>C02 calibration</th>\n",
       "      <td>15</td>\n",
       "      <td>43</td>\n",
       "      <td>24</td>\n",
       "      <td>3</td>\n",
       "      <td>-1</td>\n",
       "      <td>-1</td>\n",
       "      <td>-1</td>\n",
       "      <td>0</td>\n",
       "      <td>0</td>\n",
       "      <td>0</td>\n",
       "      <td>0.00</td>\n",
       "      <td>11.5</td>\n",
       "    </tr>\n",
       "    <tr>\n",
       "      <th>Non-C02 calibration</th>\n",
       "      <td>5</td>\n",
       "      <td>2</td>\n",
       "      <td>-3</td>\n",
       "      <td>-3</td>\n",
       "      <td>-3</td>\n",
       "      <td>-3</td>\n",
       "      <td>-3</td>\n",
       "      <td>-3</td>\n",
       "      <td>-3</td>\n",
       "      <td>-3</td>\n",
       "      <td>-3.00</td>\n",
       "      <td>-3.0</td>\n",
       "    </tr>\n",
       "  </tbody>\n",
       "</table>\n",
       "</div>"
      ],
      "text/plain": [
       "                             2005  2015  2030  2040 S1  2040 S2  2040 S3  \\\n",
       "MtC02-eq                                                                   \n",
       "Total Gross GHG Emissions    4641  3914  2301     1273      943      748   \n",
       "Power and district heating   1300  1012   339      123       42       23   \n",
       "Other Energy sectors*         277   237   133       71       59       53   \n",
       "Industry (Energy)             469   360   232      126       94       75   \n",
       "Domestic Transport            822   772   583      190      143      120   \n",
       "Residential and Services**    648   514   221      119       92       75   \n",
       "Industry (Non-Energy)         343   233   157      139       88       14   \n",
       "Other Non-Energv sectors***   101   130    56       33       26       25   \n",
       "Intra-EU aviation              35    38    43       31       29       28   \n",
       "Intra-EU navigation            31    27    25        7        6        4   \n",
       "50% extra-EU maritime MRV      50    42    44       14       11        9   \n",
       "Agriculture****               390   385   361      351      302      271   \n",
       "Waste                         155   118    87       68       55       55   \n",
       "C02 calibration                15    43    24        3       -1       -1   \n",
       "Non-C02 calibration             5     2    -3       -3       -3       -3   \n",
       "\n",
       "                             2040 LIFE  2050 S1  2050 S2  2050 S3  2050 LIFE  \\\n",
       "MtC02-eq                                                                       \n",
       "Total Gross GHG Emissions          740      416      413      411     360.00   \n",
       "Power and district heating          34       21       22       19      15.00   \n",
       "Other Energy sectors*               57       39       39       38      36.00   \n",
       "Industry (Energy)                   86        6        6        9      11.00   \n",
       "Domestic Transport                 134       10        8        7       9.00   \n",
       "Residential and Services**          92       20       19       19      29.00   \n",
       "Industry (Non-Energy)               13        7        7        7       7.00   \n",
       "Other Non-Energv sectors***         25       23       22       22      22.00   \n",
       "Intra-EU aviation                   14       14       12       11      10.00   \n",
       "Intra-EU navigation                  0        0        0        0       0.00   \n",
       "50% extra-EU maritime MRV            0        0        0        0       0.00   \n",
       "Agriculture****                    209      249      249      249     194.00   \n",
       "Waste                               55       32       32       32       0.32   \n",
       "C02 calibration                     -1        0        0        0       0.00   \n",
       "Non-C02 calibration                 -3       -3       -3       -3      -3.00   \n",
       "\n",
       "                             2035 S2  \n",
       "MtC02-eq                              \n",
       "Total Gross GHG Emissions     1622.0  \n",
       "Power and district heating     190.5  \n",
       "Other Energy sectors*           96.0  \n",
       "Industry (Energy)              163.0  \n",
       "Domestic Transport             363.0  \n",
       "Residential and Services**     156.5  \n",
       "Industry (Non-Energy)          122.5  \n",
       "Other Non-Energv sectors***     41.0  \n",
       "Intra-EU aviation               36.0  \n",
       "Intra-EU navigation             15.5  \n",
       "50% extra-EU maritime MRV       27.5  \n",
       "Agriculture****                331.5  \n",
       "Waste                           71.0  \n",
       "C02 calibration                 11.5  \n",
       "Non-C02 calibration             -3.0  "
      ]
     },
     "execution_count": 4,
     "metadata": {},
     "output_type": "execute_result"
    }
   ],
   "source": [
    "target_sector"
   ]
  },
  {
   "cell_type": "code",
   "execution_count": 6,
   "metadata": {},
   "outputs": [
    {
     "data": {
      "text/plain": [
       "0.27311960542540076"
      ]
     },
     "execution_count": 6,
     "metadata": {},
     "output_type": "execute_result"
    }
   ],
   "source": [
    "# Select the included sector in the model (other energy sectors include non-CO2 GHG emissions and are thus excluded)\n",
    "include_sector = ['Power and district heating','Residential and Services**'] #,'Other Energy sectors*']\n",
    "\n",
    "target_sector_share_2035 = target_sector_share.loc[include_sector,'2035 S2'].sum()\n",
    "target_sector_share_2035"
   ]
  },
  {
   "cell_type": "code",
   "execution_count": 33,
   "metadata": {},
   "outputs": [
    {
     "data": {
      "text/html": [
       "<div>\n",
       "<style scoped>\n",
       "    .dataframe tbody tr th:only-of-type {\n",
       "        vertical-align: middle;\n",
       "    }\n",
       "\n",
       "    .dataframe tbody tr th {\n",
       "        vertical-align: top;\n",
       "    }\n",
       "\n",
       "    .dataframe thead th {\n",
       "        text-align: right;\n",
       "    }\n",
       "</style>\n",
       "<table border=\"1\" class=\"dataframe\">\n",
       "  <thead>\n",
       "    <tr style=\"text-align: right;\">\n",
       "      <th></th>\n",
       "      <th>base1990</th>\n",
       "      <th>base2005</th>\n",
       "      <th>absolute_emissions</th>\n",
       "      <th>included_sector_emissions</th>\n",
       "    </tr>\n",
       "    <tr>\n",
       "      <th>Country_code</th>\n",
       "      <th></th>\n",
       "      <th></th>\n",
       "      <th></th>\n",
       "      <th></th>\n",
       "    </tr>\n",
       "  </thead>\n",
       "  <tbody>\n",
       "    <tr>\n",
       "      <th>AT</th>\n",
       "      <td>NaN</td>\n",
       "      <td>0.74000</td>\n",
       "      <td>20.590032</td>\n",
       "      <td>4.404896</td>\n",
       "    </tr>\n",
       "    <tr>\n",
       "      <th>BE</th>\n",
       "      <td>0.6625</td>\n",
       "      <td>NaN</td>\n",
       "      <td>40.604403</td>\n",
       "      <td>8.686639</td>\n",
       "    </tr>\n",
       "    <tr>\n",
       "      <th>CH</th>\n",
       "      <td>0.6250</td>\n",
       "      <td>NaN</td>\n",
       "      <td>16.700415</td>\n",
       "      <td>3.572777</td>\n",
       "    </tr>\n",
       "    <tr>\n",
       "      <th>CZ</th>\n",
       "      <td>NaN</td>\n",
       "      <td>0.44500</td>\n",
       "      <td>70.339812</td>\n",
       "      <td>15.048036</td>\n",
       "    </tr>\n",
       "    <tr>\n",
       "      <th>DE</th>\n",
       "      <td>0.7500</td>\n",
       "      <td>NaN</td>\n",
       "      <td>263.087136</td>\n",
       "      <td>56.283130</td>\n",
       "    </tr>\n",
       "    <tr>\n",
       "      <th>DK</th>\n",
       "      <td>0.8000</td>\n",
       "      <td>NaN</td>\n",
       "      <td>10.937197</td>\n",
       "      <td>2.339832</td>\n",
       "    </tr>\n",
       "    <tr>\n",
       "      <th>FR</th>\n",
       "      <td>NaN</td>\n",
       "      <td>0.60625</td>\n",
       "      <td>167.899907</td>\n",
       "      <td>35.919401</td>\n",
       "    </tr>\n",
       "    <tr>\n",
       "      <th>IT</th>\n",
       "      <td>NaN</td>\n",
       "      <td>0.57775</td>\n",
       "      <td>211.127397</td>\n",
       "      <td>45.167205</td>\n",
       "    </tr>\n",
       "    <tr>\n",
       "      <th>LU</th>\n",
       "      <td>NaN</td>\n",
       "      <td>0.66250</td>\n",
       "      <td>4.085589</td>\n",
       "      <td>0.874044</td>\n",
       "    </tr>\n",
       "    <tr>\n",
       "      <th>NL</th>\n",
       "      <td>0.6625</td>\n",
       "      <td>NaN</td>\n",
       "      <td>55.114527</td>\n",
       "      <td>11.790839</td>\n",
       "    </tr>\n",
       "    <tr>\n",
       "      <th>PL</th>\n",
       "      <td>0.2655</td>\n",
       "      <td>NaN</td>\n",
       "      <td>276.573417</td>\n",
       "      <td>59.168296</td>\n",
       "    </tr>\n",
       "    <tr>\n",
       "      <th>SE</th>\n",
       "      <td>0.6900</td>\n",
       "      <td>NaN</td>\n",
       "      <td>17.778136</td>\n",
       "      <td>3.803337</td>\n",
       "    </tr>\n",
       "  </tbody>\n",
       "</table>\n",
       "</div>"
      ],
      "text/plain": [
       "              base1990  base2005  absolute_emissions  \\\n",
       "Country_code                                           \n",
       "AT                 NaN   0.74000           20.590032   \n",
       "BE              0.6625       NaN           40.604403   \n",
       "CH              0.6250       NaN           16.700415   \n",
       "CZ                 NaN   0.44500           70.339812   \n",
       "DE              0.7500       NaN          263.087136   \n",
       "DK              0.8000       NaN           10.937197   \n",
       "FR                 NaN   0.60625          167.899907   \n",
       "IT                 NaN   0.57775          211.127397   \n",
       "LU                 NaN   0.66250            4.085589   \n",
       "NL              0.6625       NaN           55.114527   \n",
       "PL              0.2655       NaN          276.573417   \n",
       "SE              0.6900       NaN           17.778136   \n",
       "\n",
       "              included_sector_emissions  \n",
       "Country_code                             \n",
       "AT                             4.404896  \n",
       "BE                             8.686639  \n",
       "CH                             3.572777  \n",
       "CZ                            15.048036  \n",
       "DE                            56.283130  \n",
       "DK                             2.339832  \n",
       "FR                            35.919401  \n",
       "IT                            45.167205  \n",
       "LU                             0.874044  \n",
       "NL                            11.790839  \n",
       "PL                            59.168296  \n",
       "SE                             3.803337  "
      ]
     },
     "execution_count": 33,
     "metadata": {},
     "output_type": "execute_result"
    }
   ],
   "source": [
    "target_2035['included_sector_emissions'] = target_2035['absolute_emissions'] * target_sector_share_2035\n",
    "target_2035"
   ]
  },
  {
   "cell_type": "code",
   "execution_count": 34,
   "metadata": {},
   "outputs": [
    {
     "data": {
      "text/plain": [
       "0.084"
      ]
     },
     "execution_count": 34,
     "metadata": {},
     "output_type": "execute_result"
    }
   ],
   "source": [
    "# Calculate share of 1990 emissions\n",
    "round(target_2035['included_sector_emissions'].sum()/co2_1990_aggregated,3)"
   ]
  },
  {
   "cell_type": "code",
   "execution_count": null,
   "metadata": {},
   "outputs": [],
   "source": []
  }
 ],
 "metadata": {
  "kernelspec": {
   "display_name": "Python 3 (ipykernel)",
   "language": "python",
   "name": "python3"
  },
  "language_info": {
   "codemirror_mode": {
    "name": "ipython",
    "version": 3
   },
   "file_extension": ".py",
   "mimetype": "text/x-python",
   "name": "python",
   "nbconvert_exporter": "python",
   "pygments_lexer": "ipython3",
   "version": "3.12.6"
  }
 },
 "nbformat": 4,
 "nbformat_minor": 4
}
