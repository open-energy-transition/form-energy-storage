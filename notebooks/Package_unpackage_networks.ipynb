{
 "cells": [
  {
   "cell_type": "markdown",
   "id": "cd825b03-c77f-44d9-88ed-4b0405dbe732",
   "metadata": {},
   "source": [
    "# Package/Unpackage Network\n",
    "\n",
    "This notebook includes a function designed to save networks as CSV files and convert them back to NetCDF format.\n",
    "\n",
    "To automate the conversion of CSV files into a PyPSA network and save them in the appropriate folder for the Snakemake workflow, follow these steps:\n",
    "\n",
    "1. Download the zip file for the scenarios.\n",
    "2. Unzip it and place the contents in the `raw_scenario_csv_folders` folder.\n",
    "\n",
    "Go to the next cell"
   ]
  },
  {
   "cell_type": "code",
   "execution_count": null,
   "id": "b7afbd10-ad89-4621-b9cb-d6afee378c12",
   "metadata": {},
   "outputs": [],
   "source": [
    "import pypsa\n",
    "import os.path\n",
    "import yaml\n",
    "import os\n",
    "\n",
    "import warnings\n",
    "\n",
    "warnings.filterwarnings(\"ignore\")\n",
    "\n",
    "config = {}\n",
    "for c in [\"kpi\",\"form\",\"default\"]:\n",
    "    with open(f\"../config/config.{c}.yaml\") as file:\n",
    "        config_append = yaml.safe_load(file)\n",
    "\n",
    "    config.update(config_append)\n",
    "\n",
    "with open(\"../config/scenarios.form.yaml\") as file:\n",
    "    config_scenarios = yaml.safe_load(file)\n",
    "\n",
    "def import_scenarios_from_netcdf(scenarios):\n",
    "# Creating the dictionary\n",
    "    scenarios_network = {}\n",
    "    \n",
    "    for scenario in scenarios:\n",
    "        if 'delay' in scenario:\n",
    "            postnetwork = \"base_s_52_lv1.012___2035.nc\"\n",
    "        else:\n",
    "            postnetwork = \"base_s_52_lv1.11___2035.nc\"\n",
    "\n",
    "        try:\n",
    "            n = pypsa.Network(f\"../results/{scenario}/{scenario}/postnetworks/{postnetwork}\")\n",
    "            scenarios_network.update({scenario:n})\n",
    "        except:\n",
    "            print(\"The \" + scenario + \" import from netCDF was unsuccessful.\")\n",
    "        \n",
    "    return scenarios_network\n",
    "\n",
    "def export_scenarios_to_netcdf(n_scenarios):\n",
    "    for scenario, n in n_scenarios.items():\n",
    "        if 'delay' in scenario:\n",
    "            postnetwork = \"base_s_52_lv1.012___2035.nc\"\n",
    "        else:\n",
    "            postnetwork = \"base_s_52_lv1.11___2035.nc\"\n",
    "        \n",
    "        path = f\"../results/{scenario}/{scenario}/postnetworks/\"\n",
    "        if not os.path.exists(path):\n",
    "            print(path + \" does not exist, creating it now.\")\n",
    "            os.makedirs(path)\n",
    "        n.export_to_netcdf(path + postnetwork)\n",
    "        print(\"The \" + scenario + \" has been exported to NetCDF in \" + path)\n",
    "\n",
    "def export_scenarios_to_csv(n_scenarios, custom_path=\"\"):\n",
    "    for scenario, n in n_scenarios.items():\n",
    "        if not os.path.exists(custom_path):\n",
    "            print(custom_path + \" does not exist, creating it now.\")\n",
    "            os.makedirs(custom_path)\n",
    "        n.export_to_csv_folder(custom_path + scenario)\n",
    "        print(\"The \" + scenario + \" has been exported to the CSV.\")\n",
    "\n",
    "def import_scenarios_from_csv(scenarios,custom_path=\"\"):\n",
    "# Creating the dictionary\n",
    "    scenarios_network = {}\n",
    "    \n",
    "    for scenario in scenarios:\n",
    "        network_path = custom_path + str(scenario)\n",
    "        try:\n",
    "            n = pypsa.Network()\n",
    "            n.import_from_csv_folder(network_path)\n",
    "            scenarios_network.update({scenario:n})\n",
    "            print(\"The \" + scenario + \" has been imported from the CSV.\")\n",
    "        except:\n",
    "            print(\"The \" + scenario + \" import from the CSV was unsuccessful.\")\n",
    "        \n",
    "    return scenarios_network\n",
    "\n",
    "print(\"here are the list of all scenarios according to scenarios.form.yaml:\")\n",
    "print(list(config_scenarios.keys()))"
   ]
  },
  {
   "cell_type": "markdown",
   "id": "8e12db5d-200d-4dd9-8a82-54b0f4a1fd4e",
   "metadata": {},
   "source": [
    "## Converting csvs to PyPSA Network to NetCDF \n",
    "\n",
    "3. Select the scenarios you want to import and it will create the pypsa network\n",
    "4. (Next cell) save the pypsa network in the appropriate folder for the snakemake workflow\n",
    "\n"
   ]
  },
  {
   "cell_type": "code",
   "execution_count": null,
   "id": "e6944ffb-8ff7-4c4d-adea-be7b6308c2eb",
   "metadata": {},
   "outputs": [],
   "source": [
    "# select all scenarios that you want to include\n",
    "scenarios_chosen = ['baseline-mds', 'baseline-nomds', 'mid-capex-mds', 'low-capex-mds',\n",
    "                    'cy2010-mds', 'cy2010-nomds', 'cy2012-mds', 'cy2012-nomds', 'cy1996-mds', 'cy1996-nomds', \n",
    "                    'nogasppde-mid-capex-mds', 'nogasppde-low-capex-mds', 'nogasppde-nomds', 'delayed-nep-mid-capex-mds', \n",
    "                    'delayed-nep-low-capex-mds', 'delayed-nep-nomds', 'gasprice-peak-mid-capex-mds', 'gasprice-peak-low-capex-mds', \n",
    "                    'gasprice-peak-nomds', 'cy2010-mid-capex-mds', 'cy2010-low-capex-mds', 'cy2012-mid-capex-mds', 'cy2012-low-capex-mds']\n",
    "\n",
    "directory = \"raw_scenario_csv_folders/\"\n",
    "scenarios_list = set(scenarios_chosen).intersection(os.listdir(directory))\n",
    "\n",
    "print(f\"importing {list(scenarios_list)}\")\n",
    "n_scenarios = import_scenarios_from_csv(scenarios_list,custom_path=directory)"
   ]
  },
  {
   "cell_type": "code",
   "execution_count": null,
   "id": "05956729-e103-4d96-a4f9-8a8f62ce01f8",
   "metadata": {},
   "outputs": [],
   "source": [
    "export_scenarios_to_netcdf(n_scenarios)"
   ]
  },
  {
   "cell_type": "markdown",
   "id": "c5b1e8e1-8e7a-4ae1-9002-8b9dd84b748c",
   "metadata": {},
   "source": [
    "# Archive\n",
    "\n",
    "**Import the network from NetCDF**"
   ]
  },
  {
   "cell_type": "code",
   "execution_count": null,
   "id": "4d33c0cb-f0ed-49c3-838c-26953e4c8ed9",
   "metadata": {},
   "outputs": [],
   "source": [
    "n_scenarios = import_scenarios_from_netcdf(scenarios_list)"
   ]
  },
  {
   "cell_type": "markdown",
   "id": "a472d205-d0d8-4e8d-8a3f-4b47e2397481",
   "metadata": {},
   "source": [
    "**Export the network to CSV**"
   ]
  },
  {
   "cell_type": "code",
   "execution_count": null,
   "id": "ee510dbd-4978-4a3c-a763-f50eb01549b4",
   "metadata": {},
   "outputs": [],
   "source": [
    "directory = \"raw_scenario_csv_folders/\"\n",
    "export_scenarios_to_csv(n_scenarios, custom_path = directory)"
   ]
  },
  {
   "cell_type": "markdown",
   "id": "f388760d-1912-4c4a-888d-423e19f7a17a",
   "metadata": {},
   "source": [
    "**Import the network from CSV**"
   ]
  },
  {
   "cell_type": "code",
   "execution_count": null,
   "id": "9e6efa6a-6d7e-4406-9206-bf995d9a5604",
   "metadata": {},
   "outputs": [],
   "source": [
    "n_scenarios = import_scenarios_from_csv(scenarios_list)"
   ]
  },
  {
   "cell_type": "markdown",
   "id": "64980020-7070-4043-9254-d896a583daae",
   "metadata": {},
   "source": [
    "**Export the network to NetCDF**"
   ]
  },
  {
   "cell_type": "code",
   "execution_count": null,
   "id": "63b9c875-3ee7-494c-88e7-76084316e902",
   "metadata": {},
   "outputs": [],
   "source": [
    "export_scenarios_to_netcdf(n_scenarios)"
   ]
  }
 ],
 "metadata": {
  "kernelspec": {
   "display_name": "Python 3 (ipykernel)",
   "language": "python",
   "name": "python3"
  },
  "language_info": {
   "codemirror_mode": {
    "name": "ipython",
    "version": 3
   },
   "file_extension": ".py",
   "mimetype": "text/x-python",
   "name": "python",
   "nbconvert_exporter": "python",
   "pygments_lexer": "ipython3",
   "version": "3.12.8"
  }
 },
 "nbformat": 4,
 "nbformat_minor": 5
}
