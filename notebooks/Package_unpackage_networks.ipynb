{
 "cells": [
  {
   "cell_type": "markdown",
   "id": "e15c1083-609e-4f87-a24b-94c9664012c8",
   "metadata": {},
   "source": [
    "# Package/Unpackage Network\n",
    "\n",
    "This notebook is used to save networks into csv and revert them back into netcdf"
   ]
  },
  {
   "cell_type": "code",
   "execution_count": 38,
   "id": "b7afbd10-ad89-4621-b9cb-d6afee378c12",
   "metadata": {},
   "outputs": [],
   "source": [
    "import pypsa\n",
    "import os.path\n",
    "import yaml\n",
    "import os\n",
    "\n",
    "import warnings\n",
    "\n",
    "warnings.filterwarnings(\"ignore\")\n",
    "\n",
    "config = {}\n",
    "for c in [\"kpi\",\"form\",\"default\"]:\n",
    "    with open(f\"../config/config.{c}.yaml\") as file:\n",
    "        config_append = yaml.safe_load(file)\n",
    "\n",
    "    config.update(config_append)\n",
    "\n",
    "with open(\"../config/scenarios.form.yaml\") as file:\n",
    "    config_scenarios = yaml.safe_load(file)"
   ]
  },
  {
   "cell_type": "code",
   "execution_count": 39,
   "id": "e6944ffb-8ff7-4c4d-adea-be7b6308c2eb",
   "metadata": {},
   "outputs": [
    {
     "name": "stdout",
     "output_type": "stream",
     "text": [
      "here are the list of all scenarios:\n",
      "['baseline-mds', 'baseline-nomds', 'mid-capex-mds', 'low-capex-mds', 'cy2010-mds', 'cy2010-nomds', 'cy2012-mds', 'cy2012-nomds', 'cy1996-mds', 'cy1996-nomds', 'nogasppde-mid-capex-mds', 'nogasppde-low-capex-mds', 'nogasppde-nomds', 'delayed-nep-mid-capex-mds', 'delayed-nep-low-capex-mds', 'delayed-nep-nomds', 'gasprice-peak-mid-capex-mds', 'gasprice-peak-low-capex-mds', 'gasprice-peak-nomds', 'cy2010-mid-capex-mds', 'cy2010-low-capex-mds', 'cy2012-mid-capex-mds', 'cy2012-low-capex-mds']\n",
      "importing all scenarios\n"
     ]
    }
   ],
   "source": [
    "def import_scenarios_from_netcdf(scenarios):\n",
    "# Creating the dictionary\n",
    "    scenarios_network = {}\n",
    "    \n",
    "    for scenario in scenarios:\n",
    "        if 'delay' in scenario:\n",
    "            postnetwork = \"base_s_52_lv1.012___2035.nc\"\n",
    "        else:\n",
    "            postnetwork = \"base_s_52_lv1.11___2035.nc\"\n",
    "\n",
    "        try:\n",
    "            n = pypsa.Network(f\"../results/{scenario}/{scenario}/postnetworks/{postnetwork}\")\n",
    "            scenarios_network.update({scenario:n})\n",
    "        except:\n",
    "            print(\"The \" + scenario + \" import from netCDF was unsuccessful.\")\n",
    "        \n",
    "    return scenarios_network\n",
    "\n",
    "def export_scenarios_to_netcdf(n_scenarios, custom_path=\"\"):\n",
    "    for scenario, n in n_scenarios.items():\n",
    "        if 'delay' in scenario:\n",
    "            postnetwork = \"base_s_52_lv1.012___2035.nc\"\n",
    "        else:\n",
    "            postnetwork = \"base_s_52_lv1.11___2035.nc\"\n",
    "        \n",
    "        path = f\"../results/{scenario}/{scenario}/postnetworks/\" if not custom_path else \"\"\n",
    "        if not os.path.exists(path):\n",
    "            print(path + \" does not exist, creating it now.\")\n",
    "            os.makedirs(path)\n",
    "        n.export_to_netcdf(path + postnetwork)\n",
    "        print(\"The \" + scenario + \" has been exported to NetCDF in \" + path)\n",
    "\n",
    "def export_scenarios_to_csv(n_scenarios, custom_path=\"\"):\n",
    "    for scenario, n in n_scenarios.items():\n",
    "        if not os.path.exists(custom_path):\n",
    "            print(custom_path + \" does not exist, creating it now.\")\n",
    "            os.makedirs(custom_path)\n",
    "        n.export_to_csv_folder(custom_path + scenario)\n",
    "        print(\"The \" + scenario + \" has been exported to the CSV.\")\n",
    "\n",
    "def import_scenarios_from_csv(scenarios,custom_path=\"\"):\n",
    "# Creating the dictionary\n",
    "    scenarios_network = {}\n",
    "    \n",
    "    for scenario in scenarios:\n",
    "        network_path = custom_path + str(scenario)\n",
    "        try:\n",
    "            n = pypsa.Network()\n",
    "            n.import_from_csv_folder(network_path)\n",
    "            scenarios_network.update({scenario:n})\n",
    "            print(\"The \" + scenario + \" has been imported from the CSV.\")\n",
    "        except:\n",
    "            print(\"The \" + scenario + \" import from the CSV was unsuccessful.\")\n",
    "        \n",
    "    return scenarios_network\n",
    "\n",
    "print(\"here are the list of all scenarios:\")\n",
    "print(list(config_scenarios.keys()))\n",
    "print(\"importing all scenarios\")"
   ]
  },
  {
   "cell_type": "code",
   "execution_count": 40,
   "id": "77c8bf0b-0647-4b47-a518-f5bc4a962c69",
   "metadata": {},
   "outputs": [],
   "source": [
    "scenarios_list = ['baseline-mds', 'baseline-nomds', 'mid-capex-mds', 'low-capex-mds', \n",
    "                  'cy2010-mds', 'cy2010-nomds', 'cy2012-mds', 'cy2012-nomds', 'cy1996-mds', 'cy1996-nomds', \n",
    "                  'nogasppde-mid-capex-mds', 'nogasppde-low-capex-mds', 'nogasppde-nomds', 'delayed-nep-mid-capex-mds', \n",
    "                  'delayed-nep-low-capex-mds', 'delayed-nep-nomds', 'gasprice-peak-mid-capex-mds', 'gasprice-peak-low-capex-mds', \n",
    "                  'gasprice-peak-nomds', 'cy2010-mid-capex-mds', 'cy2010-low-capex-mds', 'cy2012-mid-capex-mds', 'cy2012-low-capex-mds']"
   ]
  },
  {
   "cell_type": "markdown",
   "id": "c5b1e8e1-8e7a-4ae1-9002-8b9dd84b748c",
   "metadata": {},
   "source": [
    "**Import the network from NetCDF**"
   ]
  },
  {
   "cell_type": "code",
   "execution_count": null,
   "id": "4d33c0cb-f0ed-49c3-838c-26953e4c8ed9",
   "metadata": {},
   "outputs": [],
   "source": [
    "n_scenarios = import_scenarios_from_netcdf(scenarios_list)"
   ]
  },
  {
   "cell_type": "markdown",
   "id": "a472d205-d0d8-4e8d-8a3f-4b47e2397481",
   "metadata": {},
   "source": [
    "**Export the network to CSV**"
   ]
  },
  {
   "cell_type": "code",
   "execution_count": null,
   "id": "ee510dbd-4978-4a3c-a763-f50eb01549b4",
   "metadata": {},
   "outputs": [],
   "source": [
    "export_scenarios_to_csv(n_scenarios)"
   ]
  },
  {
   "cell_type": "markdown",
   "id": "f388760d-1912-4c4a-888d-423e19f7a17a",
   "metadata": {},
   "source": [
    "**Import the network from CSV**"
   ]
  },
  {
   "cell_type": "code",
   "execution_count": null,
   "id": "9e6efa6a-6d7e-4406-9206-bf995d9a5604",
   "metadata": {},
   "outputs": [],
   "source": [
    "n_scenarios = import_scenarios_from_csv(scenarios_list)"
   ]
  },
  {
   "cell_type": "markdown",
   "id": "64980020-7070-4043-9254-d896a583daae",
   "metadata": {},
   "source": [
    "**Export the network to NetCDF**"
   ]
  },
  {
   "cell_type": "code",
   "execution_count": null,
   "id": "63b9c875-3ee7-494c-88e7-76084316e902",
   "metadata": {},
   "outputs": [],
   "source": [
    "export_scenarios_to_netcdf(n_scenarios)"
   ]
  },
  {
   "cell_type": "code",
   "execution_count": null,
   "id": "e828c94e-a4c3-4d0b-b851-023fcfe44ae7",
   "metadata": {},
   "outputs": [],
   "source": []
  }
 ],
 "metadata": {
  "kernelspec": {
   "display_name": "Python 3 (ipykernel)",
   "language": "python",
   "name": "python3"
  },
  "language_info": {
   "codemirror_mode": {
    "name": "ipython",
    "version": 3
   },
   "file_extension": ".py",
   "mimetype": "text/x-python",
   "name": "python",
   "nbconvert_exporter": "python",
   "pygments_lexer": "ipython3",
   "version": "3.12.8"
  }
 },
 "nbformat": 4,
 "nbformat_minor": 5
}
